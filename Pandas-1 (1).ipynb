{
 "cells": [
  {
   "cell_type": "markdown",
   "id": "01ee1569-928b-4ce4-b8e7-67ef78b04b32",
   "metadata": {},
   "source": [
    "# Pandas\n",
    "\n",
    "- Pandas is a data analysis package\n",
    "- Pandas run on the top of numpy\n"
   ]
  },
  {
   "cell_type": "code",
   "execution_count": 48,
   "id": "86b325cd-7cb9-4bd7-8923-111b225b3f6e",
   "metadata": {},
   "outputs": [],
   "source": [
    "# !pip install pandas\n",
    "# !pip install seaborn"
   ]
  },
  {
   "cell_type": "code",
   "execution_count": 49,
   "id": "fb0439bd",
   "metadata": {},
   "outputs": [],
   "source": [
    "\n",
    "import numpy as np\n",
    "import pandas as pd\n",
    "import seaborn as sns"
   ]
  },
  {
   "cell_type": "markdown",
   "id": "e5ff25f4-896a-404a-9f52-d717555ed423",
   "metadata": {},
   "source": [
    "# Creating a dataframe object"
   ]
  },
  {
   "cell_type": "code",
   "execution_count": null,
   "id": "c6ae8f7c-c55d-46fb-b2ea-8d614722e6e1",
   "metadata": {},
   "outputs": [],
   "source": [
    "data = {'name' : ['John','David','Sara'],\n",
    "        'Salary' : [50,70,60],\n",
    "        'Email' : ['John@yahoolmail.com', 'David@google.com','Sara@gmail.com']}\n",
    "\n",
    "data"
   ]
  },
  {
   "cell_type": "code",
   "execution_count": null,
   "id": "dc42ce41-1578-4966-babf-b14b85529b95",
   "metadata": {},
   "outputs": [],
   "source": [
    "pd.DataFrame(data)"
   ]
  },
  {
   "cell_type": "code",
   "execution_count": null,
   "id": "69758187-9264-439a-8c8c-26e2b733f72e",
   "metadata": {},
   "outputs": [],
   "source": [
    "names = ['John','David','Sara']\n",
    "salaries = [50,70,60]\n",
    "emails = ['John@yahoolmail.com', 'David@google.com','Sara@gmail.com']\n",
    "data = list(zip(names,salaries,emails))\n",
    "data"
   ]
  },
  {
   "cell_type": "code",
   "execution_count": null,
   "id": "ed869ca8-fd1b-456c-b2f2-2875a3ceeba5",
   "metadata": {},
   "outputs": [],
   "source": [
    "df = pd.DataFrame(data, columns = ['Name','Salary','Email'])\n",
    "df"
   ]
  },
  {
   "cell_type": "code",
   "execution_count": null,
   "id": "814e6a17-9003-4276-9ccf-c9fedad21f1f",
   "metadata": {},
   "outputs": [],
   "source": [
    "type(df)"
   ]
  },
  {
   "cell_type": "code",
   "execution_count": null,
   "id": "7f342f03-a99e-463b-b55c-47dc489c0728",
   "metadata": {},
   "outputs": [],
   "source": [
    "pd.DataFrame([1,2,3])"
   ]
  },
  {
   "cell_type": "markdown",
   "id": "07a3be73-0890-4a73-8e09-c73c890f56fc",
   "metadata": {},
   "source": [
    "# Reading DataFrame from External Files\n"
   ]
  },
  {
   "cell_type": "code",
   "execution_count": 10,
   "id": "a89b6eda-09a4-41cd-a852-4cfd7496dd07",
   "metadata": {},
   "outputs": [],
   "source": [
    "df = pd.read_csv(r'D:\\Training\\LTIMindTree\\Python\\data\\loans data.csv')"
   ]
  },
  {
   "cell_type": "code",
   "execution_count": null,
   "id": "26e39adf-8891-4cf9-b886-d0405c72e06a",
   "metadata": {},
   "outputs": [],
   "source": [
    "df.head(2)"
   ]
  },
  {
   "cell_type": "code",
   "execution_count": null,
   "id": "27d02dfb-cd1a-4a59-b9d7-ae702abf9495",
   "metadata": {},
   "outputs": [],
   "source": [
    "df.tail(2)"
   ]
  },
  {
   "cell_type": "code",
   "execution_count": null,
   "id": "9624dfe6-abc7-46a1-bcb9-096b61db7275",
   "metadata": {},
   "outputs": [],
   "source": [
    "df.sample()"
   ]
  },
  {
   "cell_type": "code",
   "execution_count": null,
   "id": "0ac309d3-3b10-4137-b1c0-fdf4f4c2db86",
   "metadata": {},
   "outputs": [],
   "source": [
    "df.shape"
   ]
  },
  {
   "cell_type": "markdown",
   "id": "852f1522-d46a-4a2e-8a68-dcb611b62e98",
   "metadata": {
    "jp-MarkdownHeadingCollapsed": true
   },
   "source": [
    "# DataFrame Subsetting / Slicing"
   ]
  },
  {
   "cell_type": "markdown",
   "id": "7d207588-294f-4b78-ab90-246cc1718e9a",
   "metadata": {
    "jp-MarkdownHeadingCollapsed": true
   },
   "source": [
    "## 1. iloc : Integer Location\n",
    "- df.iloc[row,col]"
   ]
  },
  {
   "cell_type": "code",
   "execution_count": null,
   "id": "5866d3a3-5243-459f-b09d-16d19596a4cf",
   "metadata": {},
   "outputs": [],
   "source": [
    "df"
   ]
  },
  {
   "cell_type": "code",
   "execution_count": null,
   "id": "89b4b463-eb75-4e56-ad79-4fb329ece668",
   "metadata": {},
   "outputs": [],
   "source": [
    "df.iloc[::2,:]"
   ]
  },
  {
   "cell_type": "code",
   "execution_count": null,
   "id": "7f3e6752-246c-4204-8e44-712e5299c71a",
   "metadata": {},
   "outputs": [],
   "source": [
    "df.iloc[:5,:]"
   ]
  },
  {
   "cell_type": "code",
   "execution_count": null,
   "id": "dbd4e2f7-5bcb-46ac-a413-07a54800047c",
   "metadata": {},
   "outputs": [],
   "source": [
    "df.iloc[7,8]"
   ]
  },
  {
   "cell_type": "markdown",
   "id": "5adb286b-8e33-40d2-83d4-1cb780abcbb8",
   "metadata": {
    "jp-MarkdownHeadingCollapsed": true
   },
   "source": [
    "## 2.loc"
   ]
  },
  {
   "cell_type": "code",
   "execution_count": null,
   "id": "b8f9729b-4d3e-43a5-8149-ab216807ec1b",
   "metadata": {},
   "outputs": [],
   "source": [
    "df.index"
   ]
  },
  {
   "cell_type": "code",
   "execution_count": null,
   "id": "d0f80a44-af55-4cd7-b67e-1230c88afd7a",
   "metadata": {},
   "outputs": [],
   "source": [
    "df.columns"
   ]
  },
  {
   "cell_type": "code",
   "execution_count": null,
   "id": "e29f0790-5136-4695-a2ac-b9b384a75719",
   "metadata": {},
   "outputs": [],
   "source": [
    "df.head(3)"
   ]
  },
  {
   "cell_type": "code",
   "execution_count": null,
   "id": "09fae063-fd10-4afb-a7f3-9f46e237300a",
   "metadata": {},
   "outputs": [],
   "source": [
    "df.loc[0:5,['ID','State']]"
   ]
  },
  {
   "cell_type": "code",
   "execution_count": null,
   "id": "b1315c2b-e480-42ff-ba1f-d81900611a2d",
   "metadata": {},
   "outputs": [],
   "source": [
    "df.loc[0:5,'ID':'FICO.Range']"
   ]
  },
  {
   "cell_type": "code",
   "execution_count": null,
   "id": "51ee5469-fb3a-4645-843c-8cdea596c4bc",
   "metadata": {},
   "outputs": [],
   "source": [
    "df.head()"
   ]
  },
  {
   "cell_type": "code",
   "execution_count": null,
   "id": "9bd9439d-a291-4fdf-a76a-d2226c56909f",
   "metadata": {},
   "outputs": [],
   "source": [
    "df.set_index('ID', inplace = True)\n",
    "df.head(3)"
   ]
  },
  {
   "cell_type": "code",
   "execution_count": null,
   "id": "8e3fce50-49ac-4c04-ac59-0cb0d0123730",
   "metadata": {},
   "outputs": [],
   "source": [
    "df.reset_index(inplace = True)\n",
    "df.head()"
   ]
  },
  {
   "cell_type": "code",
   "execution_count": null,
   "id": "54e8f7fe-9a3f-412c-9529-7c683c0e91d4",
   "metadata": {},
   "outputs": [],
   "source": [
    "df.set_index('ID', inplace = True)\n",
    "df.head(3)"
   ]
  },
  {
   "cell_type": "code",
   "execution_count": null,
   "id": "b269fc36-0724-45f5-b449-951bfe5ab859",
   "metadata": {},
   "outputs": [],
   "source": [
    "df.sort_index()"
   ]
  },
  {
   "cell_type": "code",
   "execution_count": null,
   "id": "ac48ee2f-9422-467b-982b-38500551b215",
   "metadata": {},
   "outputs": [],
   "source": [
    "df.reset_index(inplace = True)"
   ]
  },
  {
   "cell_type": "code",
   "execution_count": null,
   "id": "f05ea9af-528d-4b01-8b51-186eba11a51f",
   "metadata": {},
   "outputs": [],
   "source": [
    "df.head()"
   ]
  },
  {
   "cell_type": "markdown",
   "id": "527546b8-6afc-40e9-acdf-5dc0c960ba93",
   "metadata": {
    "jp-MarkdownHeadingCollapsed": true
   },
   "source": [
    "# Core components of pandas"
   ]
  },
  {
   "cell_type": "markdown",
   "id": "0be4e874-c47b-4d78-be47-2ab15bb2721e",
   "metadata": {},
   "source": [
    "### 1. pandas dataframe"
   ]
  },
  {
   "cell_type": "code",
   "execution_count": null,
   "id": "9d5a0221-3231-492a-bd2d-a9469fd06a12",
   "metadata": {},
   "outputs": [],
   "source": [
    "type(df)"
   ]
  },
  {
   "cell_type": "code",
   "execution_count": null,
   "id": "dc7f199b-4e1d-4d36-84bb-8fe8c18d08db",
   "metadata": {},
   "outputs": [],
   "source": [
    "type(df.iloc[:5,:5])"
   ]
  },
  {
   "cell_type": "code",
   "execution_count": null,
   "id": "cb3aa049-9288-4059-9a85-b42d659e0e7e",
   "metadata": {},
   "outputs": [],
   "source": [
    "df[['ID','State']].values"
   ]
  },
  {
   "cell_type": "code",
   "execution_count": null,
   "id": "985af122-bbe6-4ea4-b74b-a4e398ec6c3e",
   "metadata": {},
   "outputs": [],
   "source": [
    "type(df[['ID','State']])"
   ]
  },
  {
   "cell_type": "markdown",
   "id": "5171f847-528a-4449-9fc0-d9ecd5439e95",
   "metadata": {},
   "source": [
    "### 2. pandas series"
   ]
  },
  {
   "cell_type": "code",
   "execution_count": null,
   "id": "83ac6f29-f011-4473-af62-69f8505807e8",
   "metadata": {},
   "outputs": [],
   "source": [
    "type(df.iloc[0])"
   ]
  },
  {
   "cell_type": "code",
   "execution_count": null,
   "id": "fae05576-4350-41c3-bd78-8be9c5891932",
   "metadata": {},
   "outputs": [],
   "source": [
    "type(df.iloc[:,0])"
   ]
  },
  {
   "cell_type": "code",
   "execution_count": null,
   "id": "7fb759a0-b261-4a5b-8c1a-6a542a7ee70e",
   "metadata": {},
   "outputs": [],
   "source": [
    "df.iloc[0,0]"
   ]
  },
  {
   "cell_type": "code",
   "execution_count": null,
   "id": "c1bb6e0d-3cbf-4e5f-9b64-bc0aa33e28b8",
   "metadata": {},
   "outputs": [],
   "source": [
    "type(df.iloc[0,0])"
   ]
  },
  {
   "cell_type": "code",
   "execution_count": null,
   "id": "89b75870-1622-41fc-9e6a-3ae9d148207b",
   "metadata": {},
   "outputs": [],
   "source": [
    "type(df['State'])"
   ]
  },
  {
   "cell_type": "code",
   "execution_count": null,
   "id": "a5abee0e-7f6e-4c33-815a-ded78436cacf",
   "metadata": {},
   "outputs": [],
   "source": [
    "type(df.State)"
   ]
  },
  {
   "cell_type": "code",
   "execution_count": null,
   "id": "b4f8fb5e-8e46-4a7c-b840-50f2c40be401",
   "metadata": {},
   "outputs": [],
   "source": [
    "df.iloc[0]"
   ]
  },
  {
   "cell_type": "code",
   "execution_count": null,
   "id": "77e7df76-899b-429e-90ec-71681bce5869",
   "metadata": {},
   "outputs": [],
   "source": [
    "df['State'].index"
   ]
  },
  {
   "cell_type": "markdown",
   "id": "5e0eb8ca-1907-4024-b0af-ddda0c678cfd",
   "metadata": {
    "jp-MarkdownHeadingCollapsed": true
   },
   "source": [
    "# Conditional Filtering"
   ]
  },
  {
   "cell_type": "code",
   "execution_count": null,
   "id": "2c6db373-e8f4-4ef1-a48c-c62cf3251329",
   "metadata": {},
   "outputs": [],
   "source": [
    "df.head(3)"
   ]
  },
  {
   "cell_type": "code",
   "execution_count": null,
   "id": "77883f87-3fb2-451d-ab28-bf48f032afc1",
   "metadata": {},
   "outputs": [],
   "source": [
    "df['Home.Ownership'].value_counts()"
   ]
  },
  {
   "cell_type": "code",
   "execution_count": null,
   "id": "8ba38ab2-f600-4a4c-aef6-2e49126d6f29",
   "metadata": {},
   "outputs": [],
   "source": [
    "# get all records where home ownership is mortgage\n",
    "df[df['Home.Ownership'] == 'MORTGAGE'].shape"
   ]
  },
  {
   "cell_type": "code",
   "execution_count": null,
   "id": "4814a759-bb72-4f59-a353-400144d6dca7",
   "metadata": {},
   "outputs": [],
   "source": [
    "# get all records for the State Texas (TX)\n",
    "\n",
    "df[df['State'] == 'TX'].shape"
   ]
  },
  {
   "cell_type": "code",
   "execution_count": null,
   "id": "0bcc3219-73be-418f-a623-f560e29e8be4",
   "metadata": {},
   "outputs": [],
   "source": [
    "# Get all texas records where home ownership is mortgage\n",
    "\n",
    "df[(df['State'] == 'TX') & (df['Home.Ownership'] == 'MORTGAGE')].shape"
   ]
  },
  {
   "cell_type": "code",
   "execution_count": null,
   "id": "d918ea94-3036-45c5-a0f6-61b607fe1861",
   "metadata": {},
   "outputs": [],
   "source": [
    "# get all records where state is texas or New Jersey\n",
    "\n",
    "df[(df['State'] == 'TX') | (df['State'] == 'NJ')].shape"
   ]
  },
  {
   "cell_type": "code",
   "execution_count": null,
   "id": "d9a41a55-1820-438d-a91d-59ec4b3268df",
   "metadata": {},
   "outputs": [],
   "source": [
    "# get all records where state is texas or New Jersey\n",
    "\n",
    "df[df['State'].isin(['NJ','TX'])].shape"
   ]
  },
  {
   "cell_type": "code",
   "execution_count": null,
   "id": "8e093bc7-6f6c-47cc-b3e3-4abc71ed6bc5",
   "metadata": {},
   "outputs": [],
   "source": [
    "# get all records where home ownership is not mortgage\n",
    "\n",
    "df[~(df['Home.Ownership'] == 'MORTGAGE')].shape"
   ]
  },
  {
   "cell_type": "code",
   "execution_count": null,
   "id": "4b463613-1ff5-4813-ac2f-300513ae1e7a",
   "metadata": {},
   "outputs": [],
   "source": [
    "# get all records where State is NJ,SC or NY\n",
    "\n",
    "df[df['State'].isin(['NY','NJ','SC'])].shape"
   ]
  },
  {
   "cell_type": "code",
   "execution_count": null,
   "id": "09ed0d24-df5f-484d-9f3e-75a4e4e566f3",
   "metadata": {},
   "outputs": [],
   "source": [
    "# Repeat above with np.where\n",
    "df.iloc[np.where(df['State'].isin(['NY','NJ','SC']))].shape"
   ]
  },
  {
   "cell_type": "code",
   "execution_count": null,
   "id": "f83d784b-1185-47a6-b1c1-4e420a733df8",
   "metadata": {},
   "outputs": [],
   "source": [
    "# Get NJ records with Loan purpose as either home_improvement/major purchase and monthly income < 5000\n",
    "\n",
    "df[(df['State'] == 'NJ') & (df['Loan.Purpose'].isin(['major_purchase','home_improvement'])) & (df['Monthly.Income'] < 5000)].shape"
   ]
  },
  {
   "cell_type": "code",
   "execution_count": null,
   "id": "6aa74bae-5579-4f31-869b-0fe0537bc994",
   "metadata": {},
   "outputs": [],
   "source": [
    "# Get non NJ records with Loan purpose except home_improvement/major purchase and monthly income < 1000\n",
    "\n",
    "df[~(df['State'] == 'NJ') & ~(df['Loan.Purpose'].isin(['major_purchase','home_improvement'])) & (df['Monthly.Income'] < 1000)].shape"
   ]
  },
  {
   "cell_type": "markdown",
   "id": "338f8f58-d021-4f49-8a87-7fbd4dd860b4",
   "metadata": {},
   "source": [
    "# Data Processing\n",
    "\n",
    "- drop columns\n",
    "- add columns\n",
    "- changing datatype of columns\n",
    "- handling missing values\n",
    "- Feature Scaling"
   ]
  },
  {
   "cell_type": "markdown",
   "id": "77f21918-b184-4a5c-9476-92a934b69ec4",
   "metadata": {},
   "source": [
    "### Add columns"
   ]
  },
  {
   "cell_type": "code",
   "execution_count": null,
   "id": "37cdd6c4-ca7c-4c08-b1eb-8c8d9fd21d60",
   "metadata": {},
   "outputs": [],
   "source": [
    "# add columns\n",
    "\n",
    "df['New Col'] = 0\n",
    "df"
   ]
  },
  {
   "cell_type": "markdown",
   "id": "039e5a75-6d14-486c-ba1b-6652da67f480",
   "metadata": {},
   "source": [
    "### Drop Columns"
   ]
  },
  {
   "cell_type": "code",
   "execution_count": null,
   "id": "1de6de9c-7224-4f19-b77d-1cd30bd9eeab",
   "metadata": {},
   "outputs": [],
   "source": [
    "# drop columns\n",
    "\n",
    "del df['New Col']\n",
    "# df.drop(['ID','Home.Ownership'], axis = 1)\n",
    "# df = df.drop(['ID','Home.Ownership'], axis = 1)\n",
    "# df.drop(['ID','Home.Ownership'], axis = 1, inplace = True)\n"
   ]
  },
  {
   "cell_type": "code",
   "execution_count": null,
   "id": "27fdc83b-3b97-4d80-b627-bd6c30c93c06",
   "metadata": {},
   "outputs": [],
   "source": [
    "df"
   ]
  },
  {
   "cell_type": "markdown",
   "id": "52034982-a2b2-4a3f-885a-cb9434f0e63a",
   "metadata": {},
   "source": [
    "### Changing datatypes of your columns"
   ]
  },
  {
   "cell_type": "code",
   "execution_count": null,
   "id": "701238cf-e1d1-4795-9ff1-c358c69332b9",
   "metadata": {},
   "outputs": [],
   "source": [
    "# Changing datatypes\n",
    "df.dtypes"
   ]
  },
  {
   "cell_type": "code",
   "execution_count": null,
   "id": "cd237d6f-a1ed-427a-859b-a689acf0bc63",
   "metadata": {},
   "outputs": [],
   "source": [
    "df[df['Amount.Requested'] == '.']"
   ]
  },
  {
   "cell_type": "code",
   "execution_count": 11,
   "id": "8c183994-1728-4861-9284-9efffb2630c9",
   "metadata": {},
   "outputs": [],
   "source": [
    "df['Amount.Requested'] = pd.to_numeric(df['Amount.Requested'],errors = 'coerce')"
   ]
  },
  {
   "cell_type": "code",
   "execution_count": 20,
   "id": "45fe9b5d-51bb-4528-bef5-686f0dd85e4c",
   "metadata": {},
   "outputs": [
    {
     "data": {
      "text/plain": [
       "Loan.Length\n",
       "36 months    1951\n",
       "60 months     548\n",
       ".               1\n",
       "Name: count, dtype: int64"
      ]
     },
     "execution_count": 20,
     "metadata": {},
     "output_type": "execute_result"
    }
   ],
   "source": [
    "df['Loan.Length'].value_counts()"
   ]
  },
  {
   "cell_type": "code",
   "execution_count": null,
   "id": "81b44e3c-7699-417f-943f-82641688bf6f",
   "metadata": {},
   "outputs": [],
   "source": [
    "df.head()"
   ]
  },
  {
   "cell_type": "code",
   "execution_count": null,
   "id": "02514b1d-280c-476b-b0f4-8de6c1de9e07",
   "metadata": {},
   "outputs": [],
   "source": [
    "df['Loan.Length'] = df['Loan.Length'].str.replace(\"months\",\"\")"
   ]
  },
  {
   "cell_type": "code",
   "execution_count": 15,
   "id": "1a79b197-80f4-48c0-b186-124d2c62a104",
   "metadata": {},
   "outputs": [
    {
     "data": {
      "text/plain": [
       "1"
      ]
     },
     "execution_count": 15,
     "metadata": {},
     "output_type": "execute_result"
    }
   ],
   "source": [
    "df['Loan.Length'].isnull().sum()"
   ]
  },
  {
   "cell_type": "code",
   "execution_count": 19,
   "id": "c21ea131-1cbc-4b6f-adcf-1a2a994a55e9",
   "metadata": {},
   "outputs": [
    {
     "data": {
      "text/html": [
       "<div>\n",
       "<style scoped>\n",
       "    .dataframe tbody tr th:only-of-type {\n",
       "        vertical-align: middle;\n",
       "    }\n",
       "\n",
       "    .dataframe tbody tr th {\n",
       "        vertical-align: top;\n",
       "    }\n",
       "\n",
       "    .dataframe thead th {\n",
       "        text-align: right;\n",
       "    }\n",
       "</style>\n",
       "<table border=\"1\" class=\"dataframe\">\n",
       "  <thead>\n",
       "    <tr style=\"text-align: right;\">\n",
       "      <th></th>\n",
       "      <th>ID</th>\n",
       "      <th>Amount.Requested</th>\n",
       "      <th>Amount.Funded.By.Investors</th>\n",
       "      <th>Interest.Rate</th>\n",
       "      <th>Loan.Length</th>\n",
       "      <th>Loan.Purpose</th>\n",
       "      <th>Debt.To.Income.Ratio</th>\n",
       "      <th>State</th>\n",
       "      <th>Home.Ownership</th>\n",
       "      <th>Monthly.Income</th>\n",
       "      <th>FICO.Range</th>\n",
       "      <th>Open.CREDIT.Lines</th>\n",
       "      <th>Revolving.CREDIT.Balance</th>\n",
       "      <th>Inquiries.in.the.Last.6.Months</th>\n",
       "      <th>Employment.Length</th>\n",
       "    </tr>\n",
       "  </thead>\n",
       "  <tbody>\n",
       "  </tbody>\n",
       "</table>\n",
       "</div>"
      ],
      "text/plain": [
       "Empty DataFrame\n",
       "Columns: [ID, Amount.Requested, Amount.Funded.By.Investors, Interest.Rate, Loan.Length, Loan.Purpose, Debt.To.Income.Ratio, State, Home.Ownership, Monthly.Income, FICO.Range, Open.CREDIT.Lines, Revolving.CREDIT.Balance, Inquiries.in.the.Last.6.Months, Employment.Length]\n",
       "Index: []"
      ]
     },
     "execution_count": 19,
     "metadata": {},
     "output_type": "execute_result"
    }
   ],
   "source": [
    "df[df['Loan.Length'].isna()]"
   ]
  },
  {
   "cell_type": "code",
   "execution_count": 18,
   "id": "fcd2a271-1b07-4776-9a51-839413d46401",
   "metadata": {},
   "outputs": [],
   "source": [
    "df['Loan.Length'] = np.where(df['Loan.Length'].isna(), '36 months', df['Loan.Length'])"
   ]
  },
  {
   "cell_type": "code",
   "execution_count": 22,
   "id": "ef22447e-515d-4e3e-9f93-ba901b2c6ead",
   "metadata": {},
   "outputs": [],
   "source": [
    "df['Loan.Length'] = df['Loan.Length'].apply(lambda x: x.replace(\"months\",\"\"))"
   ]
  },
  {
   "cell_type": "code",
   "execution_count": 23,
   "id": "1a6391ec-b0a5-41df-a828-298df96704ac",
   "metadata": {},
   "outputs": [
    {
     "data": {
      "text/plain": [
       "0        8.90\n",
       "1       12.12\n",
       "2       21.98\n",
       "3        9.99\n",
       "4       11.71\n",
       "        ...  \n",
       "2495    16.77\n",
       "2496    14.09\n",
       "2497    13.99\n",
       "2498    12.42\n",
       "2499    13.79\n",
       "Name: Interest.Rate, Length: 2500, dtype: object"
      ]
     },
     "execution_count": 23,
     "metadata": {},
     "output_type": "execute_result"
    }
   ],
   "source": [
    "df['Interest.Rate'].apply(lambda x: x.replace(\"%\", \"\"))"
   ]
  },
  {
   "cell_type": "code",
   "execution_count": 24,
   "id": "860f6adc-50df-455f-9883-e4a5203ce845",
   "metadata": {},
   "outputs": [
    {
     "data": {
      "text/html": [
       "<div>\n",
       "<style scoped>\n",
       "    .dataframe tbody tr th:only-of-type {\n",
       "        vertical-align: middle;\n",
       "    }\n",
       "\n",
       "    .dataframe tbody tr th {\n",
       "        vertical-align: top;\n",
       "    }\n",
       "\n",
       "    .dataframe thead th {\n",
       "        text-align: right;\n",
       "    }\n",
       "</style>\n",
       "<table border=\"1\" class=\"dataframe\">\n",
       "  <thead>\n",
       "    <tr style=\"text-align: right;\">\n",
       "      <th></th>\n",
       "      <th>Interest.Rate</th>\n",
       "      <th>Debt.To.Income.Ratio</th>\n",
       "    </tr>\n",
       "  </thead>\n",
       "  <tbody>\n",
       "    <tr>\n",
       "      <th>0</th>\n",
       "      <td>8.90</td>\n",
       "      <td>14.90</td>\n",
       "    </tr>\n",
       "    <tr>\n",
       "      <th>1</th>\n",
       "      <td>12.12</td>\n",
       "      <td>28.36</td>\n",
       "    </tr>\n",
       "    <tr>\n",
       "      <th>2</th>\n",
       "      <td>21.98</td>\n",
       "      <td>23.81</td>\n",
       "    </tr>\n",
       "    <tr>\n",
       "      <th>3</th>\n",
       "      <td>9.99</td>\n",
       "      <td>14.30</td>\n",
       "    </tr>\n",
       "    <tr>\n",
       "      <th>4</th>\n",
       "      <td>11.71</td>\n",
       "      <td>18.78</td>\n",
       "    </tr>\n",
       "    <tr>\n",
       "      <th>...</th>\n",
       "      <td>...</td>\n",
       "      <td>...</td>\n",
       "    </tr>\n",
       "    <tr>\n",
       "      <th>2495</th>\n",
       "      <td>16.77</td>\n",
       "      <td>19.23</td>\n",
       "    </tr>\n",
       "    <tr>\n",
       "      <th>2496</th>\n",
       "      <td>14.09</td>\n",
       "      <td>21.54</td>\n",
       "    </tr>\n",
       "    <tr>\n",
       "      <th>2497</th>\n",
       "      <td>13.99</td>\n",
       "      <td>4.89</td>\n",
       "    </tr>\n",
       "    <tr>\n",
       "      <th>2498</th>\n",
       "      <td>12.42</td>\n",
       "      <td>16.66</td>\n",
       "    </tr>\n",
       "    <tr>\n",
       "      <th>2499</th>\n",
       "      <td>13.79</td>\n",
       "      <td>6.76</td>\n",
       "    </tr>\n",
       "  </tbody>\n",
       "</table>\n",
       "<p>2500 rows × 2 columns</p>\n",
       "</div>"
      ],
      "text/plain": [
       "     Interest.Rate Debt.To.Income.Ratio\n",
       "0             8.90                14.90\n",
       "1            12.12                28.36\n",
       "2            21.98                23.81\n",
       "3             9.99                14.30\n",
       "4            11.71                18.78\n",
       "...            ...                  ...\n",
       "2495         16.77                19.23\n",
       "2496         14.09                21.54\n",
       "2497         13.99                 4.89\n",
       "2498         12.42                16.66\n",
       "2499         13.79                 6.76\n",
       "\n",
       "[2500 rows x 2 columns]"
      ]
     },
     "execution_count": 24,
     "metadata": {},
     "output_type": "execute_result"
    }
   ],
   "source": [
    "df[['Interest.Rate','Debt.To.Income.Ratio']].apply(lambda x: x.str.replace(\"%\", \"\"))"
   ]
  },
  {
   "cell_type": "code",
   "execution_count": 25,
   "id": "c1af9706-1225-47d4-a841-e7a049e0f72e",
   "metadata": {},
   "outputs": [],
   "source": [
    "df[['Interest.Rate','Debt.To.Income.Ratio']] = df[['Interest.Rate','Debt.To.Income.Ratio']].apply(lambda x: x.str.replace(\"%\", \"\"))"
   ]
  },
  {
   "cell_type": "code",
   "execution_count": 26,
   "id": "75c24d7c-f6d2-4625-9a4e-642306a006d1",
   "metadata": {},
   "outputs": [
    {
     "data": {
      "text/html": [
       "<div>\n",
       "<style scoped>\n",
       "    .dataframe tbody tr th:only-of-type {\n",
       "        vertical-align: middle;\n",
       "    }\n",
       "\n",
       "    .dataframe tbody tr th {\n",
       "        vertical-align: top;\n",
       "    }\n",
       "\n",
       "    .dataframe thead th {\n",
       "        text-align: right;\n",
       "    }\n",
       "</style>\n",
       "<table border=\"1\" class=\"dataframe\">\n",
       "  <thead>\n",
       "    <tr style=\"text-align: right;\">\n",
       "      <th></th>\n",
       "      <th>ID</th>\n",
       "      <th>Amount.Requested</th>\n",
       "      <th>Amount.Funded.By.Investors</th>\n",
       "      <th>Interest.Rate</th>\n",
       "      <th>Loan.Length</th>\n",
       "      <th>Loan.Purpose</th>\n",
       "      <th>Debt.To.Income.Ratio</th>\n",
       "      <th>State</th>\n",
       "      <th>Home.Ownership</th>\n",
       "      <th>Monthly.Income</th>\n",
       "      <th>FICO.Range</th>\n",
       "      <th>Open.CREDIT.Lines</th>\n",
       "      <th>Revolving.CREDIT.Balance</th>\n",
       "      <th>Inquiries.in.the.Last.6.Months</th>\n",
       "      <th>Employment.Length</th>\n",
       "    </tr>\n",
       "  </thead>\n",
       "  <tbody>\n",
       "    <tr>\n",
       "      <th>0</th>\n",
       "      <td>81174.0</td>\n",
       "      <td>20000.0</td>\n",
       "      <td>20000</td>\n",
       "      <td>8.90</td>\n",
       "      <td>36</td>\n",
       "      <td>debt_consolidation</td>\n",
       "      <td>14.90</td>\n",
       "      <td>SC</td>\n",
       "      <td>MORTGAGE</td>\n",
       "      <td>6541.67</td>\n",
       "      <td>735-739</td>\n",
       "      <td>14</td>\n",
       "      <td>14272</td>\n",
       "      <td>2.0</td>\n",
       "      <td>&lt; 1 year</td>\n",
       "    </tr>\n",
       "    <tr>\n",
       "      <th>1</th>\n",
       "      <td>99592.0</td>\n",
       "      <td>19200.0</td>\n",
       "      <td>19200</td>\n",
       "      <td>12.12</td>\n",
       "      <td>36</td>\n",
       "      <td>debt_consolidation</td>\n",
       "      <td>28.36</td>\n",
       "      <td>TX</td>\n",
       "      <td>MORTGAGE</td>\n",
       "      <td>4583.33</td>\n",
       "      <td>715-719</td>\n",
       "      <td>12</td>\n",
       "      <td>11140</td>\n",
       "      <td>1.0</td>\n",
       "      <td>2 years</td>\n",
       "    </tr>\n",
       "    <tr>\n",
       "      <th>2</th>\n",
       "      <td>80059.0</td>\n",
       "      <td>35000.0</td>\n",
       "      <td>35000</td>\n",
       "      <td>21.98</td>\n",
       "      <td>60</td>\n",
       "      <td>debt_consolidation</td>\n",
       "      <td>23.81</td>\n",
       "      <td>CA</td>\n",
       "      <td>MORTGAGE</td>\n",
       "      <td>11500.00</td>\n",
       "      <td>690-694</td>\n",
       "      <td>14</td>\n",
       "      <td>21977</td>\n",
       "      <td>1.0</td>\n",
       "      <td>2 years</td>\n",
       "    </tr>\n",
       "    <tr>\n",
       "      <th>3</th>\n",
       "      <td>15825.0</td>\n",
       "      <td>10000.0</td>\n",
       "      <td>9975</td>\n",
       "      <td>9.99</td>\n",
       "      <td>36</td>\n",
       "      <td>debt_consolidation</td>\n",
       "      <td>14.30</td>\n",
       "      <td>KS</td>\n",
       "      <td>MORTGAGE</td>\n",
       "      <td>3833.33</td>\n",
       "      <td>695-699</td>\n",
       "      <td>10</td>\n",
       "      <td>9346</td>\n",
       "      <td>0.0</td>\n",
       "      <td>5 years</td>\n",
       "    </tr>\n",
       "    <tr>\n",
       "      <th>4</th>\n",
       "      <td>33182.0</td>\n",
       "      <td>12000.0</td>\n",
       "      <td>12000</td>\n",
       "      <td>11.71</td>\n",
       "      <td>36</td>\n",
       "      <td>credit_card</td>\n",
       "      <td>18.78</td>\n",
       "      <td>NJ</td>\n",
       "      <td>RENT</td>\n",
       "      <td>3195.00</td>\n",
       "      <td>695-699</td>\n",
       "      <td>11</td>\n",
       "      <td>14469</td>\n",
       "      <td>0.0</td>\n",
       "      <td>9 years</td>\n",
       "    </tr>\n",
       "  </tbody>\n",
       "</table>\n",
       "</div>"
      ],
      "text/plain": [
       "        ID  Amount.Requested Amount.Funded.By.Investors Interest.Rate  \\\n",
       "0  81174.0           20000.0                      20000          8.90   \n",
       "1  99592.0           19200.0                      19200         12.12   \n",
       "2  80059.0           35000.0                      35000         21.98   \n",
       "3  15825.0           10000.0                       9975          9.99   \n",
       "4  33182.0           12000.0                      12000         11.71   \n",
       "\n",
       "  Loan.Length        Loan.Purpose Debt.To.Income.Ratio State Home.Ownership  \\\n",
       "0         36   debt_consolidation                14.90    SC       MORTGAGE   \n",
       "1         36   debt_consolidation                28.36    TX       MORTGAGE   \n",
       "2         60   debt_consolidation                23.81    CA       MORTGAGE   \n",
       "3         36   debt_consolidation                14.30    KS       MORTGAGE   \n",
       "4         36          credit_card                18.78    NJ           RENT   \n",
       "\n",
       "   Monthly.Income FICO.Range Open.CREDIT.Lines Revolving.CREDIT.Balance  \\\n",
       "0         6541.67    735-739                14                    14272   \n",
       "1         4583.33    715-719                12                    11140   \n",
       "2        11500.00    690-694                14                    21977   \n",
       "3         3833.33    695-699                10                     9346   \n",
       "4         3195.00    695-699                11                    14469   \n",
       "\n",
       "   Inquiries.in.the.Last.6.Months Employment.Length  \n",
       "0                             2.0          < 1 year  \n",
       "1                             1.0           2 years  \n",
       "2                             1.0           2 years  \n",
       "3                             0.0           5 years  \n",
       "4                             0.0           9 years  "
      ]
     },
     "execution_count": 26,
     "metadata": {},
     "output_type": "execute_result"
    }
   ],
   "source": [
    "df.head()"
   ]
  },
  {
   "cell_type": "code",
   "execution_count": 27,
   "id": "e4df7458-a947-4121-9874-8af3f97e803f",
   "metadata": {},
   "outputs": [
    {
     "data": {
      "text/plain": [
       "38"
      ]
     },
     "execution_count": 27,
     "metadata": {},
     "output_type": "execute_result"
    }
   ],
   "source": [
    "len(df['FICO.Range'].value_counts())"
   ]
  },
  {
   "cell_type": "code",
   "execution_count": 28,
   "id": "1925c84d-b11e-45a4-bedc-d9a5a4b46369",
   "metadata": {},
   "outputs": [
    {
     "data": {
      "text/html": [
       "<div>\n",
       "<style scoped>\n",
       "    .dataframe tbody tr th:only-of-type {\n",
       "        vertical-align: middle;\n",
       "    }\n",
       "\n",
       "    .dataframe tbody tr th {\n",
       "        vertical-align: top;\n",
       "    }\n",
       "\n",
       "    .dataframe thead th {\n",
       "        text-align: right;\n",
       "    }\n",
       "</style>\n",
       "<table border=\"1\" class=\"dataframe\">\n",
       "  <thead>\n",
       "    <tr style=\"text-align: right;\">\n",
       "      <th></th>\n",
       "      <th>0</th>\n",
       "      <th>1</th>\n",
       "    </tr>\n",
       "  </thead>\n",
       "  <tbody>\n",
       "    <tr>\n",
       "      <th>0</th>\n",
       "      <td>735</td>\n",
       "      <td>739</td>\n",
       "    </tr>\n",
       "    <tr>\n",
       "      <th>1</th>\n",
       "      <td>715</td>\n",
       "      <td>719</td>\n",
       "    </tr>\n",
       "    <tr>\n",
       "      <th>2</th>\n",
       "      <td>690</td>\n",
       "      <td>694</td>\n",
       "    </tr>\n",
       "    <tr>\n",
       "      <th>3</th>\n",
       "      <td>695</td>\n",
       "      <td>699</td>\n",
       "    </tr>\n",
       "    <tr>\n",
       "      <th>4</th>\n",
       "      <td>695</td>\n",
       "      <td>699</td>\n",
       "    </tr>\n",
       "    <tr>\n",
       "      <th>...</th>\n",
       "      <td>...</td>\n",
       "      <td>...</td>\n",
       "    </tr>\n",
       "    <tr>\n",
       "      <th>2495</th>\n",
       "      <td>705</td>\n",
       "      <td>709</td>\n",
       "    </tr>\n",
       "    <tr>\n",
       "      <th>2496</th>\n",
       "      <td>740</td>\n",
       "      <td>744</td>\n",
       "    </tr>\n",
       "    <tr>\n",
       "      <th>2497</th>\n",
       "      <td>680</td>\n",
       "      <td>684</td>\n",
       "    </tr>\n",
       "    <tr>\n",
       "      <th>2498</th>\n",
       "      <td>675</td>\n",
       "      <td>679</td>\n",
       "    </tr>\n",
       "    <tr>\n",
       "      <th>2499</th>\n",
       "      <td>670</td>\n",
       "      <td>674</td>\n",
       "    </tr>\n",
       "  </tbody>\n",
       "</table>\n",
       "<p>2500 rows × 2 columns</p>\n",
       "</div>"
      ],
      "text/plain": [
       "        0    1\n",
       "0     735  739\n",
       "1     715  719\n",
       "2     690  694\n",
       "3     695  699\n",
       "4     695  699\n",
       "...   ...  ...\n",
       "2495  705  709\n",
       "2496  740  744\n",
       "2497  680  684\n",
       "2498  675  679\n",
       "2499  670  674\n",
       "\n",
       "[2500 rows x 2 columns]"
      ]
     },
     "execution_count": 28,
     "metadata": {},
     "output_type": "execute_result"
    }
   ],
   "source": [
    "df['FICO.Range'].str.split(\"-\",expand = True)"
   ]
  },
  {
   "cell_type": "code",
   "execution_count": 29,
   "id": "3c6282ed-5ed3-4075-ad92-2a031d6652bb",
   "metadata": {},
   "outputs": [
    {
     "data": {
      "text/html": [
       "<div>\n",
       "<style scoped>\n",
       "    .dataframe tbody tr th:only-of-type {\n",
       "        vertical-align: middle;\n",
       "    }\n",
       "\n",
       "    .dataframe tbody tr th {\n",
       "        vertical-align: top;\n",
       "    }\n",
       "\n",
       "    .dataframe thead th {\n",
       "        text-align: right;\n",
       "    }\n",
       "</style>\n",
       "<table border=\"1\" class=\"dataframe\">\n",
       "  <thead>\n",
       "    <tr style=\"text-align: right;\">\n",
       "      <th></th>\n",
       "      <th>ID</th>\n",
       "      <th>Amount.Requested</th>\n",
       "      <th>Amount.Funded.By.Investors</th>\n",
       "      <th>Interest.Rate</th>\n",
       "      <th>Loan.Length</th>\n",
       "      <th>Loan.Purpose</th>\n",
       "      <th>Debt.To.Income.Ratio</th>\n",
       "      <th>State</th>\n",
       "      <th>Home.Ownership</th>\n",
       "      <th>Monthly.Income</th>\n",
       "      <th>Open.CREDIT.Lines</th>\n",
       "      <th>Revolving.CREDIT.Balance</th>\n",
       "      <th>Inquiries.in.the.Last.6.Months</th>\n",
       "      <th>Employment.Length</th>\n",
       "      <th>Fico-low</th>\n",
       "      <th>Fico-high</th>\n",
       "    </tr>\n",
       "  </thead>\n",
       "  <tbody>\n",
       "    <tr>\n",
       "      <th>0</th>\n",
       "      <td>81174.0</td>\n",
       "      <td>20000.0</td>\n",
       "      <td>20000</td>\n",
       "      <td>8.90</td>\n",
       "      <td>36</td>\n",
       "      <td>debt_consolidation</td>\n",
       "      <td>14.90</td>\n",
       "      <td>SC</td>\n",
       "      <td>MORTGAGE</td>\n",
       "      <td>6541.67</td>\n",
       "      <td>14</td>\n",
       "      <td>14272</td>\n",
       "      <td>2.0</td>\n",
       "      <td>&lt; 1 year</td>\n",
       "      <td>735</td>\n",
       "      <td>739</td>\n",
       "    </tr>\n",
       "    <tr>\n",
       "      <th>1</th>\n",
       "      <td>99592.0</td>\n",
       "      <td>19200.0</td>\n",
       "      <td>19200</td>\n",
       "      <td>12.12</td>\n",
       "      <td>36</td>\n",
       "      <td>debt_consolidation</td>\n",
       "      <td>28.36</td>\n",
       "      <td>TX</td>\n",
       "      <td>MORTGAGE</td>\n",
       "      <td>4583.33</td>\n",
       "      <td>12</td>\n",
       "      <td>11140</td>\n",
       "      <td>1.0</td>\n",
       "      <td>2 years</td>\n",
       "      <td>715</td>\n",
       "      <td>719</td>\n",
       "    </tr>\n",
       "    <tr>\n",
       "      <th>2</th>\n",
       "      <td>80059.0</td>\n",
       "      <td>35000.0</td>\n",
       "      <td>35000</td>\n",
       "      <td>21.98</td>\n",
       "      <td>60</td>\n",
       "      <td>debt_consolidation</td>\n",
       "      <td>23.81</td>\n",
       "      <td>CA</td>\n",
       "      <td>MORTGAGE</td>\n",
       "      <td>11500.00</td>\n",
       "      <td>14</td>\n",
       "      <td>21977</td>\n",
       "      <td>1.0</td>\n",
       "      <td>2 years</td>\n",
       "      <td>690</td>\n",
       "      <td>694</td>\n",
       "    </tr>\n",
       "    <tr>\n",
       "      <th>3</th>\n",
       "      <td>15825.0</td>\n",
       "      <td>10000.0</td>\n",
       "      <td>9975</td>\n",
       "      <td>9.99</td>\n",
       "      <td>36</td>\n",
       "      <td>debt_consolidation</td>\n",
       "      <td>14.30</td>\n",
       "      <td>KS</td>\n",
       "      <td>MORTGAGE</td>\n",
       "      <td>3833.33</td>\n",
       "      <td>10</td>\n",
       "      <td>9346</td>\n",
       "      <td>0.0</td>\n",
       "      <td>5 years</td>\n",
       "      <td>695</td>\n",
       "      <td>699</td>\n",
       "    </tr>\n",
       "    <tr>\n",
       "      <th>4</th>\n",
       "      <td>33182.0</td>\n",
       "      <td>12000.0</td>\n",
       "      <td>12000</td>\n",
       "      <td>11.71</td>\n",
       "      <td>36</td>\n",
       "      <td>credit_card</td>\n",
       "      <td>18.78</td>\n",
       "      <td>NJ</td>\n",
       "      <td>RENT</td>\n",
       "      <td>3195.00</td>\n",
       "      <td>11</td>\n",
       "      <td>14469</td>\n",
       "      <td>0.0</td>\n",
       "      <td>9 years</td>\n",
       "      <td>695</td>\n",
       "      <td>699</td>\n",
       "    </tr>\n",
       "  </tbody>\n",
       "</table>\n",
       "</div>"
      ],
      "text/plain": [
       "        ID  Amount.Requested Amount.Funded.By.Investors Interest.Rate  \\\n",
       "0  81174.0           20000.0                      20000          8.90   \n",
       "1  99592.0           19200.0                      19200         12.12   \n",
       "2  80059.0           35000.0                      35000         21.98   \n",
       "3  15825.0           10000.0                       9975          9.99   \n",
       "4  33182.0           12000.0                      12000         11.71   \n",
       "\n",
       "  Loan.Length        Loan.Purpose Debt.To.Income.Ratio State Home.Ownership  \\\n",
       "0         36   debt_consolidation                14.90    SC       MORTGAGE   \n",
       "1         36   debt_consolidation                28.36    TX       MORTGAGE   \n",
       "2         60   debt_consolidation                23.81    CA       MORTGAGE   \n",
       "3         36   debt_consolidation                14.30    KS       MORTGAGE   \n",
       "4         36          credit_card                18.78    NJ           RENT   \n",
       "\n",
       "   Monthly.Income Open.CREDIT.Lines Revolving.CREDIT.Balance  \\\n",
       "0         6541.67                14                    14272   \n",
       "1         4583.33                12                    11140   \n",
       "2        11500.00                14                    21977   \n",
       "3         3833.33                10                     9346   \n",
       "4         3195.00                11                    14469   \n",
       "\n",
       "   Inquiries.in.the.Last.6.Months Employment.Length Fico-low Fico-high  \n",
       "0                             2.0          < 1 year      735       739  \n",
       "1                             1.0           2 years      715       719  \n",
       "2                             1.0           2 years      690       694  \n",
       "3                             0.0           5 years      695       699  \n",
       "4                             0.0           9 years      695       699  "
      ]
     },
     "execution_count": 29,
     "metadata": {},
     "output_type": "execute_result"
    }
   ],
   "source": [
    "df[['Fico-low','Fico-high']] = df['FICO.Range'].str.split(\"-\",expand = True)\n",
    "del df['FICO.Range']\n",
    "df.head()"
   ]
  },
  {
   "cell_type": "code",
   "execution_count": 30,
   "id": "8f6a991a-40b8-4f27-89d2-964395119a24",
   "metadata": {},
   "outputs": [
    {
     "data": {
      "text/plain": [
       "array(['< 1 year', '2 years', '5 years', '9 years', '3 years',\n",
       "       '10+ years', '8 years', '6 years', '1 year', '7 years', '.',\n",
       "       '4 years', nan], dtype=object)"
      ]
     },
     "execution_count": 30,
     "metadata": {},
     "output_type": "execute_result"
    }
   ],
   "source": [
    "df['Employment.Length'].unique()"
   ]
  },
  {
   "cell_type": "code",
   "execution_count": 31,
   "id": "a991ddee-de1d-421f-af7b-c970fe2c4307",
   "metadata": {},
   "outputs": [],
   "source": [
    "df['Employment.Length'] = df['Employment.Length'].str.replace('years','').\\\n",
    "                                                    str.replace('year','').\\\n",
    "                                                    str.replace('<','').\\\n",
    "                                                    str.replace('+','')\n"
   ]
  },
  {
   "cell_type": "code",
   "execution_count": 32,
   "id": "92c418e5-d6d4-469e-a84b-9460e30c31f6",
   "metadata": {},
   "outputs": [
    {
     "data": {
      "text/plain": [
       "ID                                float64\n",
       "Amount.Requested                  float64\n",
       "Amount.Funded.By.Investors         object\n",
       "Interest.Rate                      object\n",
       "Loan.Length                        object\n",
       "Loan.Purpose                       object\n",
       "Debt.To.Income.Ratio               object\n",
       "State                              object\n",
       "Home.Ownership                     object\n",
       "Monthly.Income                    float64\n",
       "Open.CREDIT.Lines                  object\n",
       "Revolving.CREDIT.Balance           object\n",
       "Inquiries.in.the.Last.6.Months    float64\n",
       "Employment.Length                  object\n",
       "Fico-low                           object\n",
       "Fico-high                          object\n",
       "dtype: object"
      ]
     },
     "execution_count": 32,
     "metadata": {},
     "output_type": "execute_result"
    }
   ],
   "source": [
    "df.dtypes"
   ]
  },
  {
   "cell_type": "code",
   "execution_count": 33,
   "id": "0e0bacf6-b746-492e-b8a2-f09a53b1e801",
   "metadata": {},
   "outputs": [
    {
     "data": {
      "text/html": [
       "<div>\n",
       "<style scoped>\n",
       "    .dataframe tbody tr th:only-of-type {\n",
       "        vertical-align: middle;\n",
       "    }\n",
       "\n",
       "    .dataframe tbody tr th {\n",
       "        vertical-align: top;\n",
       "    }\n",
       "\n",
       "    .dataframe thead th {\n",
       "        text-align: right;\n",
       "    }\n",
       "</style>\n",
       "<table border=\"1\" class=\"dataframe\">\n",
       "  <thead>\n",
       "    <tr style=\"text-align: right;\">\n",
       "      <th></th>\n",
       "      <th>Amount.Funded.By.Investors</th>\n",
       "      <th>Interest.Rate</th>\n",
       "      <th>Debt.To.Income.Ratio</th>\n",
       "      <th>Open.CREDIT.Lines</th>\n",
       "      <th>Revolving.CREDIT.Balance</th>\n",
       "      <th>Inquiries.in.the.Last.6.Months</th>\n",
       "      <th>Fico-low</th>\n",
       "      <th>Fico-high</th>\n",
       "    </tr>\n",
       "  </thead>\n",
       "  <tbody>\n",
       "    <tr>\n",
       "      <th>0</th>\n",
       "      <td>20000.00</td>\n",
       "      <td>8.90</td>\n",
       "      <td>14.90</td>\n",
       "      <td>14.0</td>\n",
       "      <td>14272.0</td>\n",
       "      <td>2.0</td>\n",
       "      <td>735</td>\n",
       "      <td>739</td>\n",
       "    </tr>\n",
       "    <tr>\n",
       "      <th>1</th>\n",
       "      <td>19200.00</td>\n",
       "      <td>12.12</td>\n",
       "      <td>28.36</td>\n",
       "      <td>12.0</td>\n",
       "      <td>11140.0</td>\n",
       "      <td>1.0</td>\n",
       "      <td>715</td>\n",
       "      <td>719</td>\n",
       "    </tr>\n",
       "    <tr>\n",
       "      <th>2</th>\n",
       "      <td>35000.00</td>\n",
       "      <td>21.98</td>\n",
       "      <td>23.81</td>\n",
       "      <td>14.0</td>\n",
       "      <td>21977.0</td>\n",
       "      <td>1.0</td>\n",
       "      <td>690</td>\n",
       "      <td>694</td>\n",
       "    </tr>\n",
       "    <tr>\n",
       "      <th>3</th>\n",
       "      <td>9975.00</td>\n",
       "      <td>9.99</td>\n",
       "      <td>14.30</td>\n",
       "      <td>10.0</td>\n",
       "      <td>9346.0</td>\n",
       "      <td>0.0</td>\n",
       "      <td>695</td>\n",
       "      <td>699</td>\n",
       "    </tr>\n",
       "    <tr>\n",
       "      <th>4</th>\n",
       "      <td>12000.00</td>\n",
       "      <td>11.71</td>\n",
       "      <td>18.78</td>\n",
       "      <td>11.0</td>\n",
       "      <td>14469.0</td>\n",
       "      <td>0.0</td>\n",
       "      <td>695</td>\n",
       "      <td>699</td>\n",
       "    </tr>\n",
       "    <tr>\n",
       "      <th>...</th>\n",
       "      <td>...</td>\n",
       "      <td>...</td>\n",
       "      <td>...</td>\n",
       "      <td>...</td>\n",
       "      <td>...</td>\n",
       "      <td>...</td>\n",
       "      <td>...</td>\n",
       "      <td>...</td>\n",
       "    </tr>\n",
       "    <tr>\n",
       "      <th>2495</th>\n",
       "      <td>29950.00</td>\n",
       "      <td>16.77</td>\n",
       "      <td>19.23</td>\n",
       "      <td>15.0</td>\n",
       "      <td>45880.0</td>\n",
       "      <td>1.0</td>\n",
       "      <td>705</td>\n",
       "      <td>709</td>\n",
       "    </tr>\n",
       "    <tr>\n",
       "      <th>2496</th>\n",
       "      <td>16000.00</td>\n",
       "      <td>14.09</td>\n",
       "      <td>21.54</td>\n",
       "      <td>18.0</td>\n",
       "      <td>18898.0</td>\n",
       "      <td>1.0</td>\n",
       "      <td>740</td>\n",
       "      <td>744</td>\n",
       "    </tr>\n",
       "    <tr>\n",
       "      <th>2497</th>\n",
       "      <td>10000.00</td>\n",
       "      <td>13.99</td>\n",
       "      <td>4.89</td>\n",
       "      <td>4.0</td>\n",
       "      <td>4544.0</td>\n",
       "      <td>0.0</td>\n",
       "      <td>680</td>\n",
       "      <td>684</td>\n",
       "    </tr>\n",
       "    <tr>\n",
       "      <th>2498</th>\n",
       "      <td>6000.00</td>\n",
       "      <td>12.42</td>\n",
       "      <td>16.66</td>\n",
       "      <td>8.0</td>\n",
       "      <td>NaN</td>\n",
       "      <td>0.0</td>\n",
       "      <td>675</td>\n",
       "      <td>679</td>\n",
       "    </tr>\n",
       "    <tr>\n",
       "      <th>2499</th>\n",
       "      <td>5242.75</td>\n",
       "      <td>13.79</td>\n",
       "      <td>6.76</td>\n",
       "      <td>7.0</td>\n",
       "      <td>7589.0</td>\n",
       "      <td>0.0</td>\n",
       "      <td>670</td>\n",
       "      <td>674</td>\n",
       "    </tr>\n",
       "  </tbody>\n",
       "</table>\n",
       "<p>2500 rows × 8 columns</p>\n",
       "</div>"
      ],
      "text/plain": [
       "      Amount.Funded.By.Investors  Interest.Rate  Debt.To.Income.Ratio  \\\n",
       "0                       20000.00           8.90                 14.90   \n",
       "1                       19200.00          12.12                 28.36   \n",
       "2                       35000.00          21.98                 23.81   \n",
       "3                        9975.00           9.99                 14.30   \n",
       "4                       12000.00          11.71                 18.78   \n",
       "...                          ...            ...                   ...   \n",
       "2495                    29950.00          16.77                 19.23   \n",
       "2496                    16000.00          14.09                 21.54   \n",
       "2497                    10000.00          13.99                  4.89   \n",
       "2498                     6000.00          12.42                 16.66   \n",
       "2499                     5242.75          13.79                  6.76   \n",
       "\n",
       "      Open.CREDIT.Lines  Revolving.CREDIT.Balance  \\\n",
       "0                  14.0                   14272.0   \n",
       "1                  12.0                   11140.0   \n",
       "2                  14.0                   21977.0   \n",
       "3                  10.0                    9346.0   \n",
       "4                  11.0                   14469.0   \n",
       "...                 ...                       ...   \n",
       "2495               15.0                   45880.0   \n",
       "2496               18.0                   18898.0   \n",
       "2497                4.0                    4544.0   \n",
       "2498                8.0                       NaN   \n",
       "2499                7.0                    7589.0   \n",
       "\n",
       "      Inquiries.in.the.Last.6.Months  Fico-low  Fico-high  \n",
       "0                                2.0       735        739  \n",
       "1                                1.0       715        719  \n",
       "2                                1.0       690        694  \n",
       "3                                0.0       695        699  \n",
       "4                                0.0       695        699  \n",
       "...                              ...       ...        ...  \n",
       "2495                             1.0       705        709  \n",
       "2496                             1.0       740        744  \n",
       "2497                             0.0       680        684  \n",
       "2498                             0.0       675        679  \n",
       "2499                             0.0       670        674  \n",
       "\n",
       "[2500 rows x 8 columns]"
      ]
     },
     "execution_count": 33,
     "metadata": {},
     "output_type": "execute_result"
    }
   ],
   "source": [
    "numeric_cols = ['Amount.Funded.By.Investors', 'Interest.Rate','Debt.To.Income.Ratio','Open.CREDIT.Lines',\n",
    "                'Revolving.CREDIT.Balance','Inquiries.in.the.Last.6.Months','Fico-low','Fico-high']\n",
    "df_numerics = df[numeric_cols].apply(pd.to_numeric, errors = 'coerce')\n",
    "df_numerics"
   ]
  },
  {
   "cell_type": "code",
   "execution_count": 34,
   "id": "89bd4dc2-8ef5-4921-a53a-7bb932893d1e",
   "metadata": {},
   "outputs": [
    {
     "data": {
      "text/html": [
       "<div>\n",
       "<style scoped>\n",
       "    .dataframe tbody tr th:only-of-type {\n",
       "        vertical-align: middle;\n",
       "    }\n",
       "\n",
       "    .dataframe tbody tr th {\n",
       "        vertical-align: top;\n",
       "    }\n",
       "\n",
       "    .dataframe thead th {\n",
       "        text-align: right;\n",
       "    }\n",
       "</style>\n",
       "<table border=\"1\" class=\"dataframe\">\n",
       "  <thead>\n",
       "    <tr style=\"text-align: right;\">\n",
       "      <th></th>\n",
       "      <th>ID</th>\n",
       "      <th>Amount.Requested</th>\n",
       "      <th>Loan.Length</th>\n",
       "      <th>Loan.Purpose</th>\n",
       "      <th>State</th>\n",
       "      <th>Home.Ownership</th>\n",
       "      <th>Monthly.Income</th>\n",
       "      <th>Employment.Length</th>\n",
       "    </tr>\n",
       "  </thead>\n",
       "  <tbody>\n",
       "    <tr>\n",
       "      <th>0</th>\n",
       "      <td>81174.0</td>\n",
       "      <td>20000.0</td>\n",
       "      <td>36</td>\n",
       "      <td>debt_consolidation</td>\n",
       "      <td>SC</td>\n",
       "      <td>MORTGAGE</td>\n",
       "      <td>6541.67</td>\n",
       "      <td>1</td>\n",
       "    </tr>\n",
       "    <tr>\n",
       "      <th>1</th>\n",
       "      <td>99592.0</td>\n",
       "      <td>19200.0</td>\n",
       "      <td>36</td>\n",
       "      <td>debt_consolidation</td>\n",
       "      <td>TX</td>\n",
       "      <td>MORTGAGE</td>\n",
       "      <td>4583.33</td>\n",
       "      <td>2</td>\n",
       "    </tr>\n",
       "    <tr>\n",
       "      <th>2</th>\n",
       "      <td>80059.0</td>\n",
       "      <td>35000.0</td>\n",
       "      <td>60</td>\n",
       "      <td>debt_consolidation</td>\n",
       "      <td>CA</td>\n",
       "      <td>MORTGAGE</td>\n",
       "      <td>11500.00</td>\n",
       "      <td>2</td>\n",
       "    </tr>\n",
       "    <tr>\n",
       "      <th>3</th>\n",
       "      <td>15825.0</td>\n",
       "      <td>10000.0</td>\n",
       "      <td>36</td>\n",
       "      <td>debt_consolidation</td>\n",
       "      <td>KS</td>\n",
       "      <td>MORTGAGE</td>\n",
       "      <td>3833.33</td>\n",
       "      <td>5</td>\n",
       "    </tr>\n",
       "    <tr>\n",
       "      <th>4</th>\n",
       "      <td>33182.0</td>\n",
       "      <td>12000.0</td>\n",
       "      <td>36</td>\n",
       "      <td>credit_card</td>\n",
       "      <td>NJ</td>\n",
       "      <td>RENT</td>\n",
       "      <td>3195.00</td>\n",
       "      <td>9</td>\n",
       "    </tr>\n",
       "    <tr>\n",
       "      <th>...</th>\n",
       "      <td>...</td>\n",
       "      <td>...</td>\n",
       "      <td>...</td>\n",
       "      <td>...</td>\n",
       "      <td>...</td>\n",
       "      <td>...</td>\n",
       "      <td>...</td>\n",
       "      <td>...</td>\n",
       "    </tr>\n",
       "    <tr>\n",
       "      <th>2495</th>\n",
       "      <td>23735.0</td>\n",
       "      <td>30000.0</td>\n",
       "      <td>60</td>\n",
       "      <td>debt_consolidation</td>\n",
       "      <td>NY</td>\n",
       "      <td>MORTGAGE</td>\n",
       "      <td>9250.00</td>\n",
       "      <td>8</td>\n",
       "    </tr>\n",
       "    <tr>\n",
       "      <th>2496</th>\n",
       "      <td>65882.0</td>\n",
       "      <td>16000.0</td>\n",
       "      <td>60</td>\n",
       "      <td>home_improvement</td>\n",
       "      <td>MD</td>\n",
       "      <td>OWN</td>\n",
       "      <td>8903.25</td>\n",
       "      <td>10</td>\n",
       "    </tr>\n",
       "    <tr>\n",
       "      <th>2497</th>\n",
       "      <td>55610.0</td>\n",
       "      <td>10000.0</td>\n",
       "      <td>36</td>\n",
       "      <td>debt_consolidation</td>\n",
       "      <td>PA</td>\n",
       "      <td>MORTGAGE</td>\n",
       "      <td>2166.67</td>\n",
       "      <td>10</td>\n",
       "    </tr>\n",
       "    <tr>\n",
       "      <th>2498</th>\n",
       "      <td>38576.0</td>\n",
       "      <td>6000.0</td>\n",
       "      <td>36</td>\n",
       "      <td>major_purchase</td>\n",
       "      <td>NJ</td>\n",
       "      <td>RENT</td>\n",
       "      <td>3500.00</td>\n",
       "      <td>5</td>\n",
       "    </tr>\n",
       "    <tr>\n",
       "      <th>2499</th>\n",
       "      <td>3116.0</td>\n",
       "      <td>9000.0</td>\n",
       "      <td>36</td>\n",
       "      <td>debt_consolidation</td>\n",
       "      <td>NY</td>\n",
       "      <td>RENT</td>\n",
       "      <td>3875.00</td>\n",
       "      <td>10</td>\n",
       "    </tr>\n",
       "  </tbody>\n",
       "</table>\n",
       "<p>2500 rows × 8 columns</p>\n",
       "</div>"
      ],
      "text/plain": [
       "           ID  Amount.Requested Loan.Length        Loan.Purpose State  \\\n",
       "0     81174.0           20000.0         36   debt_consolidation    SC   \n",
       "1     99592.0           19200.0         36   debt_consolidation    TX   \n",
       "2     80059.0           35000.0         60   debt_consolidation    CA   \n",
       "3     15825.0           10000.0         36   debt_consolidation    KS   \n",
       "4     33182.0           12000.0         36          credit_card    NJ   \n",
       "...       ...               ...         ...                 ...   ...   \n",
       "2495  23735.0           30000.0         60   debt_consolidation    NY   \n",
       "2496  65882.0           16000.0         60     home_improvement    MD   \n",
       "2497  55610.0           10000.0         36   debt_consolidation    PA   \n",
       "2498  38576.0            6000.0         36       major_purchase    NJ   \n",
       "2499   3116.0            9000.0         36   debt_consolidation    NY   \n",
       "\n",
       "     Home.Ownership  Monthly.Income Employment.Length  \n",
       "0          MORTGAGE         6541.67                1   \n",
       "1          MORTGAGE         4583.33                2   \n",
       "2          MORTGAGE        11500.00                2   \n",
       "3          MORTGAGE         3833.33                5   \n",
       "4              RENT         3195.00                9   \n",
       "...             ...             ...               ...  \n",
       "2495       MORTGAGE         9250.00                8   \n",
       "2496            OWN         8903.25               10   \n",
       "2497       MORTGAGE         2166.67               10   \n",
       "2498           RENT         3500.00                5   \n",
       "2499           RENT         3875.00               10   \n",
       "\n",
       "[2500 rows x 8 columns]"
      ]
     },
     "execution_count": 34,
     "metadata": {},
     "output_type": "execute_result"
    }
   ],
   "source": [
    "df.drop(numeric_cols, axis = 1,inplace = True)\n",
    "df"
   ]
  },
  {
   "cell_type": "code",
   "execution_count": 35,
   "id": "2ebd5f64-407c-4d3f-92b5-a058a90cc32f",
   "metadata": {},
   "outputs": [
    {
     "data": {
      "text/html": [
       "<div>\n",
       "<style scoped>\n",
       "    .dataframe tbody tr th:only-of-type {\n",
       "        vertical-align: middle;\n",
       "    }\n",
       "\n",
       "    .dataframe tbody tr th {\n",
       "        vertical-align: top;\n",
       "    }\n",
       "\n",
       "    .dataframe thead th {\n",
       "        text-align: right;\n",
       "    }\n",
       "</style>\n",
       "<table border=\"1\" class=\"dataframe\">\n",
       "  <thead>\n",
       "    <tr style=\"text-align: right;\">\n",
       "      <th></th>\n",
       "      <th>ID</th>\n",
       "      <th>Amount.Requested</th>\n",
       "      <th>Loan.Length</th>\n",
       "      <th>Loan.Purpose</th>\n",
       "      <th>State</th>\n",
       "      <th>Home.Ownership</th>\n",
       "      <th>Monthly.Income</th>\n",
       "      <th>Employment.Length</th>\n",
       "      <th>Amount.Funded.By.Investors</th>\n",
       "      <th>Interest.Rate</th>\n",
       "      <th>Debt.To.Income.Ratio</th>\n",
       "      <th>Open.CREDIT.Lines</th>\n",
       "      <th>Revolving.CREDIT.Balance</th>\n",
       "      <th>Inquiries.in.the.Last.6.Months</th>\n",
       "      <th>Fico-low</th>\n",
       "      <th>Fico-high</th>\n",
       "    </tr>\n",
       "  </thead>\n",
       "  <tbody>\n",
       "    <tr>\n",
       "      <th>0</th>\n",
       "      <td>81174.0</td>\n",
       "      <td>20000.0</td>\n",
       "      <td>36</td>\n",
       "      <td>debt_consolidation</td>\n",
       "      <td>SC</td>\n",
       "      <td>MORTGAGE</td>\n",
       "      <td>6541.67</td>\n",
       "      <td>1</td>\n",
       "      <td>20000.00</td>\n",
       "      <td>8.90</td>\n",
       "      <td>14.90</td>\n",
       "      <td>14.0</td>\n",
       "      <td>14272.0</td>\n",
       "      <td>2.0</td>\n",
       "      <td>735</td>\n",
       "      <td>739</td>\n",
       "    </tr>\n",
       "    <tr>\n",
       "      <th>1</th>\n",
       "      <td>99592.0</td>\n",
       "      <td>19200.0</td>\n",
       "      <td>36</td>\n",
       "      <td>debt_consolidation</td>\n",
       "      <td>TX</td>\n",
       "      <td>MORTGAGE</td>\n",
       "      <td>4583.33</td>\n",
       "      <td>2</td>\n",
       "      <td>19200.00</td>\n",
       "      <td>12.12</td>\n",
       "      <td>28.36</td>\n",
       "      <td>12.0</td>\n",
       "      <td>11140.0</td>\n",
       "      <td>1.0</td>\n",
       "      <td>715</td>\n",
       "      <td>719</td>\n",
       "    </tr>\n",
       "    <tr>\n",
       "      <th>2</th>\n",
       "      <td>80059.0</td>\n",
       "      <td>35000.0</td>\n",
       "      <td>60</td>\n",
       "      <td>debt_consolidation</td>\n",
       "      <td>CA</td>\n",
       "      <td>MORTGAGE</td>\n",
       "      <td>11500.00</td>\n",
       "      <td>2</td>\n",
       "      <td>35000.00</td>\n",
       "      <td>21.98</td>\n",
       "      <td>23.81</td>\n",
       "      <td>14.0</td>\n",
       "      <td>21977.0</td>\n",
       "      <td>1.0</td>\n",
       "      <td>690</td>\n",
       "      <td>694</td>\n",
       "    </tr>\n",
       "    <tr>\n",
       "      <th>3</th>\n",
       "      <td>15825.0</td>\n",
       "      <td>10000.0</td>\n",
       "      <td>36</td>\n",
       "      <td>debt_consolidation</td>\n",
       "      <td>KS</td>\n",
       "      <td>MORTGAGE</td>\n",
       "      <td>3833.33</td>\n",
       "      <td>5</td>\n",
       "      <td>9975.00</td>\n",
       "      <td>9.99</td>\n",
       "      <td>14.30</td>\n",
       "      <td>10.0</td>\n",
       "      <td>9346.0</td>\n",
       "      <td>0.0</td>\n",
       "      <td>695</td>\n",
       "      <td>699</td>\n",
       "    </tr>\n",
       "    <tr>\n",
       "      <th>4</th>\n",
       "      <td>33182.0</td>\n",
       "      <td>12000.0</td>\n",
       "      <td>36</td>\n",
       "      <td>credit_card</td>\n",
       "      <td>NJ</td>\n",
       "      <td>RENT</td>\n",
       "      <td>3195.00</td>\n",
       "      <td>9</td>\n",
       "      <td>12000.00</td>\n",
       "      <td>11.71</td>\n",
       "      <td>18.78</td>\n",
       "      <td>11.0</td>\n",
       "      <td>14469.0</td>\n",
       "      <td>0.0</td>\n",
       "      <td>695</td>\n",
       "      <td>699</td>\n",
       "    </tr>\n",
       "    <tr>\n",
       "      <th>...</th>\n",
       "      <td>...</td>\n",
       "      <td>...</td>\n",
       "      <td>...</td>\n",
       "      <td>...</td>\n",
       "      <td>...</td>\n",
       "      <td>...</td>\n",
       "      <td>...</td>\n",
       "      <td>...</td>\n",
       "      <td>...</td>\n",
       "      <td>...</td>\n",
       "      <td>...</td>\n",
       "      <td>...</td>\n",
       "      <td>...</td>\n",
       "      <td>...</td>\n",
       "      <td>...</td>\n",
       "      <td>...</td>\n",
       "    </tr>\n",
       "    <tr>\n",
       "      <th>2495</th>\n",
       "      <td>23735.0</td>\n",
       "      <td>30000.0</td>\n",
       "      <td>60</td>\n",
       "      <td>debt_consolidation</td>\n",
       "      <td>NY</td>\n",
       "      <td>MORTGAGE</td>\n",
       "      <td>9250.00</td>\n",
       "      <td>8</td>\n",
       "      <td>29950.00</td>\n",
       "      <td>16.77</td>\n",
       "      <td>19.23</td>\n",
       "      <td>15.0</td>\n",
       "      <td>45880.0</td>\n",
       "      <td>1.0</td>\n",
       "      <td>705</td>\n",
       "      <td>709</td>\n",
       "    </tr>\n",
       "    <tr>\n",
       "      <th>2496</th>\n",
       "      <td>65882.0</td>\n",
       "      <td>16000.0</td>\n",
       "      <td>60</td>\n",
       "      <td>home_improvement</td>\n",
       "      <td>MD</td>\n",
       "      <td>OWN</td>\n",
       "      <td>8903.25</td>\n",
       "      <td>10</td>\n",
       "      <td>16000.00</td>\n",
       "      <td>14.09</td>\n",
       "      <td>21.54</td>\n",
       "      <td>18.0</td>\n",
       "      <td>18898.0</td>\n",
       "      <td>1.0</td>\n",
       "      <td>740</td>\n",
       "      <td>744</td>\n",
       "    </tr>\n",
       "    <tr>\n",
       "      <th>2497</th>\n",
       "      <td>55610.0</td>\n",
       "      <td>10000.0</td>\n",
       "      <td>36</td>\n",
       "      <td>debt_consolidation</td>\n",
       "      <td>PA</td>\n",
       "      <td>MORTGAGE</td>\n",
       "      <td>2166.67</td>\n",
       "      <td>10</td>\n",
       "      <td>10000.00</td>\n",
       "      <td>13.99</td>\n",
       "      <td>4.89</td>\n",
       "      <td>4.0</td>\n",
       "      <td>4544.0</td>\n",
       "      <td>0.0</td>\n",
       "      <td>680</td>\n",
       "      <td>684</td>\n",
       "    </tr>\n",
       "    <tr>\n",
       "      <th>2498</th>\n",
       "      <td>38576.0</td>\n",
       "      <td>6000.0</td>\n",
       "      <td>36</td>\n",
       "      <td>major_purchase</td>\n",
       "      <td>NJ</td>\n",
       "      <td>RENT</td>\n",
       "      <td>3500.00</td>\n",
       "      <td>5</td>\n",
       "      <td>6000.00</td>\n",
       "      <td>12.42</td>\n",
       "      <td>16.66</td>\n",
       "      <td>8.0</td>\n",
       "      <td>NaN</td>\n",
       "      <td>0.0</td>\n",
       "      <td>675</td>\n",
       "      <td>679</td>\n",
       "    </tr>\n",
       "    <tr>\n",
       "      <th>2499</th>\n",
       "      <td>3116.0</td>\n",
       "      <td>9000.0</td>\n",
       "      <td>36</td>\n",
       "      <td>debt_consolidation</td>\n",
       "      <td>NY</td>\n",
       "      <td>RENT</td>\n",
       "      <td>3875.00</td>\n",
       "      <td>10</td>\n",
       "      <td>5242.75</td>\n",
       "      <td>13.79</td>\n",
       "      <td>6.76</td>\n",
       "      <td>7.0</td>\n",
       "      <td>7589.0</td>\n",
       "      <td>0.0</td>\n",
       "      <td>670</td>\n",
       "      <td>674</td>\n",
       "    </tr>\n",
       "  </tbody>\n",
       "</table>\n",
       "<p>2500 rows × 16 columns</p>\n",
       "</div>"
      ],
      "text/plain": [
       "           ID  Amount.Requested Loan.Length        Loan.Purpose State  \\\n",
       "0     81174.0           20000.0         36   debt_consolidation    SC   \n",
       "1     99592.0           19200.0         36   debt_consolidation    TX   \n",
       "2     80059.0           35000.0         60   debt_consolidation    CA   \n",
       "3     15825.0           10000.0         36   debt_consolidation    KS   \n",
       "4     33182.0           12000.0         36          credit_card    NJ   \n",
       "...       ...               ...         ...                 ...   ...   \n",
       "2495  23735.0           30000.0         60   debt_consolidation    NY   \n",
       "2496  65882.0           16000.0         60     home_improvement    MD   \n",
       "2497  55610.0           10000.0         36   debt_consolidation    PA   \n",
       "2498  38576.0            6000.0         36       major_purchase    NJ   \n",
       "2499   3116.0            9000.0         36   debt_consolidation    NY   \n",
       "\n",
       "     Home.Ownership  Monthly.Income Employment.Length  \\\n",
       "0          MORTGAGE         6541.67                1    \n",
       "1          MORTGAGE         4583.33                2    \n",
       "2          MORTGAGE        11500.00                2    \n",
       "3          MORTGAGE         3833.33                5    \n",
       "4              RENT         3195.00                9    \n",
       "...             ...             ...               ...   \n",
       "2495       MORTGAGE         9250.00                8    \n",
       "2496            OWN         8903.25               10    \n",
       "2497       MORTGAGE         2166.67               10    \n",
       "2498           RENT         3500.00                5    \n",
       "2499           RENT         3875.00               10    \n",
       "\n",
       "      Amount.Funded.By.Investors  Interest.Rate  Debt.To.Income.Ratio  \\\n",
       "0                       20000.00           8.90                 14.90   \n",
       "1                       19200.00          12.12                 28.36   \n",
       "2                       35000.00          21.98                 23.81   \n",
       "3                        9975.00           9.99                 14.30   \n",
       "4                       12000.00          11.71                 18.78   \n",
       "...                          ...            ...                   ...   \n",
       "2495                    29950.00          16.77                 19.23   \n",
       "2496                    16000.00          14.09                 21.54   \n",
       "2497                    10000.00          13.99                  4.89   \n",
       "2498                     6000.00          12.42                 16.66   \n",
       "2499                     5242.75          13.79                  6.76   \n",
       "\n",
       "      Open.CREDIT.Lines  Revolving.CREDIT.Balance  \\\n",
       "0                  14.0                   14272.0   \n",
       "1                  12.0                   11140.0   \n",
       "2                  14.0                   21977.0   \n",
       "3                  10.0                    9346.0   \n",
       "4                  11.0                   14469.0   \n",
       "...                 ...                       ...   \n",
       "2495               15.0                   45880.0   \n",
       "2496               18.0                   18898.0   \n",
       "2497                4.0                    4544.0   \n",
       "2498                8.0                       NaN   \n",
       "2499                7.0                    7589.0   \n",
       "\n",
       "      Inquiries.in.the.Last.6.Months  Fico-low  Fico-high  \n",
       "0                                2.0       735        739  \n",
       "1                                1.0       715        719  \n",
       "2                                1.0       690        694  \n",
       "3                                0.0       695        699  \n",
       "4                                0.0       695        699  \n",
       "...                              ...       ...        ...  \n",
       "2495                             1.0       705        709  \n",
       "2496                             1.0       740        744  \n",
       "2497                             0.0       680        684  \n",
       "2498                             0.0       675        679  \n",
       "2499                             0.0       670        674  \n",
       "\n",
       "[2500 rows x 16 columns]"
      ]
     },
     "execution_count": 35,
     "metadata": {},
     "output_type": "execute_result"
    }
   ],
   "source": [
    "df = pd.concat([df,df_numerics],axis = 1)\n",
    "df"
   ]
  },
  {
   "cell_type": "code",
   "execution_count": 36,
   "id": "7e756e59-b6c8-4a61-ae40-6b8b7bd4a6e4",
   "metadata": {},
   "outputs": [
    {
     "data": {
      "text/plain": [
       "ID                                float64\n",
       "Amount.Requested                  float64\n",
       "Loan.Length                        object\n",
       "Loan.Purpose                       object\n",
       "State                              object\n",
       "Home.Ownership                     object\n",
       "Monthly.Income                    float64\n",
       "Employment.Length                  object\n",
       "Amount.Funded.By.Investors        float64\n",
       "Interest.Rate                     float64\n",
       "Debt.To.Income.Ratio              float64\n",
       "Open.CREDIT.Lines                 float64\n",
       "Revolving.CREDIT.Balance          float64\n",
       "Inquiries.in.the.Last.6.Months    float64\n",
       "Fico-low                            int64\n",
       "Fico-high                           int64\n",
       "dtype: object"
      ]
     },
     "execution_count": 36,
     "metadata": {},
     "output_type": "execute_result"
    }
   ],
   "source": [
    "df.dtypes"
   ]
  },
  {
   "cell_type": "markdown",
   "id": "c9374fa8-296d-411b-8965-2bf92e557aee",
   "metadata": {},
   "source": [
    "### Missing Value han3dling"
   ]
  },
  {
   "cell_type": "code",
   "execution_count": 37,
   "id": "d7a19db2-d3ed-4363-873f-4e349026efff",
   "metadata": {},
   "outputs": [
    {
     "name": "stdout",
     "output_type": "stream",
     "text": [
      "<class 'pandas.core.frame.DataFrame'>\n",
      "RangeIndex: 2500 entries, 0 to 2499\n",
      "Data columns (total 16 columns):\n",
      " #   Column                          Non-Null Count  Dtype  \n",
      "---  ------                          --------------  -----  \n",
      " 0   ID                              2499 non-null   float64\n",
      " 1   Amount.Requested                2495 non-null   float64\n",
      " 2   Loan.Length                     2500 non-null   object \n",
      " 3   Loan.Purpose                    2499 non-null   object \n",
      " 4   State                           2499 non-null   object \n",
      " 5   Home.Ownership                  2499 non-null   object \n",
      " 6   Monthly.Income                  2497 non-null   float64\n",
      " 7   Employment.Length               2422 non-null   object \n",
      " 8   Amount.Funded.By.Investors      2495 non-null   float64\n",
      " 9   Interest.Rate                   2500 non-null   float64\n",
      " 10  Debt.To.Income.Ratio            2499 non-null   float64\n",
      " 11  Open.CREDIT.Lines               2491 non-null   float64\n",
      " 12  Revolving.CREDIT.Balance        2495 non-null   float64\n",
      " 13  Inquiries.in.the.Last.6.Months  2497 non-null   float64\n",
      " 14  Fico-low                        2500 non-null   int64  \n",
      " 15  Fico-high                       2500 non-null   int64  \n",
      "dtypes: float64(9), int64(2), object(5)\n",
      "memory usage: 312.6+ KB\n"
     ]
    }
   ],
   "source": [
    "df.info()"
   ]
  },
  {
   "cell_type": "code",
   "execution_count": 52,
   "id": "a4e4625d-e37b-4308-ba32-5de3d7822a82",
   "metadata": {},
   "outputs": [
    {
     "data": {
      "text/plain": [
       "count     2495.000000\n",
       "mean     12412.414830\n",
       "std       7805.575427\n",
       "min       1000.000000\n",
       "25%       6000.000000\n",
       "50%      10000.000000\n",
       "75%      17000.000000\n",
       "max      35000.000000\n",
       "Name: Amount.Requested, dtype: float64"
      ]
     },
     "execution_count": 52,
     "metadata": {},
     "output_type": "execute_result"
    }
   ],
   "source": [
    "df['Amount.Requested'].describe()"
   ]
  },
  {
   "cell_type": "code",
   "execution_count": 60,
   "id": "635f62df-a55d-4ef9-8c8c-b45e8151b39b",
   "metadata": {},
   "outputs": [],
   "source": [
    "sns.boxplot(x = df['Amount.Requested'])"
   ]
  },
  {
   "cell_type": "code",
   "execution_count": 61,
   "id": "c59f7804-4a0c-4acd-bbe1-604fbb4aa58b",
   "metadata": {},
   "outputs": [],
   "source": [
    "sns.kdeplot(df['Amount.Requested'])"
   ]
  },
  {
   "cell_type": "code",
   "execution_count": 62,
   "id": "718e4849-4c07-47ed-8770-af7cb20bf431",
   "metadata": {},
   "outputs": [],
   "source": [
    "sns.histplot(x = df['Amount.Requested'], kde = True, fill = False)"
   ]
  },
  {
   "cell_type": "code",
   "execution_count": 45,
   "id": "e518d551-68a2-429d-90a1-51aa0e7a792d",
   "metadata": {},
   "outputs": [
    {
     "data": {
      "text/plain": [
       "ID                                 1\n",
       "Amount.Requested                   5\n",
       "Loan.Length                        0\n",
       "Loan.Purpose                       1\n",
       "State                              1\n",
       "Home.Ownership                     1\n",
       "Monthly.Income                     3\n",
       "Employment.Length                 78\n",
       "Amount.Funded.By.Investors         5\n",
       "Interest.Rate                      0\n",
       "Debt.To.Income.Ratio               1\n",
       "Open.CREDIT.Lines                  9\n",
       "Revolving.CREDIT.Balance           5\n",
       "Inquiries.in.the.Last.6.Months     3\n",
       "Fico-low                           0\n",
       "Fico-high                          0\n",
       "dtype: int64"
      ]
     },
     "execution_count": 45,
     "metadata": {},
     "output_type": "execute_result"
    }
   ],
   "source": [
    "df.isnull().sum(axis = 0)"
   ]
  },
  {
   "cell_type": "code",
   "execution_count": 64,
   "id": "8e94f21a-af68-44a1-9043-969f977efd96",
   "metadata": {},
   "outputs": [
    {
     "data": {
      "text/plain": [
       "Employment.Length\n",
       "10     653\n",
       " 1     249\n",
       "2      243\n",
       "3      235\n",
       "5      202\n",
       "4      191\n",
       "1      177\n",
       "6      163\n",
       "7      127\n",
       "8      108\n",
       "9       72\n",
       ".        2\n",
       "Name: count, dtype: int64"
      ]
     },
     "execution_count": 64,
     "metadata": {},
     "output_type": "execute_result"
    }
   ],
   "source": [
    "df['Employment.Length'].value_counts()"
   ]
  },
  {
   "cell_type": "code",
   "execution_count": 69,
   "id": "7be07fad-2fa3-489c-a6a8-978361f69a9e",
   "metadata": {},
   "outputs": [],
   "source": [
    "df['Employment.Length'] = df['Employment.Length'].fillna(df['Employment.Length'].mode().values[0])"
   ]
  },
  {
   "cell_type": "code",
   "execution_count": 70,
   "id": "82b26459-675b-4a77-a376-1b8bc4148040",
   "metadata": {},
   "outputs": [
    {
     "data": {
      "text/plain": [
       "ID                                1\n",
       "Amount.Requested                  5\n",
       "Loan.Length                       0\n",
       "Loan.Purpose                      1\n",
       "State                             1\n",
       "Home.Ownership                    1\n",
       "Monthly.Income                    3\n",
       "Employment.Length                 0\n",
       "Amount.Funded.By.Investors        5\n",
       "Interest.Rate                     0\n",
       "Debt.To.Income.Ratio              1\n",
       "Open.CREDIT.Lines                 9\n",
       "Revolving.CREDIT.Balance          5\n",
       "Inquiries.in.the.Last.6.Months    3\n",
       "Fico-low                          0\n",
       "Fico-high                         0\n",
       "dtype: int64"
      ]
     },
     "execution_count": 70,
     "metadata": {},
     "output_type": "execute_result"
    }
   ],
   "source": [
    "df.isnull().sum()"
   ]
  },
  {
   "cell_type": "code",
   "execution_count": 73,
   "id": "8c96e4f1-3a20-4785-adc3-1645d165dda9",
   "metadata": {},
   "outputs": [
    {
     "data": {
      "text/plain": [
       "<Axes: xlabel='Open.CREDIT.Lines', ylabel='Density'>"
      ]
     },
     "execution_count": 73,
     "metadata": {},
     "output_type": "execute_result"
    },
    {
     "data": {
      "image/png": "[encoded data removed]",
      "text/plain": [
       "<Figure size 640x480 with 1 Axes>"
      ]
     },
     "metadata": {},
     "output_type": "display_data"
    }
   ],
   "source": [
    "sns.kdeplot(df['Open.CREDIT.Lines'])"
   ]
  },
  {
   "cell_type": "code",
   "execution_count": 74,
   "id": "a2125afc-5f9e-4241-80ba-e4ed3017613c",
   "metadata": {},
   "outputs": [
    {
     "data": {
      "text/plain": [
       "count    2491.000000\n",
       "mean       10.082698\n",
       "std         4.510094\n",
       "min         2.000000\n",
       "25%         7.000000\n",
       "50%         9.000000\n",
       "75%        13.000000\n",
       "max        38.000000\n",
       "Name: Open.CREDIT.Lines, dtype: float64"
      ]
     },
     "execution_count": 74,
     "metadata": {},
     "output_type": "execute_result"
    }
   ],
   "source": [
    "df['Open.CREDIT.Lines'].describe()"
   ]
  },
  {
   "cell_type": "code",
   "execution_count": 75,
   "id": "a2249610-a223-44c5-a155-b200e6f2dc2c",
   "metadata": {},
   "outputs": [
    {
     "data": {
      "text/plain": [
       "9.0"
      ]
     },
     "execution_count": 75,
     "metadata": {},
     "output_type": "execute_result"
    }
   ],
   "source": [
    "df['Open.CREDIT.Lines'].median()"
   ]
  },
  {
   "cell_type": "code",
   "execution_count": 77,
   "id": "dd2fc128-2de5-4f04-87e9-eaa8bf23bb5c",
   "metadata": {},
   "outputs": [],
   "source": [
    "df['Open.CREDIT.Lines'] = np.where(df['Open.CREDIT.Lines'].isna(), df['Open.CREDIT.Lines'].median(), df['Open.CREDIT.Lines'])"
   ]
  },
  {
   "cell_type": "code",
   "execution_count": 79,
   "id": "6727d779-f742-4e2a-9911-ee2d3f089aee",
   "metadata": {},
   "outputs": [
    {
     "data": {
      "text/plain": [
       "26"
      ]
     },
     "execution_count": 79,
     "metadata": {},
     "output_type": "execute_result"
    }
   ],
   "source": [
    "df.isnull().sum().sum()"
   ]
  },
  {
   "cell_type": "code",
   "execution_count": 81,
   "id": "0c96eca8-bcad-4eb0-94d5-061dadf4f315",
   "metadata": {},
   "outputs": [
    {
     "data": {
      "text/plain": [
       "(2478, 16)"
      ]
     },
     "execution_count": 81,
     "metadata": {},
     "output_type": "execute_result"
    }
   ],
   "source": [
    "df = df.dropna()\n",
    "df.shape"
   ]
  },
  {
   "cell_type": "code",
   "execution_count": 82,
   "id": "ed5efec9-a9fe-497c-857b-7a0bd32b5bd1",
   "metadata": {},
   "outputs": [
    {
     "data": {
      "text/plain": [
       "ID                                0\n",
       "Amount.Requested                  0\n",
       "Loan.Length                       0\n",
       "Loan.Purpose                      0\n",
       "State                             0\n",
       "Home.Ownership                    0\n",
       "Monthly.Income                    0\n",
       "Employment.Length                 0\n",
       "Amount.Funded.By.Investors        0\n",
       "Interest.Rate                     0\n",
       "Debt.To.Income.Ratio              0\n",
       "Open.CREDIT.Lines                 0\n",
       "Revolving.CREDIT.Balance          0\n",
       "Inquiries.in.the.Last.6.Months    0\n",
       "Fico-low                          0\n",
       "Fico-high                         0\n",
       "dtype: int64"
      ]
     },
     "execution_count": 82,
     "metadata": {},
     "output_type": "execute_result"
    }
   ],
   "source": [
    "df.isnull().sum()"
   ]
  },
  {
   "cell_type": "code",
   "execution_count": 83,
   "id": "d44ad9ea-2c34-4166-8fd8-5b0de739f500",
   "metadata": {},
   "outputs": [
    {
     "data": {
      "text/html": [
       "<div>\n",
       "<style scoped>\n",
       "    .dataframe tbody tr th:only-of-type {\n",
       "        vertical-align: middle;\n",
       "    }\n",
       "\n",
       "    .dataframe tbody tr th {\n",
       "        vertical-align: top;\n",
       "    }\n",
       "\n",
       "    .dataframe thead th {\n",
       "        text-align: right;\n",
       "    }\n",
       "</style>\n",
       "<table border=\"1\" class=\"dataframe\">\n",
       "  <thead>\n",
       "    <tr style=\"text-align: right;\">\n",
       "      <th></th>\n",
       "      <th>ID</th>\n",
       "      <th>Amount.Requested</th>\n",
       "      <th>Loan.Length</th>\n",
       "      <th>Loan.Purpose</th>\n",
       "      <th>State</th>\n",
       "      <th>Home.Ownership</th>\n",
       "      <th>Monthly.Income</th>\n",
       "      <th>Employment.Length</th>\n",
       "      <th>Amount.Funded.By.Investors</th>\n",
       "      <th>Interest.Rate</th>\n",
       "      <th>Debt.To.Income.Ratio</th>\n",
       "      <th>Open.CREDIT.Lines</th>\n",
       "      <th>Revolving.CREDIT.Balance</th>\n",
       "      <th>Inquiries.in.the.Last.6.Months</th>\n",
       "      <th>Fico-low</th>\n",
       "      <th>Fico-high</th>\n",
       "    </tr>\n",
       "  </thead>\n",
       "  <tbody>\n",
       "    <tr>\n",
       "      <th>0</th>\n",
       "      <td>81174.0</td>\n",
       "      <td>20000.0</td>\n",
       "      <td>36</td>\n",
       "      <td>debt_consolidation</td>\n",
       "      <td>SC</td>\n",
       "      <td>MORTGAGE</td>\n",
       "      <td>6541.67</td>\n",
       "      <td>1</td>\n",
       "      <td>20000.00</td>\n",
       "      <td>8.90</td>\n",
       "      <td>14.90</td>\n",
       "      <td>14.0</td>\n",
       "      <td>14272.0</td>\n",
       "      <td>2.0</td>\n",
       "      <td>735</td>\n",
       "      <td>739</td>\n",
       "    </tr>\n",
       "    <tr>\n",
       "      <th>1</th>\n",
       "      <td>99592.0</td>\n",
       "      <td>19200.0</td>\n",
       "      <td>36</td>\n",
       "      <td>debt_consolidation</td>\n",
       "      <td>TX</td>\n",
       "      <td>MORTGAGE</td>\n",
       "      <td>4583.33</td>\n",
       "      <td>2</td>\n",
       "      <td>19200.00</td>\n",
       "      <td>12.12</td>\n",
       "      <td>28.36</td>\n",
       "      <td>12.0</td>\n",
       "      <td>11140.0</td>\n",
       "      <td>1.0</td>\n",
       "      <td>715</td>\n",
       "      <td>719</td>\n",
       "    </tr>\n",
       "    <tr>\n",
       "      <th>2</th>\n",
       "      <td>80059.0</td>\n",
       "      <td>35000.0</td>\n",
       "      <td>60</td>\n",
       "      <td>debt_consolidation</td>\n",
       "      <td>CA</td>\n",
       "      <td>MORTGAGE</td>\n",
       "      <td>11500.00</td>\n",
       "      <td>2</td>\n",
       "      <td>35000.00</td>\n",
       "      <td>21.98</td>\n",
       "      <td>23.81</td>\n",
       "      <td>14.0</td>\n",
       "      <td>21977.0</td>\n",
       "      <td>1.0</td>\n",
       "      <td>690</td>\n",
       "      <td>694</td>\n",
       "    </tr>\n",
       "    <tr>\n",
       "      <th>3</th>\n",
       "      <td>15825.0</td>\n",
       "      <td>10000.0</td>\n",
       "      <td>36</td>\n",
       "      <td>debt_consolidation</td>\n",
       "      <td>KS</td>\n",
       "      <td>MORTGAGE</td>\n",
       "      <td>3833.33</td>\n",
       "      <td>5</td>\n",
       "      <td>9975.00</td>\n",
       "      <td>9.99</td>\n",
       "      <td>14.30</td>\n",
       "      <td>10.0</td>\n",
       "      <td>9346.0</td>\n",
       "      <td>0.0</td>\n",
       "      <td>695</td>\n",
       "      <td>699</td>\n",
       "    </tr>\n",
       "    <tr>\n",
       "      <th>4</th>\n",
       "      <td>33182.0</td>\n",
       "      <td>12000.0</td>\n",
       "      <td>36</td>\n",
       "      <td>credit_card</td>\n",
       "      <td>NJ</td>\n",
       "      <td>RENT</td>\n",
       "      <td>3195.00</td>\n",
       "      <td>9</td>\n",
       "      <td>12000.00</td>\n",
       "      <td>11.71</td>\n",
       "      <td>18.78</td>\n",
       "      <td>11.0</td>\n",
       "      <td>14469.0</td>\n",
       "      <td>0.0</td>\n",
       "      <td>695</td>\n",
       "      <td>699</td>\n",
       "    </tr>\n",
       "    <tr>\n",
       "      <th>...</th>\n",
       "      <td>...</td>\n",
       "      <td>...</td>\n",
       "      <td>...</td>\n",
       "      <td>...</td>\n",
       "      <td>...</td>\n",
       "      <td>...</td>\n",
       "      <td>...</td>\n",
       "      <td>...</td>\n",
       "      <td>...</td>\n",
       "      <td>...</td>\n",
       "      <td>...</td>\n",
       "      <td>...</td>\n",
       "      <td>...</td>\n",
       "      <td>...</td>\n",
       "      <td>...</td>\n",
       "      <td>...</td>\n",
       "    </tr>\n",
       "    <tr>\n",
       "      <th>2494</th>\n",
       "      <td>49957.0</td>\n",
       "      <td>24000.0</td>\n",
       "      <td>36</td>\n",
       "      <td>debt_consolidation</td>\n",
       "      <td>WA</td>\n",
       "      <td>MORTGAGE</td>\n",
       "      <td>6666.67</td>\n",
       "      <td>5</td>\n",
       "      <td>23975.00</td>\n",
       "      <td>14.65</td>\n",
       "      <td>15.29</td>\n",
       "      <td>13.0</td>\n",
       "      <td>17521.0</td>\n",
       "      <td>0.0</td>\n",
       "      <td>685</td>\n",
       "      <td>689</td>\n",
       "    </tr>\n",
       "    <tr>\n",
       "      <th>2495</th>\n",
       "      <td>23735.0</td>\n",
       "      <td>30000.0</td>\n",
       "      <td>60</td>\n",
       "      <td>debt_consolidation</td>\n",
       "      <td>NY</td>\n",
       "      <td>MORTGAGE</td>\n",
       "      <td>9250.00</td>\n",
       "      <td>8</td>\n",
       "      <td>29950.00</td>\n",
       "      <td>16.77</td>\n",
       "      <td>19.23</td>\n",
       "      <td>15.0</td>\n",
       "      <td>45880.0</td>\n",
       "      <td>1.0</td>\n",
       "      <td>705</td>\n",
       "      <td>709</td>\n",
       "    </tr>\n",
       "    <tr>\n",
       "      <th>2496</th>\n",
       "      <td>65882.0</td>\n",
       "      <td>16000.0</td>\n",
       "      <td>60</td>\n",
       "      <td>home_improvement</td>\n",
       "      <td>MD</td>\n",
       "      <td>OWN</td>\n",
       "      <td>8903.25</td>\n",
       "      <td>10</td>\n",
       "      <td>16000.00</td>\n",
       "      <td>14.09</td>\n",
       "      <td>21.54</td>\n",
       "      <td>18.0</td>\n",
       "      <td>18898.0</td>\n",
       "      <td>1.0</td>\n",
       "      <td>740</td>\n",
       "      <td>744</td>\n",
       "    </tr>\n",
       "    <tr>\n",
       "      <th>2497</th>\n",
       "      <td>55610.0</td>\n",
       "      <td>10000.0</td>\n",
       "      <td>36</td>\n",
       "      <td>debt_consolidation</td>\n",
       "      <td>PA</td>\n",
       "      <td>MORTGAGE</td>\n",
       "      <td>2166.67</td>\n",
       "      <td>10</td>\n",
       "      <td>10000.00</td>\n",
       "      <td>13.99</td>\n",
       "      <td>4.89</td>\n",
       "      <td>4.0</td>\n",
       "      <td>4544.0</td>\n",
       "      <td>0.0</td>\n",
       "      <td>680</td>\n",
       "      <td>684</td>\n",
       "    </tr>\n",
       "    <tr>\n",
       "      <th>2499</th>\n",
       "      <td>3116.0</td>\n",
       "      <td>9000.0</td>\n",
       "      <td>36</td>\n",
       "      <td>debt_consolidation</td>\n",
       "      <td>NY</td>\n",
       "      <td>RENT</td>\n",
       "      <td>3875.00</td>\n",
       "      <td>10</td>\n",
       "      <td>5242.75</td>\n",
       "      <td>13.79</td>\n",
       "      <td>6.76</td>\n",
       "      <td>7.0</td>\n",
       "      <td>7589.0</td>\n",
       "      <td>0.0</td>\n",
       "      <td>670</td>\n",
       "      <td>674</td>\n",
       "    </tr>\n",
       "  </tbody>\n",
       "</table>\n",
       "<p>2478 rows × 16 columns</p>\n",
       "</div>"
      ],
      "text/plain": [
       "           ID  Amount.Requested Loan.Length        Loan.Purpose State  \\\n",
       "0     81174.0           20000.0         36   debt_consolidation    SC   \n",
       "1     99592.0           19200.0         36   debt_consolidation    TX   \n",
       "2     80059.0           35000.0         60   debt_consolidation    CA   \n",
       "3     15825.0           10000.0         36   debt_consolidation    KS   \n",
       "4     33182.0           12000.0         36          credit_card    NJ   \n",
       "...       ...               ...         ...                 ...   ...   \n",
       "2494  49957.0           24000.0         36   debt_consolidation    WA   \n",
       "2495  23735.0           30000.0         60   debt_consolidation    NY   \n",
       "2496  65882.0           16000.0         60     home_improvement    MD   \n",
       "2497  55610.0           10000.0         36   debt_consolidation    PA   \n",
       "2499   3116.0            9000.0         36   debt_consolidation    NY   \n",
       "\n",
       "     Home.Ownership  Monthly.Income Employment.Length  \\\n",
       "0          MORTGAGE         6541.67                1    \n",
       "1          MORTGAGE         4583.33                2    \n",
       "2          MORTGAGE        11500.00                2    \n",
       "3          MORTGAGE         3833.33                5    \n",
       "4              RENT         3195.00                9    \n",
       "...             ...             ...               ...   \n",
       "2494       MORTGAGE         6666.67                5    \n",
       "2495       MORTGAGE         9250.00                8    \n",
       "2496            OWN         8903.25               10    \n",
       "2497       MORTGAGE         2166.67               10    \n",
       "2499           RENT         3875.00               10    \n",
       "\n",
       "      Amount.Funded.By.Investors  Interest.Rate  Debt.To.Income.Ratio  \\\n",
       "0                       20000.00           8.90                 14.90   \n",
       "1                       19200.00          12.12                 28.36   \n",
       "2                       35000.00          21.98                 23.81   \n",
       "3                        9975.00           9.99                 14.30   \n",
       "4                       12000.00          11.71                 18.78   \n",
       "...                          ...            ...                   ...   \n",
       "2494                    23975.00          14.65                 15.29   \n",
       "2495                    29950.00          16.77                 19.23   \n",
       "2496                    16000.00          14.09                 21.54   \n",
       "2497                    10000.00          13.99                  4.89   \n",
       "2499                     5242.75          13.79                  6.76   \n",
       "\n",
       "      Open.CREDIT.Lines  Revolving.CREDIT.Balance  \\\n",
       "0                  14.0                   14272.0   \n",
       "1                  12.0                   11140.0   \n",
       "2                  14.0                   21977.0   \n",
       "3                  10.0                    9346.0   \n",
       "4                  11.0                   14469.0   \n",
       "...                 ...                       ...   \n",
       "2494               13.0                   17521.0   \n",
       "2495               15.0                   45880.0   \n",
       "2496               18.0                   18898.0   \n",
       "2497                4.0                    4544.0   \n",
       "2499                7.0                    7589.0   \n",
       "\n",
       "      Inquiries.in.the.Last.6.Months  Fico-low  Fico-high  \n",
       "0                                2.0       735        739  \n",
       "1                                1.0       715        719  \n",
       "2                                1.0       690        694  \n",
       "3                                0.0       695        699  \n",
       "4                                0.0       695        699  \n",
       "...                              ...       ...        ...  \n",
       "2494                             0.0       685        689  \n",
       "2495                             1.0       705        709  \n",
       "2496                             1.0       740        744  \n",
       "2497                             0.0       680        684  \n",
       "2499                             0.0       670        674  \n",
       "\n",
       "[2478 rows x 16 columns]"
      ]
     },
     "execution_count": 83,
     "metadata": {},
     "output_type": "execute_result"
    }
   ],
   "source": [
    "# Drop Duplicates\n",
    "\n",
    "df.drop_duplicates()"
   ]
  },
  {
   "cell_type": "markdown",
   "id": "2395c4a5-2da7-43ff-bc40-04be8c7ae5fb",
   "metadata": {},
   "source": [
    "### Encoding:\n",
    "\n",
    "- Converting categorical variable to numeric\n",
    "  1. One Hot Encoding\n",
    "  2. Label Encoding"
   ]
  },
  {
   "cell_type": "code",
   "execution_count": 84,
   "id": "83f32831-4613-4f02-afe0-5ccd108c410c",
   "metadata": {},
   "outputs": [
    {
     "data": {
      "text/plain": [
       "State\n",
       "CA    430\n",
       "NY    253\n",
       "TX    173\n",
       "FL    169\n",
       "IL    100\n",
       "GA     97\n",
       "PA     96\n",
       "NJ     92\n",
       "VA     77\n",
       "MA     72\n",
       "OH     70\n",
       "MD     65\n",
       "NC     64\n",
       "CO     61\n",
       "WA     57\n",
       "CT     50\n",
       "AZ     46\n",
       "MI     44\n",
       "AL     38\n",
       "MN     37\n",
       "MO     33\n",
       "NV     32\n",
       "OR     29\n",
       "SC     27\n",
       "WI     26\n",
       "KY     23\n",
       "LA     22\n",
       "OK     21\n",
       "KS     21\n",
       "UT     16\n",
       "NH     15\n",
       "RI     15\n",
       "WV     14\n",
       "AR     13\n",
       "NM     13\n",
       "AK     11\n",
       "DC     11\n",
       "HI     11\n",
       "DE      8\n",
       "MT      7\n",
       "VT      5\n",
       "SD      4\n",
       "WY      4\n",
       "IN      3\n",
       "IA      1\n",
       ".       1\n",
       "MS      1\n",
       "Name: count, dtype: int64"
      ]
     },
     "execution_count": 84,
     "metadata": {},
     "output_type": "execute_result"
    }
   ],
   "source": [
    "df['State'].value_counts()"
   ]
  },
  {
   "cell_type": "code",
   "execution_count": 85,
   "id": "3d5e0e3a-4c0f-426a-b197-06b5aea96c26",
   "metadata": {},
   "outputs": [
    {
     "data": {
      "text/plain": [
       "Home.Ownership\n",
       "RENT        1138\n",
       "MORTGAGE    1137\n",
       "OWN          198\n",
       "OTHER          5\n",
       "Name: count, dtype: int64"
      ]
     },
     "execution_count": 85,
     "metadata": {},
     "output_type": "execute_result"
    }
   ],
   "source": [
    "df['Home.Ownership'].value_counts()"
   ]
  },
  {
   "cell_type": "code",
   "execution_count": 89,
   "id": "035d870c-41c5-4af7-9296-016be3bb1623",
   "metadata": {},
   "outputs": [
    {
     "data": {
      "text/html": [
       "<div>\n",
       "<style scoped>\n",
       "    .dataframe tbody tr th:only-of-type {\n",
       "        vertical-align: middle;\n",
       "    }\n",
       "\n",
       "    .dataframe tbody tr th {\n",
       "        vertical-align: top;\n",
       "    }\n",
       "\n",
       "    .dataframe thead th {\n",
       "        text-align: right;\n",
       "    }\n",
       "</style>\n",
       "<table border=\"1\" class=\"dataframe\">\n",
       "  <thead>\n",
       "    <tr style=\"text-align: right;\">\n",
       "      <th></th>\n",
       "      <th>ho_OTHER</th>\n",
       "      <th>ho_OWN</th>\n",
       "      <th>ho_RENT</th>\n",
       "    </tr>\n",
       "  </thead>\n",
       "  <tbody>\n",
       "    <tr>\n",
       "      <th>0</th>\n",
       "      <td>0</td>\n",
       "      <td>0</td>\n",
       "      <td>0</td>\n",
       "    </tr>\n",
       "    <tr>\n",
       "      <th>1</th>\n",
       "      <td>0</td>\n",
       "      <td>0</td>\n",
       "      <td>0</td>\n",
       "    </tr>\n",
       "    <tr>\n",
       "      <th>2</th>\n",
       "      <td>0</td>\n",
       "      <td>0</td>\n",
       "      <td>0</td>\n",
       "    </tr>\n",
       "    <tr>\n",
       "      <th>3</th>\n",
       "      <td>0</td>\n",
       "      <td>0</td>\n",
       "      <td>0</td>\n",
       "    </tr>\n",
       "    <tr>\n",
       "      <th>4</th>\n",
       "      <td>0</td>\n",
       "      <td>0</td>\n",
       "      <td>1</td>\n",
       "    </tr>\n",
       "    <tr>\n",
       "      <th>...</th>\n",
       "      <td>...</td>\n",
       "      <td>...</td>\n",
       "      <td>...</td>\n",
       "    </tr>\n",
       "    <tr>\n",
       "      <th>2494</th>\n",
       "      <td>0</td>\n",
       "      <td>0</td>\n",
       "      <td>0</td>\n",
       "    </tr>\n",
       "    <tr>\n",
       "      <th>2495</th>\n",
       "      <td>0</td>\n",
       "      <td>0</td>\n",
       "      <td>0</td>\n",
       "    </tr>\n",
       "    <tr>\n",
       "      <th>2496</th>\n",
       "      <td>0</td>\n",
       "      <td>1</td>\n",
       "      <td>0</td>\n",
       "    </tr>\n",
       "    <tr>\n",
       "      <th>2497</th>\n",
       "      <td>0</td>\n",
       "      <td>0</td>\n",
       "      <td>0</td>\n",
       "    </tr>\n",
       "    <tr>\n",
       "      <th>2499</th>\n",
       "      <td>0</td>\n",
       "      <td>0</td>\n",
       "      <td>1</td>\n",
       "    </tr>\n",
       "  </tbody>\n",
       "</table>\n",
       "<p>2478 rows × 3 columns</p>\n",
       "</div>"
      ],
      "text/plain": [
       "      ho_OTHER  ho_OWN  ho_RENT\n",
       "0            0       0        0\n",
       "1            0       0        0\n",
       "2            0       0        0\n",
       "3            0       0        0\n",
       "4            0       0        1\n",
       "...        ...     ...      ...\n",
       "2494         0       0        0\n",
       "2495         0       0        0\n",
       "2496         0       1        0\n",
       "2497         0       0        0\n",
       "2499         0       0        1\n",
       "\n",
       "[2478 rows x 3 columns]"
      ]
     },
     "execution_count": 89,
     "metadata": {},
     "output_type": "execute_result"
    }
   ],
   "source": [
    "pd.get_dummies(df['Home.Ownership'], prefix = \"ho\", drop_first= True).astype(int)"
   ]
  },
  {
   "cell_type": "code",
   "execution_count": 95,
   "id": "b89a9109-e216-4a88-8867-a43b7fad770b",
   "metadata": {},
   "outputs": [
    {
     "data": {
      "text/plain": [
       "['Loan.Length', 'Loan.Purpose', 'State', 'Home.Ownership', 'Employment.Length']"
      ]
     },
     "execution_count": 95,
     "metadata": {},
     "output_type": "execute_result"
    }
   ],
   "source": [
    "categorical_cols = list(df.select_dtypes('object').columns)\n",
    "categorical_cols"
   ]
  },
  {
   "cell_type": "code",
   "execution_count": 101,
   "id": "190d8da4-caac-45cb-952f-cd588065038b",
   "metadata": {},
   "outputs": [
    {
     "name": "stderr",
     "output_type": "stream",
     "text": [
      "C:\\Users\\Naaaz\\AppData\\Local\\Temp\\ipykernel_4472\\2501712403.py:1: SettingWithCopyWarning: \n",
      "A value is trying to be set on a copy of a slice from a DataFrame.\n",
      "Try using .loc[row_indexer,col_indexer] = value instead\n",
      "\n",
      "See the caveats in the documentation: https://pandas.pydata.org/pandas-docs/stable/user_guide/indexing.html#returning-a-view-versus-a-copy\n",
      "  df['Loan.Length'] = np.where(df['Loan.Length'] == '36', '36 ',df['Loan.Length'])\n"
     ]
    },
    {
     "data": {
      "text/plain": [
       "Loan.Length\n",
       "36     1933\n",
       "60      545\n",
       "Name: count, dtype: int64"
      ]
     },
     "execution_count": 101,
     "metadata": {},
     "output_type": "execute_result"
    }
   ],
   "source": [
    "df['Loan.Length'] = np.where(df['Loan.Length'] == '.', '36 ',df['Loan.Length'])\n",
    "df['Loan.Length'].value_counts()"
   ]
  },
  {
   "cell_type": "code",
   "execution_count": 102,
   "id": "b52abf37-1651-4ffb-9091-33009927d529",
   "metadata": {},
   "outputs": [
    {
     "data": {
      "text/plain": [
       "array(['36 ', '60 '], dtype=object)"
      ]
     },
     "execution_count": 102,
     "metadata": {},
     "output_type": "execute_result"
    }
   ],
   "source": [
    "df['Loan.Length'].unique()"
   ]
  },
  {
   "cell_type": "code",
   "execution_count": 117,
   "id": "8935dcfb-d66e-466f-8892-cb4e642da30c",
   "metadata": {},
   "outputs": [],
   "source": [
    "df_dummies = pd.DataFrame()\n",
    "for col in categorical_cols:\n",
    "    df_dummies = pd.concat([df_dummies, pd.get_dummies(df[col], prefix = col, drop_first = True).astype(int)], axis = 1)"
   ]
  },
  {
   "cell_type": "code",
   "execution_count": 108,
   "id": "91a87a7a-8fd7-4f72-94f9-6465c08c6df7",
   "metadata": {},
   "outputs": [],
   "source": [
    "df = df.drop(categorical_cols,axis = 1)"
   ]
  },
  {
   "cell_type": "code",
   "execution_count": 116,
   "id": "ac312631-9a63-400b-bb2f-4b02834c55cc",
   "metadata": {},
   "outputs": [],
   "source": [
    "df = pd.concat([df,df_dummies], axis = 1)"
   ]
  },
  {
   "cell_type": "code",
   "execution_count": 118,
   "id": "e00fbe3e-abf9-48b6-a55d-00fbd95cea4a",
   "metadata": {},
   "outputs": [
    {
     "data": {
      "text/plain": [
       "(2478, 85)"
      ]
     },
     "execution_count": 118,
     "metadata": {},
     "output_type": "execute_result"
    }
   ],
   "source": [
    "df.shape"
   ]
  },
  {
   "cell_type": "code",
   "execution_count": 115,
   "id": "1d62832d-245e-48d9-a465-e36f09510f48",
   "metadata": {},
   "outputs": [
    {
     "data": {
      "text/plain": [
       "Index([], dtype='object')"
      ]
     },
     "execution_count": 115,
     "metadata": {},
     "output_type": "execute_result"
    }
   ],
   "source": [
    "df.select_dtypes('object').columns"
   ]
  },
  {
   "cell_type": "code",
   "execution_count": null,
   "id": "b0d3b9bb-e816-416c-8498-03a588892008",
   "metadata": {},
   "outputs": [],
   "source": [
    "# !pip install scikit-learn"
   ]
  },
  {
   "cell_type": "code",
   "execution_count": 121,
   "id": "693a8598-dcaa-48ea-8be9-c278f76b3b73",
   "metadata": {},
   "outputs": [],
   "source": [
    "df1 = pd.read_csv(r'D:\\Training\\LTIMindTree\\Python\\data\\loans data.csv')"
   ]
  },
  {
   "cell_type": "code",
   "execution_count": 122,
   "id": "30b4af84-085d-4540-99b4-e74dfd04a7c0",
   "metadata": {},
   "outputs": [],
   "source": [
    "from sklearn.preprocessing import OneHotEncoder\n",
    "ohe = OneHotEncoder(sparse=False)"
   ]
  },
  {
   "cell_type": "code",
   "execution_count": 124,
   "id": "c9adefee-5999-421f-b834-a61c6cf2e66e",
   "metadata": {},
   "outputs": [
    {
     "data": {
      "text/html": [
       "<div>\n",
       "<style scoped>\n",
       "    .dataframe tbody tr th:only-of-type {\n",
       "        vertical-align: middle;\n",
       "    }\n",
       "\n",
       "    .dataframe tbody tr th {\n",
       "        vertical-align: top;\n",
       "    }\n",
       "\n",
       "    .dataframe thead th {\n",
       "        text-align: right;\n",
       "    }\n",
       "</style>\n",
       "<table border=\"1\" class=\"dataframe\">\n",
       "  <thead>\n",
       "    <tr style=\"text-align: right;\">\n",
       "      <th></th>\n",
       "      <th>Home.Ownership</th>\n",
       "    </tr>\n",
       "  </thead>\n",
       "  <tbody>\n",
       "    <tr>\n",
       "      <th>0</th>\n",
       "      <td>MORTGAGE</td>\n",
       "    </tr>\n",
       "    <tr>\n",
       "      <th>1</th>\n",
       "      <td>MORTGAGE</td>\n",
       "    </tr>\n",
       "    <tr>\n",
       "      <th>2</th>\n",
       "      <td>MORTGAGE</td>\n",
       "    </tr>\n",
       "    <tr>\n",
       "      <th>3</th>\n",
       "      <td>MORTGAGE</td>\n",
       "    </tr>\n",
       "    <tr>\n",
       "      <th>4</th>\n",
       "      <td>RENT</td>\n",
       "    </tr>\n",
       "    <tr>\n",
       "      <th>...</th>\n",
       "      <td>...</td>\n",
       "    </tr>\n",
       "    <tr>\n",
       "      <th>2495</th>\n",
       "      <td>MORTGAGE</td>\n",
       "    </tr>\n",
       "    <tr>\n",
       "      <th>2496</th>\n",
       "      <td>OWN</td>\n",
       "    </tr>\n",
       "    <tr>\n",
       "      <th>2497</th>\n",
       "      <td>MORTGAGE</td>\n",
       "    </tr>\n",
       "    <tr>\n",
       "      <th>2498</th>\n",
       "      <td>RENT</td>\n",
       "    </tr>\n",
       "    <tr>\n",
       "      <th>2499</th>\n",
       "      <td>RENT</td>\n",
       "    </tr>\n",
       "  </tbody>\n",
       "</table>\n",
       "<p>2500 rows × 1 columns</p>\n",
       "</div>"
      ],
      "text/plain": [
       "     Home.Ownership\n",
       "0          MORTGAGE\n",
       "1          MORTGAGE\n",
       "2          MORTGAGE\n",
       "3          MORTGAGE\n",
       "4              RENT\n",
       "...             ...\n",
       "2495       MORTGAGE\n",
       "2496            OWN\n",
       "2497       MORTGAGE\n",
       "2498           RENT\n",
       "2499           RENT\n",
       "\n",
       "[2500 rows x 1 columns]"
      ]
     },
     "execution_count": 124,
     "metadata": {},
     "output_type": "execute_result"
    }
   ],
   "source": [
    "df1[['Home.Ownership']]"
   ]
  },
  {
   "cell_type": "code",
   "execution_count": 125,
   "id": "72411224-be45-4a8b-9fd5-87bfa8bf30c1",
   "metadata": {},
   "outputs": [
    {
     "name": "stderr",
     "output_type": "stream",
     "text": [
      "C:\\Users\\Naaaz\\AppData\\Local\\Programs\\Python\\Python312\\Lib\\site-packages\\sklearn\\preprocessing\\_encoders.py:975: FutureWarning: `sparse` was renamed to `sparse_output` in version 1.2 and will be removed in 1.4. `sparse_output` is ignored unless you leave `sparse` to its default value.\n",
      "  warnings.warn(\n"
     ]
    },
    {
     "data": {
      "text/plain": [
       "array([[1., 0., 0., 0., 0., 0.],\n",
       "       [1., 0., 0., 0., 0., 0.],\n",
       "       [1., 0., 0., 0., 0., 0.],\n",
       "       ...,\n",
       "       [1., 0., 0., 0., 0., 0.],\n",
       "       [0., 0., 0., 0., 1., 0.],\n",
       "       [0., 0., 0., 0., 1., 0.]])"
      ]
     },
     "execution_count": 125,
     "metadata": {},
     "output_type": "execute_result"
    }
   ],
   "source": [
    "ohe.fit_transform(df1[['Home.Ownership']])"
   ]
  },
  {
   "cell_type": "code",
   "execution_count": 126,
   "id": "413d56ad-cc16-4819-98a0-db3b33b19212",
   "metadata": {},
   "outputs": [],
   "source": [
    "from sklearn.preprocessing import LabelEncoder\n",
    "le = LabelEncoder()"
   ]
  },
  {
   "cell_type": "code",
   "execution_count": 127,
   "id": "06786401-d66f-462c-8f16-ee0dc960c8e8",
   "metadata": {},
   "outputs": [
    {
     "name": "stderr",
     "output_type": "stream",
     "text": [
      "C:\\Users\\Naaaz\\AppData\\Local\\Programs\\Python\\Python312\\Lib\\site-packages\\sklearn\\preprocessing\\_label.py:114: DataConversionWarning: A column-vector y was passed when a 1d array was expected. Please change the shape of y to (n_samples, ), for example using ravel().\n",
      "  y = column_or_1d(y, warn=True)\n"
     ]
    },
    {
     "data": {
      "text/plain": [
       "array([37, 39,  5, ..., 35, 28, 31])"
      ]
     },
     "execution_count": 127,
     "metadata": {},
     "output_type": "execute_result"
    }
   ],
   "source": [
    "le.fit_transform(df1[['State']])"
   ]
  },
  {
   "cell_type": "markdown",
   "id": "a5c96d57-511c-4c94-b1a5-ddf65477755b",
   "metadata": {},
   "source": [
    "### Feature Scaling:\n",
    "```\n",
    "- Multiple independent features having different scales are not good for some models, hence scaling is necessary for some models\n",
    "- 2 most common techniques used for Scaling:\n",
    "      1. Normalization: Scale between 0 - 1 (MinMaxScaler most common)\n",
    "      2. Standardization: Scale based on standard normal distribution (StandardScaler\n",
    "```"
   ]
  },
  {
   "attachments": {
    "f13da7f5-e7c9-4614-b5d2-f1bec8720977.png": {
     "image/png": "[encoded data removed]"
    }
   },
   "cell_type": "markdown",
   "id": "c2ee3516-4f42-45f4-be0b-894b967e64a1",
   "metadata": {},
   "source": [
    "![image.png](attachment:f13da7f5-e7c9-4614-b5d2-f1bec8720977.png)"
   ]
  },
  {
   "attachments": {
    "e6223ab9-d160-43d1-b9fa-e641ce91bf67.png": {
     "image/png": "[encoded data removed]"
    }
   },
   "cell_type": "markdown",
   "id": "d9f972f3-4907-40ca-9c67-49a4ba0ebdfe",
   "metadata": {},
   "source": [
    "![image.png](attachment:e6223ab9-d160-43d1-b9fa-e641ce91bf67.png)"
   ]
  },
  {
   "cell_type": "code",
   "execution_count": 128,
   "id": "231036e1-ac2f-4997-b499-dd06a7ce4a07",
   "metadata": {},
   "outputs": [
    {
     "data": {
      "text/html": [
       "<div>\n",
       "<style scoped>\n",
       "    .dataframe tbody tr th:only-of-type {\n",
       "        vertical-align: middle;\n",
       "    }\n",
       "\n",
       "    .dataframe tbody tr th {\n",
       "        vertical-align: top;\n",
       "    }\n",
       "\n",
       "    .dataframe thead th {\n",
       "        text-align: right;\n",
       "    }\n",
       "</style>\n",
       "<table border=\"1\" class=\"dataframe\">\n",
       "  <thead>\n",
       "    <tr style=\"text-align: right;\">\n",
       "      <th></th>\n",
       "      <th>ID</th>\n",
       "      <th>Amount.Requested</th>\n",
       "      <th>Monthly.Income</th>\n",
       "      <th>Amount.Funded.By.Investors</th>\n",
       "      <th>Interest.Rate</th>\n",
       "      <th>Debt.To.Income.Ratio</th>\n",
       "      <th>Open.CREDIT.Lines</th>\n",
       "      <th>Revolving.CREDIT.Balance</th>\n",
       "      <th>Inquiries.in.the.Last.6.Months</th>\n",
       "      <th>Fico-low</th>\n",
       "      <th>...</th>\n",
       "      <th>Employment.Length_1</th>\n",
       "      <th>Employment.Length_10</th>\n",
       "      <th>Employment.Length_2</th>\n",
       "      <th>Employment.Length_3</th>\n",
       "      <th>Employment.Length_4</th>\n",
       "      <th>Employment.Length_5</th>\n",
       "      <th>Employment.Length_6</th>\n",
       "      <th>Employment.Length_7</th>\n",
       "      <th>Employment.Length_8</th>\n",
       "      <th>Employment.Length_9</th>\n",
       "    </tr>\n",
       "  </thead>\n",
       "  <tbody>\n",
       "    <tr>\n",
       "      <th>0</th>\n",
       "      <td>81174.0</td>\n",
       "      <td>20000.0</td>\n",
       "      <td>6541.67</td>\n",
       "      <td>20000.00</td>\n",
       "      <td>8.90</td>\n",
       "      <td>14.90</td>\n",
       "      <td>14.0</td>\n",
       "      <td>14272.0</td>\n",
       "      <td>2.0</td>\n",
       "      <td>735</td>\n",
       "      <td>...</td>\n",
       "      <td>0</td>\n",
       "      <td>0</td>\n",
       "      <td>0</td>\n",
       "      <td>0</td>\n",
       "      <td>0</td>\n",
       "      <td>0</td>\n",
       "      <td>0</td>\n",
       "      <td>0</td>\n",
       "      <td>0</td>\n",
       "      <td>0</td>\n",
       "    </tr>\n",
       "    <tr>\n",
       "      <th>1</th>\n",
       "      <td>99592.0</td>\n",
       "      <td>19200.0</td>\n",
       "      <td>4583.33</td>\n",
       "      <td>19200.00</td>\n",
       "      <td>12.12</td>\n",
       "      <td>28.36</td>\n",
       "      <td>12.0</td>\n",
       "      <td>11140.0</td>\n",
       "      <td>1.0</td>\n",
       "      <td>715</td>\n",
       "      <td>...</td>\n",
       "      <td>0</td>\n",
       "      <td>0</td>\n",
       "      <td>1</td>\n",
       "      <td>0</td>\n",
       "      <td>0</td>\n",
       "      <td>0</td>\n",
       "      <td>0</td>\n",
       "      <td>0</td>\n",
       "      <td>0</td>\n",
       "      <td>0</td>\n",
       "    </tr>\n",
       "    <tr>\n",
       "      <th>2</th>\n",
       "      <td>80059.0</td>\n",
       "      <td>35000.0</td>\n",
       "      <td>11500.00</td>\n",
       "      <td>35000.00</td>\n",
       "      <td>21.98</td>\n",
       "      <td>23.81</td>\n",
       "      <td>14.0</td>\n",
       "      <td>21977.0</td>\n",
       "      <td>1.0</td>\n",
       "      <td>690</td>\n",
       "      <td>...</td>\n",
       "      <td>0</td>\n",
       "      <td>0</td>\n",
       "      <td>1</td>\n",
       "      <td>0</td>\n",
       "      <td>0</td>\n",
       "      <td>0</td>\n",
       "      <td>0</td>\n",
       "      <td>0</td>\n",
       "      <td>0</td>\n",
       "      <td>0</td>\n",
       "    </tr>\n",
       "    <tr>\n",
       "      <th>3</th>\n",
       "      <td>15825.0</td>\n",
       "      <td>10000.0</td>\n",
       "      <td>3833.33</td>\n",
       "      <td>9975.00</td>\n",
       "      <td>9.99</td>\n",
       "      <td>14.30</td>\n",
       "      <td>10.0</td>\n",
       "      <td>9346.0</td>\n",
       "      <td>0.0</td>\n",
       "      <td>695</td>\n",
       "      <td>...</td>\n",
       "      <td>0</td>\n",
       "      <td>0</td>\n",
       "      <td>0</td>\n",
       "      <td>0</td>\n",
       "      <td>0</td>\n",
       "      <td>1</td>\n",
       "      <td>0</td>\n",
       "      <td>0</td>\n",
       "      <td>0</td>\n",
       "      <td>0</td>\n",
       "    </tr>\n",
       "    <tr>\n",
       "      <th>4</th>\n",
       "      <td>33182.0</td>\n",
       "      <td>12000.0</td>\n",
       "      <td>3195.00</td>\n",
       "      <td>12000.00</td>\n",
       "      <td>11.71</td>\n",
       "      <td>18.78</td>\n",
       "      <td>11.0</td>\n",
       "      <td>14469.0</td>\n",
       "      <td>0.0</td>\n",
       "      <td>695</td>\n",
       "      <td>...</td>\n",
       "      <td>0</td>\n",
       "      <td>0</td>\n",
       "      <td>0</td>\n",
       "      <td>0</td>\n",
       "      <td>0</td>\n",
       "      <td>0</td>\n",
       "      <td>0</td>\n",
       "      <td>0</td>\n",
       "      <td>0</td>\n",
       "      <td>1</td>\n",
       "    </tr>\n",
       "    <tr>\n",
       "      <th>...</th>\n",
       "      <td>...</td>\n",
       "      <td>...</td>\n",
       "      <td>...</td>\n",
       "      <td>...</td>\n",
       "      <td>...</td>\n",
       "      <td>...</td>\n",
       "      <td>...</td>\n",
       "      <td>...</td>\n",
       "      <td>...</td>\n",
       "      <td>...</td>\n",
       "      <td>...</td>\n",
       "      <td>...</td>\n",
       "      <td>...</td>\n",
       "      <td>...</td>\n",
       "      <td>...</td>\n",
       "      <td>...</td>\n",
       "      <td>...</td>\n",
       "      <td>...</td>\n",
       "      <td>...</td>\n",
       "      <td>...</td>\n",
       "      <td>...</td>\n",
       "    </tr>\n",
       "    <tr>\n",
       "      <th>2494</th>\n",
       "      <td>49957.0</td>\n",
       "      <td>24000.0</td>\n",
       "      <td>6666.67</td>\n",
       "      <td>23975.00</td>\n",
       "      <td>14.65</td>\n",
       "      <td>15.29</td>\n",
       "      <td>13.0</td>\n",
       "      <td>17521.0</td>\n",
       "      <td>0.0</td>\n",
       "      <td>685</td>\n",
       "      <td>...</td>\n",
       "      <td>0</td>\n",
       "      <td>0</td>\n",
       "      <td>0</td>\n",
       "      <td>0</td>\n",
       "      <td>0</td>\n",
       "      <td>1</td>\n",
       "      <td>0</td>\n",
       "      <td>0</td>\n",
       "      <td>0</td>\n",
       "      <td>0</td>\n",
       "    </tr>\n",
       "    <tr>\n",
       "      <th>2495</th>\n",
       "      <td>23735.0</td>\n",
       "      <td>30000.0</td>\n",
       "      <td>9250.00</td>\n",
       "      <td>29950.00</td>\n",
       "      <td>16.77</td>\n",
       "      <td>19.23</td>\n",
       "      <td>15.0</td>\n",
       "      <td>45880.0</td>\n",
       "      <td>1.0</td>\n",
       "      <td>705</td>\n",
       "      <td>...</td>\n",
       "      <td>0</td>\n",
       "      <td>0</td>\n",
       "      <td>0</td>\n",
       "      <td>0</td>\n",
       "      <td>0</td>\n",
       "      <td>0</td>\n",
       "      <td>0</td>\n",
       "      <td>0</td>\n",
       "      <td>1</td>\n",
       "      <td>0</td>\n",
       "    </tr>\n",
       "    <tr>\n",
       "      <th>2496</th>\n",
       "      <td>65882.0</td>\n",
       "      <td>16000.0</td>\n",
       "      <td>8903.25</td>\n",
       "      <td>16000.00</td>\n",
       "      <td>14.09</td>\n",
       "      <td>21.54</td>\n",
       "      <td>18.0</td>\n",
       "      <td>18898.0</td>\n",
       "      <td>1.0</td>\n",
       "      <td>740</td>\n",
       "      <td>...</td>\n",
       "      <td>0</td>\n",
       "      <td>1</td>\n",
       "      <td>0</td>\n",
       "      <td>0</td>\n",
       "      <td>0</td>\n",
       "      <td>0</td>\n",
       "      <td>0</td>\n",
       "      <td>0</td>\n",
       "      <td>0</td>\n",
       "      <td>0</td>\n",
       "    </tr>\n",
       "    <tr>\n",
       "      <th>2497</th>\n",
       "      <td>55610.0</td>\n",
       "      <td>10000.0</td>\n",
       "      <td>2166.67</td>\n",
       "      <td>10000.00</td>\n",
       "      <td>13.99</td>\n",
       "      <td>4.89</td>\n",
       "      <td>4.0</td>\n",
       "      <td>4544.0</td>\n",
       "      <td>0.0</td>\n",
       "      <td>680</td>\n",
       "      <td>...</td>\n",
       "      <td>0</td>\n",
       "      <td>1</td>\n",
       "      <td>0</td>\n",
       "      <td>0</td>\n",
       "      <td>0</td>\n",
       "      <td>0</td>\n",
       "      <td>0</td>\n",
       "      <td>0</td>\n",
       "      <td>0</td>\n",
       "      <td>0</td>\n",
       "    </tr>\n",
       "    <tr>\n",
       "      <th>2499</th>\n",
       "      <td>3116.0</td>\n",
       "      <td>9000.0</td>\n",
       "      <td>3875.00</td>\n",
       "      <td>5242.75</td>\n",
       "      <td>13.79</td>\n",
       "      <td>6.76</td>\n",
       "      <td>7.0</td>\n",
       "      <td>7589.0</td>\n",
       "      <td>0.0</td>\n",
       "      <td>670</td>\n",
       "      <td>...</td>\n",
       "      <td>0</td>\n",
       "      <td>1</td>\n",
       "      <td>0</td>\n",
       "      <td>0</td>\n",
       "      <td>0</td>\n",
       "      <td>0</td>\n",
       "      <td>0</td>\n",
       "      <td>0</td>\n",
       "      <td>0</td>\n",
       "      <td>0</td>\n",
       "    </tr>\n",
       "  </tbody>\n",
       "</table>\n",
       "<p>2478 rows × 85 columns</p>\n",
       "</div>"
      ],
      "text/plain": [
       "           ID  Amount.Requested  Monthly.Income  Amount.Funded.By.Investors  \\\n",
       "0     81174.0           20000.0         6541.67                    20000.00   \n",
       "1     99592.0           19200.0         4583.33                    19200.00   \n",
       "2     80059.0           35000.0        11500.00                    35000.00   \n",
       "3     15825.0           10000.0         3833.33                     9975.00   \n",
       "4     33182.0           12000.0         3195.00                    12000.00   \n",
       "...       ...               ...             ...                         ...   \n",
       "2494  49957.0           24000.0         6666.67                    23975.00   \n",
       "2495  23735.0           30000.0         9250.00                    29950.00   \n",
       "2496  65882.0           16000.0         8903.25                    16000.00   \n",
       "2497  55610.0           10000.0         2166.67                    10000.00   \n",
       "2499   3116.0            9000.0         3875.00                     5242.75   \n",
       "\n",
       "      Interest.Rate  Debt.To.Income.Ratio  Open.CREDIT.Lines  \\\n",
       "0              8.90                 14.90               14.0   \n",
       "1             12.12                 28.36               12.0   \n",
       "2             21.98                 23.81               14.0   \n",
       "3              9.99                 14.30               10.0   \n",
       "4             11.71                 18.78               11.0   \n",
       "...             ...                   ...                ...   \n",
       "2494          14.65                 15.29               13.0   \n",
       "2495          16.77                 19.23               15.0   \n",
       "2496          14.09                 21.54               18.0   \n",
       "2497          13.99                  4.89                4.0   \n",
       "2499          13.79                  6.76                7.0   \n",
       "\n",
       "      Revolving.CREDIT.Balance  Inquiries.in.the.Last.6.Months  Fico-low  ...  \\\n",
       "0                      14272.0                             2.0       735  ...   \n",
       "1                      11140.0                             1.0       715  ...   \n",
       "2                      21977.0                             1.0       690  ...   \n",
       "3                       9346.0                             0.0       695  ...   \n",
       "4                      14469.0                             0.0       695  ...   \n",
       "...                        ...                             ...       ...  ...   \n",
       "2494                   17521.0                             0.0       685  ...   \n",
       "2495                   45880.0                             1.0       705  ...   \n",
       "2496                   18898.0                             1.0       740  ...   \n",
       "2497                    4544.0                             0.0       680  ...   \n",
       "2499                    7589.0                             0.0       670  ...   \n",
       "\n",
       "      Employment.Length_1   Employment.Length_10   Employment.Length_2   \\\n",
       "0                        0                      0                     0   \n",
       "1                        0                      0                     1   \n",
       "2                        0                      0                     1   \n",
       "3                        0                      0                     0   \n",
       "4                        0                      0                     0   \n",
       "...                    ...                    ...                   ...   \n",
       "2494                     0                      0                     0   \n",
       "2495                     0                      0                     0   \n",
       "2496                     0                      1                     0   \n",
       "2497                     0                      1                     0   \n",
       "2499                     0                      1                     0   \n",
       "\n",
       "      Employment.Length_3   Employment.Length_4   Employment.Length_5   \\\n",
       "0                        0                     0                     0   \n",
       "1                        0                     0                     0   \n",
       "2                        0                     0                     0   \n",
       "3                        0                     0                     1   \n",
       "4                        0                     0                     0   \n",
       "...                    ...                   ...                   ...   \n",
       "2494                     0                     0                     1   \n",
       "2495                     0                     0                     0   \n",
       "2496                     0                     0                     0   \n",
       "2497                     0                     0                     0   \n",
       "2499                     0                     0                     0   \n",
       "\n",
       "      Employment.Length_6   Employment.Length_7   Employment.Length_8   \\\n",
       "0                        0                     0                     0   \n",
       "1                        0                     0                     0   \n",
       "2                        0                     0                     0   \n",
       "3                        0                     0                     0   \n",
       "4                        0                     0                     0   \n",
       "...                    ...                   ...                   ...   \n",
       "2494                     0                     0                     0   \n",
       "2495                     0                     0                     1   \n",
       "2496                     0                     0                     0   \n",
       "2497                     0                     0                     0   \n",
       "2499                     0                     0                     0   \n",
       "\n",
       "      Employment.Length_9   \n",
       "0                        0  \n",
       "1                        0  \n",
       "2                        0  \n",
       "3                        0  \n",
       "4                        1  \n",
       "...                    ...  \n",
       "2494                     0  \n",
       "2495                     0  \n",
       "2496                     0  \n",
       "2497                     0  \n",
       "2499                     0  \n",
       "\n",
       "[2478 rows x 85 columns]"
      ]
     },
     "execution_count": 128,
     "metadata": {},
     "output_type": "execute_result"
    }
   ],
   "source": [
    "df"
   ]
  },
  {
   "cell_type": "code",
   "execution_count": 129,
   "id": "57cb73a1-cc95-441d-abc0-a4b715d26ac3",
   "metadata": {},
   "outputs": [],
   "source": [
    "del df['ID']"
   ]
  },
  {
   "cell_type": "code",
   "execution_count": 130,
   "id": "2a3ba7d3-f6b4-4d59-995e-929f0f7920a8",
   "metadata": {},
   "outputs": [
    {
     "data": {
      "text/html": [
       "<div>\n",
       "<style scoped>\n",
       "    .dataframe tbody tr th:only-of-type {\n",
       "        vertical-align: middle;\n",
       "    }\n",
       "\n",
       "    .dataframe tbody tr th {\n",
       "        vertical-align: top;\n",
       "    }\n",
       "\n",
       "    .dataframe thead th {\n",
       "        text-align: right;\n",
       "    }\n",
       "</style>\n",
       "<table border=\"1\" class=\"dataframe\">\n",
       "  <thead>\n",
       "    <tr style=\"text-align: right;\">\n",
       "      <th></th>\n",
       "      <th>Amount.Requested</th>\n",
       "      <th>Monthly.Income</th>\n",
       "      <th>Amount.Funded.By.Investors</th>\n",
       "      <th>Interest.Rate</th>\n",
       "      <th>Debt.To.Income.Ratio</th>\n",
       "      <th>Open.CREDIT.Lines</th>\n",
       "      <th>Revolving.CREDIT.Balance</th>\n",
       "      <th>Inquiries.in.the.Last.6.Months</th>\n",
       "      <th>Fico-low</th>\n",
       "      <th>Fico-high</th>\n",
       "      <th>...</th>\n",
       "      <th>Employment.Length_1</th>\n",
       "      <th>Employment.Length_10</th>\n",
       "      <th>Employment.Length_2</th>\n",
       "      <th>Employment.Length_3</th>\n",
       "      <th>Employment.Length_4</th>\n",
       "      <th>Employment.Length_5</th>\n",
       "      <th>Employment.Length_6</th>\n",
       "      <th>Employment.Length_7</th>\n",
       "      <th>Employment.Length_8</th>\n",
       "      <th>Employment.Length_9</th>\n",
       "    </tr>\n",
       "  </thead>\n",
       "  <tbody>\n",
       "    <tr>\n",
       "      <th>0</th>\n",
       "      <td>20000.0</td>\n",
       "      <td>6541.67</td>\n",
       "      <td>20000.00</td>\n",
       "      <td>8.90</td>\n",
       "      <td>14.90</td>\n",
       "      <td>14.0</td>\n",
       "      <td>14272.0</td>\n",
       "      <td>2.0</td>\n",
       "      <td>735</td>\n",
       "      <td>739</td>\n",
       "      <td>...</td>\n",
       "      <td>0</td>\n",
       "      <td>0</td>\n",
       "      <td>0</td>\n",
       "      <td>0</td>\n",
       "      <td>0</td>\n",
       "      <td>0</td>\n",
       "      <td>0</td>\n",
       "      <td>0</td>\n",
       "      <td>0</td>\n",
       "      <td>0</td>\n",
       "    </tr>\n",
       "    <tr>\n",
       "      <th>1</th>\n",
       "      <td>19200.0</td>\n",
       "      <td>4583.33</td>\n",
       "      <td>19200.00</td>\n",
       "      <td>12.12</td>\n",
       "      <td>28.36</td>\n",
       "      <td>12.0</td>\n",
       "      <td>11140.0</td>\n",
       "      <td>1.0</td>\n",
       "      <td>715</td>\n",
       "      <td>719</td>\n",
       "      <td>...</td>\n",
       "      <td>0</td>\n",
       "      <td>0</td>\n",
       "      <td>1</td>\n",
       "      <td>0</td>\n",
       "      <td>0</td>\n",
       "      <td>0</td>\n",
       "      <td>0</td>\n",
       "      <td>0</td>\n",
       "      <td>0</td>\n",
       "      <td>0</td>\n",
       "    </tr>\n",
       "    <tr>\n",
       "      <th>2</th>\n",
       "      <td>35000.0</td>\n",
       "      <td>11500.00</td>\n",
       "      <td>35000.00</td>\n",
       "      <td>21.98</td>\n",
       "      <td>23.81</td>\n",
       "      <td>14.0</td>\n",
       "      <td>21977.0</td>\n",
       "      <td>1.0</td>\n",
       "      <td>690</td>\n",
       "      <td>694</td>\n",
       "      <td>...</td>\n",
       "      <td>0</td>\n",
       "      <td>0</td>\n",
       "      <td>1</td>\n",
       "      <td>0</td>\n",
       "      <td>0</td>\n",
       "      <td>0</td>\n",
       "      <td>0</td>\n",
       "      <td>0</td>\n",
       "      <td>0</td>\n",
       "      <td>0</td>\n",
       "    </tr>\n",
       "    <tr>\n",
       "      <th>3</th>\n",
       "      <td>10000.0</td>\n",
       "      <td>3833.33</td>\n",
       "      <td>9975.00</td>\n",
       "      <td>9.99</td>\n",
       "      <td>14.30</td>\n",
       "      <td>10.0</td>\n",
       "      <td>9346.0</td>\n",
       "      <td>0.0</td>\n",
       "      <td>695</td>\n",
       "      <td>699</td>\n",
       "      <td>...</td>\n",
       "      <td>0</td>\n",
       "      <td>0</td>\n",
       "      <td>0</td>\n",
       "      <td>0</td>\n",
       "      <td>0</td>\n",
       "      <td>1</td>\n",
       "      <td>0</td>\n",
       "      <td>0</td>\n",
       "      <td>0</td>\n",
       "      <td>0</td>\n",
       "    </tr>\n",
       "    <tr>\n",
       "      <th>4</th>\n",
       "      <td>12000.0</td>\n",
       "      <td>3195.00</td>\n",
       "      <td>12000.00</td>\n",
       "      <td>11.71</td>\n",
       "      <td>18.78</td>\n",
       "      <td>11.0</td>\n",
       "      <td>14469.0</td>\n",
       "      <td>0.0</td>\n",
       "      <td>695</td>\n",
       "      <td>699</td>\n",
       "      <td>...</td>\n",
       "      <td>0</td>\n",
       "      <td>0</td>\n",
       "      <td>0</td>\n",
       "      <td>0</td>\n",
       "      <td>0</td>\n",
       "      <td>0</td>\n",
       "      <td>0</td>\n",
       "      <td>0</td>\n",
       "      <td>0</td>\n",
       "      <td>1</td>\n",
       "    </tr>\n",
       "    <tr>\n",
       "      <th>...</th>\n",
       "      <td>...</td>\n",
       "      <td>...</td>\n",
       "      <td>...</td>\n",
       "      <td>...</td>\n",
       "      <td>...</td>\n",
       "      <td>...</td>\n",
       "      <td>...</td>\n",
       "      <td>...</td>\n",
       "      <td>...</td>\n",
       "      <td>...</td>\n",
       "      <td>...</td>\n",
       "      <td>...</td>\n",
       "      <td>...</td>\n",
       "      <td>...</td>\n",
       "      <td>...</td>\n",
       "      <td>...</td>\n",
       "      <td>...</td>\n",
       "      <td>...</td>\n",
       "      <td>...</td>\n",
       "      <td>...</td>\n",
       "      <td>...</td>\n",
       "    </tr>\n",
       "    <tr>\n",
       "      <th>2494</th>\n",
       "      <td>24000.0</td>\n",
       "      <td>6666.67</td>\n",
       "      <td>23975.00</td>\n",
       "      <td>14.65</td>\n",
       "      <td>15.29</td>\n",
       "      <td>13.0</td>\n",
       "      <td>17521.0</td>\n",
       "      <td>0.0</td>\n",
       "      <td>685</td>\n",
       "      <td>689</td>\n",
       "      <td>...</td>\n",
       "      <td>0</td>\n",
       "      <td>0</td>\n",
       "      <td>0</td>\n",
       "      <td>0</td>\n",
       "      <td>0</td>\n",
       "      <td>1</td>\n",
       "      <td>0</td>\n",
       "      <td>0</td>\n",
       "      <td>0</td>\n",
       "      <td>0</td>\n",
       "    </tr>\n",
       "    <tr>\n",
       "      <th>2495</th>\n",
       "      <td>30000.0</td>\n",
       "      <td>9250.00</td>\n",
       "      <td>29950.00</td>\n",
       "      <td>16.77</td>\n",
       "      <td>19.23</td>\n",
       "      <td>15.0</td>\n",
       "      <td>45880.0</td>\n",
       "      <td>1.0</td>\n",
       "      <td>705</td>\n",
       "      <td>709</td>\n",
       "      <td>...</td>\n",
       "      <td>0</td>\n",
       "      <td>0</td>\n",
       "      <td>0</td>\n",
       "      <td>0</td>\n",
       "      <td>0</td>\n",
       "      <td>0</td>\n",
       "      <td>0</td>\n",
       "      <td>0</td>\n",
       "      <td>1</td>\n",
       "      <td>0</td>\n",
       "    </tr>\n",
       "    <tr>\n",
       "      <th>2496</th>\n",
       "      <td>16000.0</td>\n",
       "      <td>8903.25</td>\n",
       "      <td>16000.00</td>\n",
       "      <td>14.09</td>\n",
       "      <td>21.54</td>\n",
       "      <td>18.0</td>\n",
       "      <td>18898.0</td>\n",
       "      <td>1.0</td>\n",
       "      <td>740</td>\n",
       "      <td>744</td>\n",
       "      <td>...</td>\n",
       "      <td>0</td>\n",
       "      <td>1</td>\n",
       "      <td>0</td>\n",
       "      <td>0</td>\n",
       "      <td>0</td>\n",
       "      <td>0</td>\n",
       "      <td>0</td>\n",
       "      <td>0</td>\n",
       "      <td>0</td>\n",
       "      <td>0</td>\n",
       "    </tr>\n",
       "    <tr>\n",
       "      <th>2497</th>\n",
       "      <td>10000.0</td>\n",
       "      <td>2166.67</td>\n",
       "      <td>10000.00</td>\n",
       "      <td>13.99</td>\n",
       "      <td>4.89</td>\n",
       "      <td>4.0</td>\n",
       "      <td>4544.0</td>\n",
       "      <td>0.0</td>\n",
       "      <td>680</td>\n",
       "      <td>684</td>\n",
       "      <td>...</td>\n",
       "      <td>0</td>\n",
       "      <td>1</td>\n",
       "      <td>0</td>\n",
       "      <td>0</td>\n",
       "      <td>0</td>\n",
       "      <td>0</td>\n",
       "      <td>0</td>\n",
       "      <td>0</td>\n",
       "      <td>0</td>\n",
       "      <td>0</td>\n",
       "    </tr>\n",
       "    <tr>\n",
       "      <th>2499</th>\n",
       "      <td>9000.0</td>\n",
       "      <td>3875.00</td>\n",
       "      <td>5242.75</td>\n",
       "      <td>13.79</td>\n",
       "      <td>6.76</td>\n",
       "      <td>7.0</td>\n",
       "      <td>7589.0</td>\n",
       "      <td>0.0</td>\n",
       "      <td>670</td>\n",
       "      <td>674</td>\n",
       "      <td>...</td>\n",
       "      <td>0</td>\n",
       "      <td>1</td>\n",
       "      <td>0</td>\n",
       "      <td>0</td>\n",
       "      <td>0</td>\n",
       "      <td>0</td>\n",
       "      <td>0</td>\n",
       "      <td>0</td>\n",
       "      <td>0</td>\n",
       "      <td>0</td>\n",
       "    </tr>\n",
       "  </tbody>\n",
       "</table>\n",
       "<p>2478 rows × 84 columns</p>\n",
       "</div>"
      ],
      "text/plain": [
       "      Amount.Requested  Monthly.Income  Amount.Funded.By.Investors  \\\n",
       "0              20000.0         6541.67                    20000.00   \n",
       "1              19200.0         4583.33                    19200.00   \n",
       "2              35000.0        11500.00                    35000.00   \n",
       "3              10000.0         3833.33                     9975.00   \n",
       "4              12000.0         3195.00                    12000.00   \n",
       "...                ...             ...                         ...   \n",
       "2494           24000.0         6666.67                    23975.00   \n",
       "2495           30000.0         9250.00                    29950.00   \n",
       "2496           16000.0         8903.25                    16000.00   \n",
       "2497           10000.0         2166.67                    10000.00   \n",
       "2499            9000.0         3875.00                     5242.75   \n",
       "\n",
       "      Interest.Rate  Debt.To.Income.Ratio  Open.CREDIT.Lines  \\\n",
       "0              8.90                 14.90               14.0   \n",
       "1             12.12                 28.36               12.0   \n",
       "2             21.98                 23.81               14.0   \n",
       "3              9.99                 14.30               10.0   \n",
       "4             11.71                 18.78               11.0   \n",
       "...             ...                   ...                ...   \n",
       "2494          14.65                 15.29               13.0   \n",
       "2495          16.77                 19.23               15.0   \n",
       "2496          14.09                 21.54               18.0   \n",
       "2497          13.99                  4.89                4.0   \n",
       "2499          13.79                  6.76                7.0   \n",
       "\n",
       "      Revolving.CREDIT.Balance  Inquiries.in.the.Last.6.Months  Fico-low  \\\n",
       "0                      14272.0                             2.0       735   \n",
       "1                      11140.0                             1.0       715   \n",
       "2                      21977.0                             1.0       690   \n",
       "3                       9346.0                             0.0       695   \n",
       "4                      14469.0                             0.0       695   \n",
       "...                        ...                             ...       ...   \n",
       "2494                   17521.0                             0.0       685   \n",
       "2495                   45880.0                             1.0       705   \n",
       "2496                   18898.0                             1.0       740   \n",
       "2497                    4544.0                             0.0       680   \n",
       "2499                    7589.0                             0.0       670   \n",
       "\n",
       "      Fico-high  ...  Employment.Length_1   Employment.Length_10   \\\n",
       "0           739  ...                     0                      0   \n",
       "1           719  ...                     0                      0   \n",
       "2           694  ...                     0                      0   \n",
       "3           699  ...                     0                      0   \n",
       "4           699  ...                     0                      0   \n",
       "...         ...  ...                   ...                    ...   \n",
       "2494        689  ...                     0                      0   \n",
       "2495        709  ...                     0                      0   \n",
       "2496        744  ...                     0                      1   \n",
       "2497        684  ...                     0                      1   \n",
       "2499        674  ...                     0                      1   \n",
       "\n",
       "      Employment.Length_2   Employment.Length_3   Employment.Length_4   \\\n",
       "0                        0                     0                     0   \n",
       "1                        1                     0                     0   \n",
       "2                        1                     0                     0   \n",
       "3                        0                     0                     0   \n",
       "4                        0                     0                     0   \n",
       "...                    ...                   ...                   ...   \n",
       "2494                     0                     0                     0   \n",
       "2495                     0                     0                     0   \n",
       "2496                     0                     0                     0   \n",
       "2497                     0                     0                     0   \n",
       "2499                     0                     0                     0   \n",
       "\n",
       "      Employment.Length_5   Employment.Length_6   Employment.Length_7   \\\n",
       "0                        0                     0                     0   \n",
       "1                        0                     0                     0   \n",
       "2                        0                     0                     0   \n",
       "3                        1                     0                     0   \n",
       "4                        0                     0                     0   \n",
       "...                    ...                   ...                   ...   \n",
       "2494                     1                     0                     0   \n",
       "2495                     0                     0                     0   \n",
       "2496                     0                     0                     0   \n",
       "2497                     0                     0                     0   \n",
       "2499                     0                     0                     0   \n",
       "\n",
       "      Employment.Length_8   Employment.Length_9   \n",
       "0                        0                     0  \n",
       "1                        0                     0  \n",
       "2                        0                     0  \n",
       "3                        0                     0  \n",
       "4                        0                     1  \n",
       "...                    ...                   ...  \n",
       "2494                     0                     0  \n",
       "2495                     1                     0  \n",
       "2496                     0                     0  \n",
       "2497                     0                     0  \n",
       "2499                     0                     0  \n",
       "\n",
       "[2478 rows x 84 columns]"
      ]
     },
     "execution_count": 130,
     "metadata": {},
     "output_type": "execute_result"
    }
   ],
   "source": [
    "df"
   ]
  },
  {
   "cell_type": "code",
   "execution_count": 134,
   "id": "ffb74c50-9caf-4ef8-869e-909def0d0e74",
   "metadata": {},
   "outputs": [],
   "source": [
    "from sklearn.preprocessing import MinMaxScaler,StandardScaler\n",
    "min_max_scaler = MinMaxScaler()\n",
    "standard_scalar = StandardScaler()"
   ]
  },
  {
   "cell_type": "code",
   "execution_count": 135,
   "id": "924d5267-33ec-4d18-b2af-1ba120cb93e0",
   "metadata": {},
   "outputs": [
    {
     "data": {
      "text/plain": [
       "array([[ 0.96892341],\n",
       "       [ 0.86635375],\n",
       "       [ 2.89210448],\n",
       "       ...,\n",
       "       [ 0.45607512],\n",
       "       [-0.31319731],\n",
       "       [-0.44140938]])"
      ]
     },
     "execution_count": 135,
     "metadata": {},
     "output_type": "execute_result"
    }
   ],
   "source": [
    "standard_scalar.fit_transform(df[['Amount.Requested']])"
   ]
  },
  {
   "cell_type": "code",
   "execution_count": 133,
   "id": "f50296ba-5b81-4c04-a01b-a907329721b1",
   "metadata": {},
   "outputs": [
    {
     "data": {
      "text/plain": [
       "array([[0.55882353],\n",
       "       [0.53529412],\n",
       "       [1.        ],\n",
       "       ...,\n",
       "       [0.44117647],\n",
       "       [0.26470588],\n",
       "       [0.23529412]])"
      ]
     },
     "execution_count": 133,
     "metadata": {},
     "output_type": "execute_result"
    }
   ],
   "source": [
    "min_max_scaler.fit_transform(df[['Amount.Requested']])"
   ]
  },
  {
   "cell_type": "markdown",
   "id": "ef092800-69b1-40e0-b485-e31c487b68b3",
   "metadata": {},
   "source": [
    "# Group by"
   ]
  },
  {
   "cell_type": "code",
   "execution_count": 137,
   "id": "b09aed7e-104b-4a19-933e-122d75e67c71",
   "metadata": {},
   "outputs": [],
   "source": [
    "df.groupby('Home.Ownership')['Amount.Requested'].min()"
   ]
  },
  {
   "cell_type": "code",
   "execution_count": null,
   "id": "9b251837-cd62-4e7d-b450-558b834a4afd",
   "metadata": {},
   "outputs": [],
   "source": [
    "df.groupby('Home.Ownership')['Amount.Requested'].agg([min,max])"
   ]
  },
  {
   "cell_type": "code",
   "execution_count": null,
   "id": "77a6d712-5b19-4f35-8a3f-db7897f40369",
   "metadata": {},
   "outputs": [],
   "source": [
    "df.groupby(['Home.Ownership','Loan.Length'])['Amount.Requested'].agg([min,max])"
   ]
  },
  {
   "cell_type": "markdown",
   "id": "b4c644ba-db77-4a3e-a5bd-d2a7c92e455b",
   "metadata": {},
   "source": [
    "# Sorting and merging"
   ]
  },
  {
   "cell_type": "code",
   "execution_count": null,
   "id": "7a95b047-5c20-4678-86a7-46ca7d7fe22b",
   "metadata": {},
   "outputs": [],
   "source": [
    "df.columns"
   ]
  },
  {
   "cell_type": "code",
   "execution_count": null,
   "id": "1321134c-7950-4d82-92c4-13627662d747",
   "metadata": {},
   "outputs": [],
   "source": [
    "df.sort_values('Amount.Requested')"
   ]
  },
  {
   "cell_type": "code",
   "execution_count": null,
   "id": "d37af3a7-6f42-490c-97da-2777359646ab",
   "metadata": {},
   "outputs": [],
   "source": [
    "df.sort_values('Amount.Requested', ascending=False)"
   ]
  },
  {
   "cell_type": "code",
   "execution_count": null,
   "id": "70875d23-2629-479b-8f4e-cc3066d6f365",
   "metadata": {},
   "outputs": [],
   "source": [
    "df[['ID','State','Amount.Requested']].sort_values(['State','Amount.Requested'])"
   ]
  },
  {
   "cell_type": "code",
   "execution_count": null,
   "id": "df0c5c38-2bf0-472b-835a-43b59332780a",
   "metadata": {},
   "outputs": [],
   "source": [
    "df[['ID','State','Amount.Requested']].sort_values(['State','Amount.Requested'], ascending=[True,False])"
   ]
  },
  {
   "cell_type": "code",
   "execution_count": 138,
   "id": "5ce979bd-5748-4d85-b18d-c097ac632b9b",
   "metadata": {},
   "outputs": [],
   "source": [
    "df1 = pd.DataFrame({'cust_id' : range(1,6),\n",
    "                    'product' : ['Fridge','Radio','Fridge','Fridge','Phone']})\n",
    "df2 = pd.DataFrame({'cust_id' : [3,4,5,6,7],\n",
    "                    'state' : ['UP','UP','UP','MH','MH']})\n",
    "                   "
   ]
  },
  {
   "cell_type": "code",
   "execution_count": 139,
   "id": "cf975181-4322-472d-820c-97f7d7c1f44c",
   "metadata": {},
   "outputs": [
    {
     "data": {
      "text/html": [
       "<div>\n",
       "<style scoped>\n",
       "    .dataframe tbody tr th:only-of-type {\n",
       "        vertical-align: middle;\n",
       "    }\n",
       "\n",
       "    .dataframe tbody tr th {\n",
       "        vertical-align: top;\n",
       "    }\n",
       "\n",
       "    .dataframe thead th {\n",
       "        text-align: right;\n",
       "    }\n",
       "</style>\n",
       "<table border=\"1\" class=\"dataframe\">\n",
       "  <thead>\n",
       "    <tr style=\"text-align: right;\">\n",
       "      <th></th>\n",
       "      <th>cust_id</th>\n",
       "      <th>product</th>\n",
       "    </tr>\n",
       "  </thead>\n",
       "  <tbody>\n",
       "    <tr>\n",
       "      <th>0</th>\n",
       "      <td>1</td>\n",
       "      <td>Fridge</td>\n",
       "    </tr>\n",
       "    <tr>\n",
       "      <th>1</th>\n",
       "      <td>2</td>\n",
       "      <td>Radio</td>\n",
       "    </tr>\n",
       "    <tr>\n",
       "      <th>2</th>\n",
       "      <td>3</td>\n",
       "      <td>Fridge</td>\n",
       "    </tr>\n",
       "    <tr>\n",
       "      <th>3</th>\n",
       "      <td>4</td>\n",
       "      <td>Fridge</td>\n",
       "    </tr>\n",
       "    <tr>\n",
       "      <th>4</th>\n",
       "      <td>5</td>\n",
       "      <td>Phone</td>\n",
       "    </tr>\n",
       "  </tbody>\n",
       "</table>\n",
       "</div>"
      ],
      "text/plain": [
       "   cust_id product\n",
       "0        1  Fridge\n",
       "1        2   Radio\n",
       "2        3  Fridge\n",
       "3        4  Fridge\n",
       "4        5   Phone"
      ]
     },
     "execution_count": 139,
     "metadata": {},
     "output_type": "execute_result"
    }
   ],
   "source": [
    "df1"
   ]
  },
  {
   "cell_type": "code",
   "execution_count": 140,
   "id": "de79e88b-e474-4c87-b491-e3d682065660",
   "metadata": {},
   "outputs": [
    {
     "data": {
      "text/html": [
       "<div>\n",
       "<style scoped>\n",
       "    .dataframe tbody tr th:only-of-type {\n",
       "        vertical-align: middle;\n",
       "    }\n",
       "\n",
       "    .dataframe tbody tr th {\n",
       "        vertical-align: top;\n",
       "    }\n",
       "\n",
       "    .dataframe thead th {\n",
       "        text-align: right;\n",
       "    }\n",
       "</style>\n",
       "<table border=\"1\" class=\"dataframe\">\n",
       "  <thead>\n",
       "    <tr style=\"text-align: right;\">\n",
       "      <th></th>\n",
       "      <th>cust_id</th>\n",
       "      <th>state</th>\n",
       "    </tr>\n",
       "  </thead>\n",
       "  <tbody>\n",
       "    <tr>\n",
       "      <th>0</th>\n",
       "      <td>3</td>\n",
       "      <td>UP</td>\n",
       "    </tr>\n",
       "    <tr>\n",
       "      <th>1</th>\n",
       "      <td>4</td>\n",
       "      <td>UP</td>\n",
       "    </tr>\n",
       "    <tr>\n",
       "      <th>2</th>\n",
       "      <td>5</td>\n",
       "      <td>UP</td>\n",
       "    </tr>\n",
       "    <tr>\n",
       "      <th>3</th>\n",
       "      <td>6</td>\n",
       "      <td>MH</td>\n",
       "    </tr>\n",
       "    <tr>\n",
       "      <th>4</th>\n",
       "      <td>7</td>\n",
       "      <td>MH</td>\n",
       "    </tr>\n",
       "  </tbody>\n",
       "</table>\n",
       "</div>"
      ],
      "text/plain": [
       "   cust_id state\n",
       "0        3    UP\n",
       "1        4    UP\n",
       "2        5    UP\n",
       "3        6    MH\n",
       "4        7    MH"
      ]
     },
     "execution_count": 140,
     "metadata": {},
     "output_type": "execute_result"
    }
   ],
   "source": [
    "df2"
   ]
  },
  {
   "cell_type": "code",
   "execution_count": 141,
   "id": "7cda136f-098d-4258-9065-472558e9c37d",
   "metadata": {},
   "outputs": [
    {
     "data": {
      "text/html": [
       "<div>\n",
       "<style scoped>\n",
       "    .dataframe tbody tr th:only-of-type {\n",
       "        vertical-align: middle;\n",
       "    }\n",
       "\n",
       "    .dataframe tbody tr th {\n",
       "        vertical-align: top;\n",
       "    }\n",
       "\n",
       "    .dataframe thead th {\n",
       "        text-align: right;\n",
       "    }\n",
       "</style>\n",
       "<table border=\"1\" class=\"dataframe\">\n",
       "  <thead>\n",
       "    <tr style=\"text-align: right;\">\n",
       "      <th></th>\n",
       "      <th>cust_id</th>\n",
       "      <th>product</th>\n",
       "      <th>state</th>\n",
       "    </tr>\n",
       "  </thead>\n",
       "  <tbody>\n",
       "    <tr>\n",
       "      <th>0</th>\n",
       "      <td>3</td>\n",
       "      <td>Fridge</td>\n",
       "      <td>UP</td>\n",
       "    </tr>\n",
       "    <tr>\n",
       "      <th>1</th>\n",
       "      <td>4</td>\n",
       "      <td>Fridge</td>\n",
       "      <td>UP</td>\n",
       "    </tr>\n",
       "    <tr>\n",
       "      <th>2</th>\n",
       "      <td>5</td>\n",
       "      <td>Phone</td>\n",
       "      <td>UP</td>\n",
       "    </tr>\n",
       "  </tbody>\n",
       "</table>\n",
       "</div>"
      ],
      "text/plain": [
       "   cust_id product state\n",
       "0        3  Fridge    UP\n",
       "1        4  Fridge    UP\n",
       "2        5   Phone    UP"
      ]
     },
     "execution_count": 141,
     "metadata": {},
     "output_type": "execute_result"
    }
   ],
   "source": [
    "pd.merge(df1,df2, on = 'cust_id', how = 'inner')"
   ]
  },
  {
   "cell_type": "code",
   "execution_count": 142,
   "id": "bf16de28-9c75-4251-ae0a-aa2aadff8d97",
   "metadata": {},
   "outputs": [
    {
     "data": {
      "text/html": [
       "<div>\n",
       "<style scoped>\n",
       "    .dataframe tbody tr th:only-of-type {\n",
       "        vertical-align: middle;\n",
       "    }\n",
       "\n",
       "    .dataframe tbody tr th {\n",
       "        vertical-align: top;\n",
       "    }\n",
       "\n",
       "    .dataframe thead th {\n",
       "        text-align: right;\n",
       "    }\n",
       "</style>\n",
       "<table border=\"1\" class=\"dataframe\">\n",
       "  <thead>\n",
       "    <tr style=\"text-align: right;\">\n",
       "      <th></th>\n",
       "      <th>cust_id</th>\n",
       "      <th>product</th>\n",
       "      <th>state</th>\n",
       "    </tr>\n",
       "  </thead>\n",
       "  <tbody>\n",
       "    <tr>\n",
       "      <th>0</th>\n",
       "      <td>1</td>\n",
       "      <td>Fridge</td>\n",
       "      <td>NaN</td>\n",
       "    </tr>\n",
       "    <tr>\n",
       "      <th>1</th>\n",
       "      <td>2</td>\n",
       "      <td>Radio</td>\n",
       "      <td>NaN</td>\n",
       "    </tr>\n",
       "    <tr>\n",
       "      <th>2</th>\n",
       "      <td>3</td>\n",
       "      <td>Fridge</td>\n",
       "      <td>UP</td>\n",
       "    </tr>\n",
       "    <tr>\n",
       "      <th>3</th>\n",
       "      <td>4</td>\n",
       "      <td>Fridge</td>\n",
       "      <td>UP</td>\n",
       "    </tr>\n",
       "    <tr>\n",
       "      <th>4</th>\n",
       "      <td>5</td>\n",
       "      <td>Phone</td>\n",
       "      <td>UP</td>\n",
       "    </tr>\n",
       "  </tbody>\n",
       "</table>\n",
       "</div>"
      ],
      "text/plain": [
       "   cust_id product state\n",
       "0        1  Fridge   NaN\n",
       "1        2   Radio   NaN\n",
       "2        3  Fridge    UP\n",
       "3        4  Fridge    UP\n",
       "4        5   Phone    UP"
      ]
     },
     "execution_count": 142,
     "metadata": {},
     "output_type": "execute_result"
    }
   ],
   "source": [
    "pd.merge(df1,df2, on = 'cust_id', how = 'left')"
   ]
  },
  {
   "cell_type": "code",
   "execution_count": 143,
   "id": "748a07de-bb07-4c64-9f8e-a3072bf50c4b",
   "metadata": {},
   "outputs": [
    {
     "data": {
      "text/html": [
       "<div>\n",
       "<style scoped>\n",
       "    .dataframe tbody tr th:only-of-type {\n",
       "        vertical-align: middle;\n",
       "    }\n",
       "\n",
       "    .dataframe tbody tr th {\n",
       "        vertical-align: top;\n",
       "    }\n",
       "\n",
       "    .dataframe thead th {\n",
       "        text-align: right;\n",
       "    }\n",
       "</style>\n",
       "<table border=\"1\" class=\"dataframe\">\n",
       "  <thead>\n",
       "    <tr style=\"text-align: right;\">\n",
       "      <th></th>\n",
       "      <th>cust_id</th>\n",
       "      <th>product</th>\n",
       "      <th>state</th>\n",
       "    </tr>\n",
       "  </thead>\n",
       "  <tbody>\n",
       "    <tr>\n",
       "      <th>0</th>\n",
       "      <td>3</td>\n",
       "      <td>Fridge</td>\n",
       "      <td>UP</td>\n",
       "    </tr>\n",
       "    <tr>\n",
       "      <th>1</th>\n",
       "      <td>4</td>\n",
       "      <td>Fridge</td>\n",
       "      <td>UP</td>\n",
       "    </tr>\n",
       "    <tr>\n",
       "      <th>2</th>\n",
       "      <td>5</td>\n",
       "      <td>Phone</td>\n",
       "      <td>UP</td>\n",
       "    </tr>\n",
       "    <tr>\n",
       "      <th>3</th>\n",
       "      <td>6</td>\n",
       "      <td>NaN</td>\n",
       "      <td>MH</td>\n",
       "    </tr>\n",
       "    <tr>\n",
       "      <th>4</th>\n",
       "      <td>7</td>\n",
       "      <td>NaN</td>\n",
       "      <td>MH</td>\n",
       "    </tr>\n",
       "  </tbody>\n",
       "</table>\n",
       "</div>"
      ],
      "text/plain": [
       "   cust_id product state\n",
       "0        3  Fridge    UP\n",
       "1        4  Fridge    UP\n",
       "2        5   Phone    UP\n",
       "3        6     NaN    MH\n",
       "4        7     NaN    MH"
      ]
     },
     "execution_count": 143,
     "metadata": {},
     "output_type": "execute_result"
    }
   ],
   "source": [
    "pd.merge(df1,df2, on = 'cust_id', how = 'right')"
   ]
  },
  {
   "cell_type": "code",
   "execution_count": 144,
   "id": "03a57108-22d5-4f67-9355-3d6b500ad960",
   "metadata": {},
   "outputs": [
    {
     "data": {
      "text/html": [
       "<div>\n",
       "<style scoped>\n",
       "    .dataframe tbody tr th:only-of-type {\n",
       "        vertical-align: middle;\n",
       "    }\n",
       "\n",
       "    .dataframe tbody tr th {\n",
       "        vertical-align: top;\n",
       "    }\n",
       "\n",
       "    .dataframe thead th {\n",
       "        text-align: right;\n",
       "    }\n",
       "</style>\n",
       "<table border=\"1\" class=\"dataframe\">\n",
       "  <thead>\n",
       "    <tr style=\"text-align: right;\">\n",
       "      <th></th>\n",
       "      <th>cust_id</th>\n",
       "      <th>product</th>\n",
       "      <th>state</th>\n",
       "    </tr>\n",
       "  </thead>\n",
       "  <tbody>\n",
       "    <tr>\n",
       "      <th>0</th>\n",
       "      <td>1</td>\n",
       "      <td>Fridge</td>\n",
       "      <td>NaN</td>\n",
       "    </tr>\n",
       "    <tr>\n",
       "      <th>1</th>\n",
       "      <td>2</td>\n",
       "      <td>Radio</td>\n",
       "      <td>NaN</td>\n",
       "    </tr>\n",
       "    <tr>\n",
       "      <th>2</th>\n",
       "      <td>3</td>\n",
       "      <td>Fridge</td>\n",
       "      <td>UP</td>\n",
       "    </tr>\n",
       "    <tr>\n",
       "      <th>3</th>\n",
       "      <td>4</td>\n",
       "      <td>Fridge</td>\n",
       "      <td>UP</td>\n",
       "    </tr>\n",
       "    <tr>\n",
       "      <th>4</th>\n",
       "      <td>5</td>\n",
       "      <td>Phone</td>\n",
       "      <td>UP</td>\n",
       "    </tr>\n",
       "    <tr>\n",
       "      <th>5</th>\n",
       "      <td>6</td>\n",
       "      <td>NaN</td>\n",
       "      <td>MH</td>\n",
       "    </tr>\n",
       "    <tr>\n",
       "      <th>6</th>\n",
       "      <td>7</td>\n",
       "      <td>NaN</td>\n",
       "      <td>MH</td>\n",
       "    </tr>\n",
       "  </tbody>\n",
       "</table>\n",
       "</div>"
      ],
      "text/plain": [
       "   cust_id product state\n",
       "0        1  Fridge   NaN\n",
       "1        2   Radio   NaN\n",
       "2        3  Fridge    UP\n",
       "3        4  Fridge    UP\n",
       "4        5   Phone    UP\n",
       "5        6     NaN    MH\n",
       "6        7     NaN    MH"
      ]
     },
     "execution_count": 144,
     "metadata": {},
     "output_type": "execute_result"
    }
   ],
   "source": [
    "pd.merge(df1,df2, on = 'cust_id', how = 'outer')"
   ]
  },
  {
   "cell_type": "markdown",
   "id": "5a0e0709-e7e7-4458-a0d7-680890baa98b",
   "metadata": {},
   "source": [
    "# Univariate Statistics"
   ]
  },
  {
   "cell_type": "code",
   "execution_count": 146,
   "id": "abd2d2ee-a9c1-458f-9f47-1f22f6bf76c1",
   "metadata": {},
   "outputs": [],
   "source": [
    "df = pd.read_csv(r'D:\\Training\\LTIMindTree\\Python\\data\\loans data.csv')"
   ]
  },
  {
   "cell_type": "code",
   "execution_count": 149,
   "id": "030fbb05-9ad5-4dd6-bb21-7bbe941db826",
   "metadata": {},
   "outputs": [
    {
     "data": {
      "text/plain": [
       "(2500, 15)"
      ]
     },
     "execution_count": 149,
     "metadata": {},
     "output_type": "execute_result"
    }
   ],
   "source": [
    "df.shape"
   ]
  },
  {
   "cell_type": "code",
   "execution_count": 150,
   "id": "9ae89ee0-9d87-4afe-b135-655240e6c7cb",
   "metadata": {},
   "outputs": [
    {
     "data": {
      "text/html": [
       "<div>\n",
       "<style scoped>\n",
       "    .dataframe tbody tr th:only-of-type {\n",
       "        vertical-align: middle;\n",
       "    }\n",
       "\n",
       "    .dataframe tbody tr th {\n",
       "        vertical-align: top;\n",
       "    }\n",
       "\n",
       "    .dataframe thead th {\n",
       "        text-align: right;\n",
       "    }\n",
       "</style>\n",
       "<table border=\"1\" class=\"dataframe\">\n",
       "  <thead>\n",
       "    <tr style=\"text-align: right;\">\n",
       "      <th></th>\n",
       "      <th>ID</th>\n",
       "      <th>Monthly.Income</th>\n",
       "      <th>Inquiries.in.the.Last.6.Months</th>\n",
       "    </tr>\n",
       "  </thead>\n",
       "  <tbody>\n",
       "    <tr>\n",
       "      <th>count</th>\n",
       "      <td>2499.000000</td>\n",
       "      <td>2497.000000</td>\n",
       "      <td>2497.000000</td>\n",
       "    </tr>\n",
       "    <tr>\n",
       "      <th>mean</th>\n",
       "      <td>51643.325330</td>\n",
       "      <td>5689.716608</td>\n",
       "      <td>0.906688</td>\n",
       "    </tr>\n",
       "    <tr>\n",
       "      <th>std</th>\n",
       "      <td>30053.637661</td>\n",
       "      <td>3963.568002</td>\n",
       "      <td>1.231149</td>\n",
       "    </tr>\n",
       "    <tr>\n",
       "      <th>min</th>\n",
       "      <td>10.000000</td>\n",
       "      <td>588.500000</td>\n",
       "      <td>0.000000</td>\n",
       "    </tr>\n",
       "    <tr>\n",
       "      <th>25%</th>\n",
       "      <td>26570.500000</td>\n",
       "      <td>3500.000000</td>\n",
       "      <td>0.000000</td>\n",
       "    </tr>\n",
       "    <tr>\n",
       "      <th>50%</th>\n",
       "      <td>50673.000000</td>\n",
       "      <td>5000.000000</td>\n",
       "      <td>0.000000</td>\n",
       "    </tr>\n",
       "    <tr>\n",
       "      <th>75%</th>\n",
       "      <td>77583.000000</td>\n",
       "      <td>6800.000000</td>\n",
       "      <td>1.000000</td>\n",
       "    </tr>\n",
       "    <tr>\n",
       "      <th>max</th>\n",
       "      <td>104202.000000</td>\n",
       "      <td>102750.000000</td>\n",
       "      <td>9.000000</td>\n",
       "    </tr>\n",
       "  </tbody>\n",
       "</table>\n",
       "</div>"
      ],
      "text/plain": [
       "                  ID  Monthly.Income  Inquiries.in.the.Last.6.Months\n",
       "count    2499.000000     2497.000000                     2497.000000\n",
       "mean    51643.325330     5689.716608                        0.906688\n",
       "std     30053.637661     3963.568002                        1.231149\n",
       "min        10.000000      588.500000                        0.000000\n",
       "25%     26570.500000     3500.000000                        0.000000\n",
       "50%     50673.000000     5000.000000                        0.000000\n",
       "75%     77583.000000     6800.000000                        1.000000\n",
       "max    104202.000000   102750.000000                        9.000000"
      ]
     },
     "execution_count": 150,
     "metadata": {},
     "output_type": "execute_result"
    }
   ],
   "source": [
    "df.describe()"
   ]
  },
  {
   "cell_type": "code",
   "execution_count": 162,
   "id": "1b977ba5-db12-4eea-87b2-efb35559acb5",
   "metadata": {},
   "outputs": [
    {
     "data": {
      "text/plain": [
       "Amount.Requested              float64\n",
       "Monthly.Income                float64\n",
       "Amount.Funded.By.Investors     object\n",
       "Interest.Rate                  object\n",
       "dtype: object"
      ]
     },
     "execution_count": 162,
     "metadata": {},
     "output_type": "execute_result"
    }
   ],
   "source": [
    "df[['Amount.Requested','Monthly.Income','Amount.Funded.By.Investors','Interest.Rate']].dtypes"
   ]
  },
  {
   "cell_type": "code",
   "execution_count": 163,
   "id": "d94bfcf2-e113-4344-bcec-8cb84b9c7c20",
   "metadata": {},
   "outputs": [
    {
     "data": {
      "text/html": [
       "<div>\n",
       "<style scoped>\n",
       "    .dataframe tbody tr th:only-of-type {\n",
       "        vertical-align: middle;\n",
       "    }\n",
       "\n",
       "    .dataframe tbody tr th {\n",
       "        vertical-align: top;\n",
       "    }\n",
       "\n",
       "    .dataframe thead th {\n",
       "        text-align: right;\n",
       "    }\n",
       "</style>\n",
       "<table border=\"1\" class=\"dataframe\">\n",
       "  <thead>\n",
       "    <tr style=\"text-align: right;\">\n",
       "      <th></th>\n",
       "      <th>Amount.Requested</th>\n",
       "      <th>Monthly.Income</th>\n",
       "    </tr>\n",
       "  </thead>\n",
       "  <tbody>\n",
       "    <tr>\n",
       "      <th>count</th>\n",
       "      <td>2495.000000</td>\n",
       "      <td>2497.000000</td>\n",
       "    </tr>\n",
       "    <tr>\n",
       "      <th>mean</th>\n",
       "      <td>12412.414830</td>\n",
       "      <td>5689.716608</td>\n",
       "    </tr>\n",
       "    <tr>\n",
       "      <th>std</th>\n",
       "      <td>7805.575427</td>\n",
       "      <td>3963.568002</td>\n",
       "    </tr>\n",
       "    <tr>\n",
       "      <th>min</th>\n",
       "      <td>1000.000000</td>\n",
       "      <td>588.500000</td>\n",
       "    </tr>\n",
       "    <tr>\n",
       "      <th>25%</th>\n",
       "      <td>6000.000000</td>\n",
       "      <td>3500.000000</td>\n",
       "    </tr>\n",
       "    <tr>\n",
       "      <th>50%</th>\n",
       "      <td>10000.000000</td>\n",
       "      <td>5000.000000</td>\n",
       "    </tr>\n",
       "    <tr>\n",
       "      <th>75%</th>\n",
       "      <td>17000.000000</td>\n",
       "      <td>6800.000000</td>\n",
       "    </tr>\n",
       "    <tr>\n",
       "      <th>max</th>\n",
       "      <td>35000.000000</td>\n",
       "      <td>102750.000000</td>\n",
       "    </tr>\n",
       "  </tbody>\n",
       "</table>\n",
       "</div>"
      ],
      "text/plain": [
       "       Amount.Requested  Monthly.Income\n",
       "count       2495.000000     2497.000000\n",
       "mean       12412.414830     5689.716608\n",
       "std         7805.575427     3963.568002\n",
       "min         1000.000000      588.500000\n",
       "25%         6000.000000     3500.000000\n",
       "50%        10000.000000     5000.000000\n",
       "75%        17000.000000     6800.000000\n",
       "max        35000.000000   102750.000000"
      ]
     },
     "execution_count": 163,
     "metadata": {},
     "output_type": "execute_result"
    }
   ],
   "source": [
    "df[['Amount.Requested','Monthly.Income','Amount.Funded.By.Investors','Interest.Rate']].describe()"
   ]
  },
  {
   "cell_type": "code",
   "execution_count": 164,
   "id": "d2d06511-5eaf-4a91-87f9-360613f9d550",
   "metadata": {},
   "outputs": [
    {
     "data": {
      "text/html": [
       "<div>\n",
       "<style scoped>\n",
       "    .dataframe tbody tr th:only-of-type {\n",
       "        vertical-align: middle;\n",
       "    }\n",
       "\n",
       "    .dataframe tbody tr th {\n",
       "        vertical-align: top;\n",
       "    }\n",
       "\n",
       "    .dataframe thead th {\n",
       "        text-align: right;\n",
       "    }\n",
       "</style>\n",
       "<table border=\"1\" class=\"dataframe\">\n",
       "  <thead>\n",
       "    <tr style=\"text-align: right;\">\n",
       "      <th></th>\n",
       "      <th>Amount.Funded.By.Investors</th>\n",
       "      <th>Interest.Rate</th>\n",
       "    </tr>\n",
       "  </thead>\n",
       "  <tbody>\n",
       "    <tr>\n",
       "      <th>count</th>\n",
       "      <td>2499</td>\n",
       "      <td>2500</td>\n",
       "    </tr>\n",
       "    <tr>\n",
       "      <th>unique</th>\n",
       "      <td>710</td>\n",
       "      <td>275</td>\n",
       "    </tr>\n",
       "    <tr>\n",
       "      <th>top</th>\n",
       "      <td>10000</td>\n",
       "      <td>12.12%</td>\n",
       "    </tr>\n",
       "    <tr>\n",
       "      <th>freq</th>\n",
       "      <td>164</td>\n",
       "      <td>122</td>\n",
       "    </tr>\n",
       "  </tbody>\n",
       "</table>\n",
       "</div>"
      ],
      "text/plain": [
       "       Amount.Funded.By.Investors Interest.Rate\n",
       "count                        2499          2500\n",
       "unique                        710           275\n",
       "top                         10000        12.12%\n",
       "freq                          164           122"
      ]
     },
     "execution_count": 164,
     "metadata": {},
     "output_type": "execute_result"
    }
   ],
   "source": [
    "df[['Amount.Funded.By.Investors','Interest.Rate']].describe()"
   ]
  },
  {
   "cell_type": "code",
   "execution_count": 165,
   "id": "34bdb476-bba6-4451-9946-0527efdb820f",
   "metadata": {},
   "outputs": [
    {
     "data": {
      "text/plain": [
       "count         2499\n",
       "unique           5\n",
       "top       MORTGAGE\n",
       "freq          1147\n",
       "Name: Home.Ownership, dtype: object"
      ]
     },
     "execution_count": 165,
     "metadata": {},
     "output_type": "execute_result"
    }
   ],
   "source": [
    "df['Home.Ownership'].describe()"
   ]
  },
  {
   "cell_type": "code",
   "execution_count": 153,
   "id": "298a570a-f2a4-4a98-b607-30dce5bdad75",
   "metadata": {},
   "outputs": [
    {
     "data": {
      "text/plain": [
       "dtype('O')"
      ]
     },
     "execution_count": 153,
     "metadata": {},
     "output_type": "execute_result"
    }
   ],
   "source": [
    "df['Amount.Requested'].dtype"
   ]
  },
  {
   "cell_type": "code",
   "execution_count": 154,
   "id": "b439a673-cb27-40d8-b409-770391e69187",
   "metadata": {},
   "outputs": [
    {
     "data": {
      "text/plain": [
       "Amount.Requested\n",
       "10000    205\n",
       "12000    150\n",
       "5000     110\n",
       "20000    107\n",
       "6000     103\n",
       "        ... \n",
       "24175      1\n",
       "11750      1\n",
       "19725      1\n",
       "32400      1\n",
       "8475       1\n",
       "Name: count, Length: 381, dtype: int64"
      ]
     },
     "execution_count": 154,
     "metadata": {},
     "output_type": "execute_result"
    }
   ],
   "source": [
    "df['Amount.Requested'].value_counts()"
   ]
  },
  {
   "cell_type": "code",
   "execution_count": 159,
   "id": "15fde5b4-e793-424a-af57-50291b843b10",
   "metadata": {},
   "outputs": [],
   "source": [
    "df['Amount.Requested'] = pd.to_numeric(df['Amount.Requested'], errors = 'coerce')"
   ]
  },
  {
   "cell_type": "code",
   "execution_count": 160,
   "id": "9fc3de48-5668-48ec-acf3-ca425a24aebb",
   "metadata": {},
   "outputs": [
    {
     "data": {
      "text/plain": [
       "count     2495.000000\n",
       "mean     12412.414830\n",
       "std       7805.575427\n",
       "min       1000.000000\n",
       "25%       6000.000000\n",
       "50%      10000.000000\n",
       "75%      17000.000000\n",
       "max      35000.000000\n",
       "Name: Amount.Requested, dtype: float64"
      ]
     },
     "execution_count": 160,
     "metadata": {},
     "output_type": "execute_result"
    }
   ],
   "source": [
    "df['Amount.Requested'].describe()"
   ]
  },
  {
   "cell_type": "code",
   "execution_count": 172,
   "id": "333ad059-fc6e-4f29-b0f3-4486e96def33",
   "metadata": {},
   "outputs": [
    {
     "data": {
      "text/plain": [
       "35000.0"
      ]
     },
     "execution_count": 172,
     "metadata": {},
     "output_type": "execute_result"
    }
   ],
   "source": [
    "df['Amount.Requested'].max()"
   ]
  },
  {
   "cell_type": "code",
   "execution_count": 161,
   "id": "6382194c-a684-4963-b336-c68c7e2d5cfd",
   "metadata": {},
   "outputs": [
    {
     "data": {
      "text/plain": [
       "count     2499\n",
       "unique      47\n",
       "top         CA\n",
       "freq       433\n",
       "Name: State, dtype: object"
      ]
     },
     "execution_count": 161,
     "metadata": {},
     "output_type": "execute_result"
    }
   ],
   "source": [
    "df['State'].describe()"
   ]
  },
  {
   "cell_type": "code",
   "execution_count": null,
   "id": "8f806ca1-5f5a-4db2-b93a-44ea94cbb4d0",
   "metadata": {},
   "outputs": [],
   "source": [
    "df[['Amount.Requested','Monthly.Income','Amount.Funded.By.Investors','Interest.Rate']].min()"
   ]
  },
  {
   "cell_type": "code",
   "execution_count": null,
   "id": "8198578d-7916-4ac6-be19-019ed3cc2d34",
   "metadata": {},
   "outputs": [],
   "source": [
    "df[['Amount.Requested','Monthly.Income','Amount.Funded.By.Investors','Interest.Rate']].max()"
   ]
  },
  {
   "cell_type": "code",
   "execution_count": null,
   "id": "8f7d3a61-8e39-406f-aa98-6b5ebf5def15",
   "metadata": {},
   "outputs": [],
   "source": [
    "df[['Amount.Requested','Monthly.Income','Amount.Funded.By.Investors','Interest.Rate']].mean()"
   ]
  },
  {
   "cell_type": "code",
   "execution_count": null,
   "id": "c03e771c-5aed-47b8-ba18-233e37c65fae",
   "metadata": {},
   "outputs": [],
   "source": [
    "df[['Amount.Requested','Monthly.Income','Amount.Funded.By.Investors','Interest.Rate']].median()"
   ]
  },
  {
   "cell_type": "code",
   "execution_count": null,
   "id": "dd0edb75-799d-4fbd-87bf-af541cfe69ab",
   "metadata": {},
   "outputs": [],
   "source": [
    "df[['Amount.Requested','Monthly.Income','Amount.Funded.By.Investors','Interest.Rate']].sum()"
   ]
  },
  {
   "cell_type": "code",
   "execution_count": null,
   "id": "e7b54dba-d0eb-40dc-b5fc-6e45d7136d2d",
   "metadata": {},
   "outputs": [],
   "source": [
    "df[['Amount.Requested','Monthly.Income','Amount.Funded.By.Investors','Interest.Rate']].quantile(0.25)"
   ]
  },
  {
   "cell_type": "code",
   "execution_count": null,
   "id": "ae19406e-76cb-43b5-a370-f95446d9a19b",
   "metadata": {},
   "outputs": [],
   "source": [
    "df[['Amount.Requested','Monthly.Income','Amount.Funded.By.Investors','Interest.Rate']].quantile(0.5)"
   ]
  },
  {
   "cell_type": "code",
   "execution_count": null,
   "id": "762d849f-3c3a-4b2f-909f-19b1648bc3ce",
   "metadata": {},
   "outputs": [],
   "source": [
    "df[['Amount.Requested','Monthly.Income','Amount.Funded.By.Investors','Interest.Rate']].quantile(0.75)"
   ]
  },
  {
   "cell_type": "code",
   "execution_count": null,
   "id": "a06b186c-1616-4c78-add2-976a3b9b89f5",
   "metadata": {},
   "outputs": [],
   "source": [
    "df"
   ]
  },
  {
   "cell_type": "code",
   "execution_count": null,
   "id": "db5db37c-25b0-4e9e-b741-a99c89272a2b",
   "metadata": {},
   "outputs": [],
   "source": [
    "df['State'].value_counts()"
   ]
  },
  {
   "cell_type": "code",
   "execution_count": null,
   "id": "2a582b56-d711-4289-8ce9-7f5c225cd4d7",
   "metadata": {},
   "outputs": [],
   "source": [
    "df['State'].value_counts().values"
   ]
  },
  {
   "cell_type": "code",
   "execution_count": null,
   "id": "f7423206-6f68-406b-aa9f-22cf344adda1",
   "metadata": {},
   "outputs": [],
   "source": [
    "df[['Home.Ownership','State']].value_counts()"
   ]
  },
  {
   "cell_type": "markdown",
   "id": "598cdbd3-2395-4af6-a551-a5720e4a77b0",
   "metadata": {},
   "source": [
    "# Bivariate Statistics"
   ]
  },
  {
   "cell_type": "code",
   "execution_count": null,
   "id": "9212edd5-008e-4713-9d75-a397b86eada0",
   "metadata": {},
   "outputs": [],
   "source": [
    "df.select_dtypes(['object']).columns"
   ]
  },
  {
   "cell_type": "code",
   "execution_count": 174,
   "id": "75fc6f76-9ce2-4f1d-b957-e6cc813c5d54",
   "metadata": {},
   "outputs": [
    {
     "data": {
      "text/html": [
       "<div>\n",
       "<style scoped>\n",
       "    .dataframe tbody tr th:only-of-type {\n",
       "        vertical-align: middle;\n",
       "    }\n",
       "\n",
       "    .dataframe tbody tr th {\n",
       "        vertical-align: top;\n",
       "    }\n",
       "\n",
       "    .dataframe thead th {\n",
       "        text-align: right;\n",
       "    }\n",
       "</style>\n",
       "<table border=\"1\" class=\"dataframe\">\n",
       "  <thead>\n",
       "    <tr style=\"text-align: right;\">\n",
       "      <th>Loan.Length</th>\n",
       "      <th>.</th>\n",
       "      <th>36 months</th>\n",
       "      <th>60 months</th>\n",
       "    </tr>\n",
       "    <tr>\n",
       "      <th>State</th>\n",
       "      <th></th>\n",
       "      <th></th>\n",
       "      <th></th>\n",
       "    </tr>\n",
       "  </thead>\n",
       "  <tbody>\n",
       "    <tr>\n",
       "      <th>.</th>\n",
       "      <td>0</td>\n",
       "      <td>1</td>\n",
       "      <td>0</td>\n",
       "    </tr>\n",
       "    <tr>\n",
       "      <th>AK</th>\n",
       "      <td>0</td>\n",
       "      <td>6</td>\n",
       "      <td>5</td>\n",
       "    </tr>\n",
       "    <tr>\n",
       "      <th>AL</th>\n",
       "      <td>0</td>\n",
       "      <td>28</td>\n",
       "      <td>10</td>\n",
       "    </tr>\n",
       "    <tr>\n",
       "      <th>AR</th>\n",
       "      <td>0</td>\n",
       "      <td>12</td>\n",
       "      <td>1</td>\n",
       "    </tr>\n",
       "    <tr>\n",
       "      <th>AZ</th>\n",
       "      <td>0</td>\n",
       "      <td>37</td>\n",
       "      <td>9</td>\n",
       "    </tr>\n",
       "    <tr>\n",
       "      <th>CA</th>\n",
       "      <td>0</td>\n",
       "      <td>352</td>\n",
       "      <td>81</td>\n",
       "    </tr>\n",
       "    <tr>\n",
       "      <th>CO</th>\n",
       "      <td>0</td>\n",
       "      <td>51</td>\n",
       "      <td>10</td>\n",
       "    </tr>\n",
       "    <tr>\n",
       "      <th>CT</th>\n",
       "      <td>0</td>\n",
       "      <td>40</td>\n",
       "      <td>10</td>\n",
       "    </tr>\n",
       "    <tr>\n",
       "      <th>DC</th>\n",
       "      <td>0</td>\n",
       "      <td>6</td>\n",
       "      <td>5</td>\n",
       "    </tr>\n",
       "    <tr>\n",
       "      <th>DE</th>\n",
       "      <td>0</td>\n",
       "      <td>5</td>\n",
       "      <td>3</td>\n",
       "    </tr>\n",
       "    <tr>\n",
       "      <th>FL</th>\n",
       "      <td>0</td>\n",
       "      <td>138</td>\n",
       "      <td>31</td>\n",
       "    </tr>\n",
       "    <tr>\n",
       "      <th>GA</th>\n",
       "      <td>0</td>\n",
       "      <td>73</td>\n",
       "      <td>24</td>\n",
       "    </tr>\n",
       "    <tr>\n",
       "      <th>HI</th>\n",
       "      <td>0</td>\n",
       "      <td>8</td>\n",
       "      <td>4</td>\n",
       "    </tr>\n",
       "    <tr>\n",
       "      <th>IA</th>\n",
       "      <td>0</td>\n",
       "      <td>1</td>\n",
       "      <td>0</td>\n",
       "    </tr>\n",
       "    <tr>\n",
       "      <th>IL</th>\n",
       "      <td>0</td>\n",
       "      <td>76</td>\n",
       "      <td>25</td>\n",
       "    </tr>\n",
       "    <tr>\n",
       "      <th>IN</th>\n",
       "      <td>0</td>\n",
       "      <td>2</td>\n",
       "      <td>1</td>\n",
       "    </tr>\n",
       "    <tr>\n",
       "      <th>KS</th>\n",
       "      <td>0</td>\n",
       "      <td>15</td>\n",
       "      <td>6</td>\n",
       "    </tr>\n",
       "    <tr>\n",
       "      <th>KY</th>\n",
       "      <td>0</td>\n",
       "      <td>16</td>\n",
       "      <td>7</td>\n",
       "    </tr>\n",
       "    <tr>\n",
       "      <th>LA</th>\n",
       "      <td>0</td>\n",
       "      <td>15</td>\n",
       "      <td>7</td>\n",
       "    </tr>\n",
       "    <tr>\n",
       "      <th>MA</th>\n",
       "      <td>0</td>\n",
       "      <td>62</td>\n",
       "      <td>11</td>\n",
       "    </tr>\n",
       "    <tr>\n",
       "      <th>MD</th>\n",
       "      <td>0</td>\n",
       "      <td>49</td>\n",
       "      <td>19</td>\n",
       "    </tr>\n",
       "    <tr>\n",
       "      <th>MI</th>\n",
       "      <td>0</td>\n",
       "      <td>37</td>\n",
       "      <td>8</td>\n",
       "    </tr>\n",
       "    <tr>\n",
       "      <th>MN</th>\n",
       "      <td>0</td>\n",
       "      <td>28</td>\n",
       "      <td>10</td>\n",
       "    </tr>\n",
       "    <tr>\n",
       "      <th>MO</th>\n",
       "      <td>0</td>\n",
       "      <td>24</td>\n",
       "      <td>9</td>\n",
       "    </tr>\n",
       "    <tr>\n",
       "      <th>MS</th>\n",
       "      <td>0</td>\n",
       "      <td>1</td>\n",
       "      <td>0</td>\n",
       "    </tr>\n",
       "    <tr>\n",
       "      <th>MT</th>\n",
       "      <td>0</td>\n",
       "      <td>6</td>\n",
       "      <td>1</td>\n",
       "    </tr>\n",
       "    <tr>\n",
       "      <th>NC</th>\n",
       "      <td>0</td>\n",
       "      <td>48</td>\n",
       "      <td>16</td>\n",
       "    </tr>\n",
       "    <tr>\n",
       "      <th>NH</th>\n",
       "      <td>0</td>\n",
       "      <td>11</td>\n",
       "      <td>4</td>\n",
       "    </tr>\n",
       "    <tr>\n",
       "      <th>NJ</th>\n",
       "      <td>0</td>\n",
       "      <td>77</td>\n",
       "      <td>17</td>\n",
       "    </tr>\n",
       "    <tr>\n",
       "      <th>NM</th>\n",
       "      <td>0</td>\n",
       "      <td>8</td>\n",
       "      <td>5</td>\n",
       "    </tr>\n",
       "    <tr>\n",
       "      <th>NV</th>\n",
       "      <td>0</td>\n",
       "      <td>24</td>\n",
       "      <td>8</td>\n",
       "    </tr>\n",
       "    <tr>\n",
       "      <th>NY</th>\n",
       "      <td>0</td>\n",
       "      <td>193</td>\n",
       "      <td>62</td>\n",
       "    </tr>\n",
       "    <tr>\n",
       "      <th>OH</th>\n",
       "      <td>0</td>\n",
       "      <td>55</td>\n",
       "      <td>15</td>\n",
       "    </tr>\n",
       "    <tr>\n",
       "      <th>OK</th>\n",
       "      <td>0</td>\n",
       "      <td>14</td>\n",
       "      <td>7</td>\n",
       "    </tr>\n",
       "    <tr>\n",
       "      <th>OR</th>\n",
       "      <td>0</td>\n",
       "      <td>25</td>\n",
       "      <td>5</td>\n",
       "    </tr>\n",
       "    <tr>\n",
       "      <th>PA</th>\n",
       "      <td>0</td>\n",
       "      <td>77</td>\n",
       "      <td>19</td>\n",
       "    </tr>\n",
       "    <tr>\n",
       "      <th>RI</th>\n",
       "      <td>0</td>\n",
       "      <td>10</td>\n",
       "      <td>5</td>\n",
       "    </tr>\n",
       "    <tr>\n",
       "      <th>SC</th>\n",
       "      <td>0</td>\n",
       "      <td>25</td>\n",
       "      <td>3</td>\n",
       "    </tr>\n",
       "    <tr>\n",
       "      <th>SD</th>\n",
       "      <td>0</td>\n",
       "      <td>4</td>\n",
       "      <td>0</td>\n",
       "    </tr>\n",
       "    <tr>\n",
       "      <th>TX</th>\n",
       "      <td>0</td>\n",
       "      <td>145</td>\n",
       "      <td>29</td>\n",
       "    </tr>\n",
       "    <tr>\n",
       "      <th>UT</th>\n",
       "      <td>0</td>\n",
       "      <td>15</td>\n",
       "      <td>1</td>\n",
       "    </tr>\n",
       "    <tr>\n",
       "      <th>VA</th>\n",
       "      <td>0</td>\n",
       "      <td>55</td>\n",
       "      <td>23</td>\n",
       "    </tr>\n",
       "    <tr>\n",
       "      <th>VT</th>\n",
       "      <td>0</td>\n",
       "      <td>2</td>\n",
       "      <td>3</td>\n",
       "    </tr>\n",
       "    <tr>\n",
       "      <th>WA</th>\n",
       "      <td>0</td>\n",
       "      <td>42</td>\n",
       "      <td>16</td>\n",
       "    </tr>\n",
       "    <tr>\n",
       "      <th>WI</th>\n",
       "      <td>0</td>\n",
       "      <td>18</td>\n",
       "      <td>8</td>\n",
       "    </tr>\n",
       "    <tr>\n",
       "      <th>WV</th>\n",
       "      <td>1</td>\n",
       "      <td>8</td>\n",
       "      <td>5</td>\n",
       "    </tr>\n",
       "    <tr>\n",
       "      <th>WY</th>\n",
       "      <td>0</td>\n",
       "      <td>4</td>\n",
       "      <td>0</td>\n",
       "    </tr>\n",
       "  </tbody>\n",
       "</table>\n",
       "</div>"
      ],
      "text/plain": [
       "Loan.Length  .  36 months  60 months\n",
       "State                               \n",
       ".            0          1          0\n",
       "AK           0          6          5\n",
       "AL           0         28         10\n",
       "AR           0         12          1\n",
       "AZ           0         37          9\n",
       "CA           0        352         81\n",
       "CO           0         51         10\n",
       "CT           0         40         10\n",
       "DC           0          6          5\n",
       "DE           0          5          3\n",
       "FL           0        138         31\n",
       "GA           0         73         24\n",
       "HI           0          8          4\n",
       "IA           0          1          0\n",
       "IL           0         76         25\n",
       "IN           0          2          1\n",
       "KS           0         15          6\n",
       "KY           0         16          7\n",
       "LA           0         15          7\n",
       "MA           0         62         11\n",
       "MD           0         49         19\n",
       "MI           0         37          8\n",
       "MN           0         28         10\n",
       "MO           0         24          9\n",
       "MS           0          1          0\n",
       "MT           0          6          1\n",
       "NC           0         48         16\n",
       "NH           0         11          4\n",
       "NJ           0         77         17\n",
       "NM           0          8          5\n",
       "NV           0         24          8\n",
       "NY           0        193         62\n",
       "OH           0         55         15\n",
       "OK           0         14          7\n",
       "OR           0         25          5\n",
       "PA           0         77         19\n",
       "RI           0         10          5\n",
       "SC           0         25          3\n",
       "SD           0          4          0\n",
       "TX           0        145         29\n",
       "UT           0         15          1\n",
       "VA           0         55         23\n",
       "VT           0          2          3\n",
       "WA           0         42         16\n",
       "WI           0         18          8\n",
       "WV           1          8          5\n",
       "WY           0          4          0"
      ]
     },
     "execution_count": 174,
     "metadata": {},
     "output_type": "execute_result"
    }
   ],
   "source": [
    "pd.crosstab(df['State'],df['Loan.Length'])"
   ]
  },
  {
   "cell_type": "code",
   "execution_count": null,
   "id": "bcb66b60-b35a-47ee-b98c-b7b500746cfd",
   "metadata": {},
   "outputs": [],
   "source": []
  }
 ],
 "metadata": {
  "kernelspec": {
   "display_name": "Python 3 (ipykernel)",
   "language": "python",
   "name": "python3"
  },
  "language_info": {
   "codemirror_mode": {
    "name": "ipython",
    "version": 3
   },
   "file_extension": ".py",
   "mimetype": "text/x-python",
   "name": "python",
   "nbconvert_exporter": "python",
   "pygments_lexer": "ipython3",
   "version": "3.12.0"
  }
 },
 "nbformat": 4,
 "nbformat_minor": 5
}
       